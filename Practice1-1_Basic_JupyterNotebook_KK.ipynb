{
 "cells": [
  {
   "cell_type": "markdown",
   "metadata": {},
   "source": [
    "# [**Jupyter Notebook 사용법**](https://jupyter-notebook.readthedocs.io/en/stable/examples/Notebook/examples_index.html)\n",
    "\n",
    "> **\"`기본적인 실습 환경`을 이해하고 사용방법을 학습하며, Python을 사용한 실습은 기본적으로 Jupyter Notebook에서 진행되기 때문에 `Jupyter Notebook 사용방법`을 학습한다\"**\n",
    "\n",
    "[![Open in Colab](http://colab.research.google.com/assets/colab-badge.svg)](https://colab.research.google.com/github/thekimk/Tutorial-Python-Programming/blob/main/Practice1-1_Basic_JupyterNotebook_KK.ipynb)\n",
    "\n",
    "<span style=\"color:red\">**(주의: Python / Colab은 비즈니스 환경이 변하듯 효율적으로 실시간 디자인과 사용환경을 개선/변경하기 때문에 강의영상이나 여러분들의 화면은 차이가 있을 수 있음!)**</span>\n",
    "\n",
    "---\n",
    "\n",
    "- `주피터 노트북(Jupyter Notebook)`은 `웹 브라우저에서 파이썬 코드`를 작성하고 실행해 볼 수 있는 개발도구\n",
    "- `아나콘다(Anaconda)`를 설치하면 Jupyter Notebook이 함께 설치되어 바로 사용할 수 있음\n",
    "- `Jupyter Notebook 서버`와 사용자가 코딩하는데 사용되는 `웹 브라우저` 등 2개의 프로그램이 실행\n",
    "\n",
    "> **(1) Notebook 서버:** `백그라운드에서 실행`되는 파이썬 프로그램으로 웹 브라우저를 통해 접속하는 서버 프로그램이며 실제 `실행한 파이썬 코드는 여기서 기계어로 바뀌며 작동`\n",
    "![JN_NBServer](Image/Basic/JN_NBServer.png)\n",
    "> <br>\n",
    ">\n",
    "> **(2) 웹 브라우저:** `파이썬 코드를 입력 및 실행` 할 수 있는 UI를 제공하는 기능으로 코드를 Notebook 서버에 입력후 결과를 다시 웹 브라우저에 출력함\n",
    ">\n",
    "> <span style=\"color:red\">**(주의: 아래 화면은 작업경로를 임의로 변경하여 실행한 화면으로 강의영상이나 여러분들의 화면은 차이가 있을 수 있음!)**</span>\n",
    "![JN_Web](Image/Basic/JN_Web.png)"
   ]
  },
  {
   "cell_type": "markdown",
   "metadata": {},
   "source": [
    "## 새 텍스트 파일 생성 / 폴더 생성 / 터미널 접근\n",
    "\n",
    "- 오른쪽 부분의 New 버튼을 클릭하면 **`Notebook(Python 작업공간), Terminal, Console, New File, New Folder** 등의 옵션 선택 가능\n",
    "\n",
    "![JN_Nofile](Image/Basic/JN_Nofile.png)\n",
    "\n",
    "**1) 새 텍스트 파일 생성:**\n",
    "\n",
    "- `New File`을 선택하면 파일명 변경이 가능한 별도의 `txt 파일이 생성`된 창을 확인 가능\n",
    "- `파일명 변경` 가능하며 데이터를 붙여넣거나 메모와 같은 내용을 작성 가능\n",
    "- `확장자를 변경`하면 다른 어플리케이션 용 파일로 생성 가능(`.py`)\n",
    "\n",
    "![JN_NewText](Image/Basic/JN_NewText.png)\n",
    "\n",
    "**2) 새 폴더 생성:**\n",
    "\n",
    "- `New Folder`를 선택하면 폴더명 변경이 가능한 별도의 `새로운 폴더가 생성`\n",
    "- `탐색기의 폴더`에도 동일하게 생성됨\n",
    "\n",
    "![JN_NewFolder](Image/Basic/JN_NewFolder.png)\n",
    "\n",
    "**3) 터미널 접근:**\n",
    "\n",
    "- **터미널(Terminal):** 컴퓨터와 사용자 간 소통을 위한 **`고전적`** 방식의 **`텍스트`** 기반 인터페이스\n",
    "- 설치한 아나콘다 프로그램에 접근하여 `변경/관리` 하기 위한 프로그램\n",
    "- 윈도우나 맥 등의 명령창과 같고 `파일 구성을 보거나 실행` 가능(`py 파일 포함`)\n",
    "- `Terminal`을 선택하면 새로운 창이 뜨면서 `아나콘다 설치 환경에 진입`\n",
    "\n",
    "> - **IPython:** `터미널`에서 파이썬 코드를 실행 하는 프로그램\n",
    "> - **Jupyter:** `웹` 상에서 파이썬 코드를 실행 할 수 있는 웹 인터페이스\n",
    "> - **Jupyter Notebook:** `IPython에 노트북 기능이 탑재`되고 버전 상승 및 다른 프로그래밍 언어를 지원하면서 이름 변경된 `범용 프로그램`\n",
    "> - 단순한 차이는 **`텍스트`** 기반이냐 **`그래픽`** 기반이냐\n",
    "\n",
    "![JN_Terminal](Image/Basic/JN_Terminal.png)"
   ]
  },
  {
   "cell_type": "markdown",
   "metadata": {},
   "source": [
    "## 새 파일 생성\n",
    "\n",
    "- 오른쪽 부분의 New 버튼을 클릭하면 **`Notebook(Python 작업공간), Terminal, Console, New File, New Folder`** 등의 옵션 선택 가능\n",
    "- **`Notebook`** 을 클릭하여 파이썬 언어를 사용하여 대화할 수 있는 별도파일과 `셀 이라는 코드를 작성하고 실행하는 공간`이 생김\n",
    "- 제목은 **`Untitled.ipynb`** 라는 파일로 자동 생성되지면 클릭하여 파일명 수정 가능\n",
    "\n",
    "![JN_FileOpen](Image/Basic/JN_FileOpen.png)\n",
    "\n",
    "- 이전 폴더 경로에는 생성된 파일을 확인 가능\n",
    "\n",
    "![JN_Folder](Image/Basic/JN_Folder.png)\n",
    "\n",
    "- **Question:** **`본인이름이니셜.ipynb`** 파일을 새롭게 만들어 보시오"
   ]
  },
  {
   "cell_type": "code",
   "execution_count": null,
   "metadata": {},
   "outputs": [],
   "source": []
  },
  {
   "cell_type": "markdown",
   "metadata": {},
   "source": [
    "## 입력모드와 명령모드\n",
    "\n",
    "- **입력모드:** `내용을 작성/편집` 할 수 있는 모드가 되며 테두리가 **`초록색`** 으로 변함\n",
    "- **명령모드:** `내용 작성은 불가`한 상태로 테두리가 **`파란색`** 으로 변하며 각 셀의 이동/관리를 위한 모드\n",
    "\n",
    "> - **명령모드 $\\rightarrow$ 입력모드:** `Enter`\n",
    "> - **입력모드 $\\rightarrow$ 명령모드:** `Esc`"
   ]
  },
  {
   "cell_type": "code",
   "execution_count": null,
   "metadata": {},
   "outputs": [],
   "source": []
  },
  {
   "cell_type": "markdown",
   "metadata": {},
   "source": [
    "## 셀의 종류와 실행\n",
    "\n",
    "- **셀:** `코드나 문서를 작성`할 수 있는 공간의 이름\n",
    "\n",
    "> - **`Code/Markdown/Raw`** 중 주로 **`Code`** 와 **`Markdown`** 을 사용하며 메뉴의 드롭다운 형식으로 선택\n",
    ">> - **Code:** `파이썬 코드`를 입력하고 실행하기 위한 목적\n",
    ">> - **Markdown:** 마크다운 코드로 `설명과 이미지 포함 문서화` 목적\n",
    ">> - **Raw:** 입력된 내용을 `그대로(Raw) 출력`\n",
    ">\n",
    "> - **단축키:**\n",
    ">> - **Code $\\rightarrow$ Markdown:** `m`\n",
    ">> - **Markdown $\\rightarrow$ Code:** `y`\n",
    "\n",
    "**1) Code:** 파이썬 언어를 사용하여 일반 코드를 실행하기 위한 목적\n",
    "\n",
    "- 셀을 생성시 기본적으로 Code Cell로 생성됨\n",
    "\n",
    "| **기능** | **방법** |\n",
    "|:---|:---|\n",
    "| **Cell 추가** | 메뉴의 `Insert` 를 누르고 위나 아래에 셀을 추가하는 항목 선택 |\n",
    "|  | `단축키`를 사용하여 위(`A`)와 아래(`B`)에 셀을 추가 가능 |\n",
    "| **Cell 삭제** | 메뉴의 `Edit`에서 셀삭제를 하거나 단축키(`D`)를 두번 연속눌러 삭제 |\n",
    "| **Cell 이동** | 마우스로 다른 셀을 클릭하거나 `명령모드`에서 키보드 화살표로 이동 |\n",
    "|  | `편집모드`에선 키보드 화살표로 Cell 마지막 줄까지 이동 후 다음 셀로 이동 가능 |\n",
    "| **Cell 위치 변경** | 메뉴의 `위/아래 화살표` 사용 |\n",
    "|  | 메뉴의 `[Edit] -> 위/아래 셀 이동` 클릭 |\n",
    "| **Cell 나누기** | **Ctrl + Shift + '-':** 셀 내 커서가 위치한 곳 기준으로 위 아래로 셀 분리 |\n",
    "| **Cell 합치기** | **Shift + 'M':** 바로 아래의 셀과 합쳐짐 |\n",
    "| **Cell 실행** | **Enter:** 셀의 코드가 실행되지 않고 셀 내에서 줄바꿈 |\n",
    "|  | **Ctrl + Enter:** 셀의 코드가 실행되고 셀은 명령모드로 전환 |\n",
    "|  | **Alt + Enter:** 셀의 코드가 실행되고 아래에 편집모드 상태의 신규 셀 생성 |\n",
    "|  | **Shift + Enter:** 셀의 코드가 실행되고 아래에 명령모드 상태의 셀로 이동 |\n",
    "|  | 메뉴의 `Run` 클릭 |\n",
    "|  | 메뉴의 `[Cell] -> [Run Cell]` 실행시 모든 셀이 순차적으로 실행 |\n",
    "|  | 메뉴의 `[Cell] -> [Run All Above]` 실행시 선택 셀 이전 모든 셀 실행 |\n",
    "|  | 메뉴의 `[Cell] -> [Run All Below]` 실행시 선택 셀 이후 모든 셀 실행 |\n",
    "|  | 기본적으로 각 셀마다 실행되도록 설계됨 |\n",
    "\n",
    "---\n",
    "\n",
    "- **Question:** (1) 아래 그림과 같이 `5개의 빈 셀`을 만들고, (2) 맨 위 `2개의 셀`을 합치시오\n",
    "\n",
    "![JN_5Cells](Image/Basic/JN_5Cells.png)"
   ]
  },
  {
   "cell_type": "markdown",
   "metadata": {},
   "source": [
    "---\n",
    "\n",
    "**2) Markdown:** 코드는 실행되지 않고, `코드설명/수식/문서화/구분`을 위해 주로 사용\n",
    "\n",
    "> **\"수식은 Latex 언어기반 문법을 따르며, 코드의 긴 설명이나 결과 설명 등의 이미지, 영상, 링크 추가 등과 같은 다양한 자료를 활용할 수 있음\"**\n",
    "\n",
    "![JN_Math](Image/Basic/JN_Math.png)\n",
    "\n",
    "> - 새로운 셀을 추가하는 방법은 위와 아래에 `Code 셀을 추가`하고 `Markdown 셀로 변경`\n",
    "> - 마크다운 셀을 `이동/실행/위치변경` 방법은 코드 셀을 이동/실행/위치변경하는 방법과 동일\n",
    "> - Code 셀 실행 시, `셀 내용이 전부 실행`되고 `결과가 하단에 출력`되지만, Markdown 셀 실행시, `셀 내용이 전부 문서화 출력`\n",
    "> - Code 셀 실행 시, 셀 옆의 **`'In []'`** 과 **`'Out []'`** 에 `누적 실행 숫자`가 표시되지만, Markdown 셀 실행시, `실행 횟수 미표시`\n",
    "\n",
    "---\n",
    "\n",
    "- **Question:** (1) **`본인이름이니셜.ipynb`** 파일 생성하고, (2) Markdown 셀을 만들고, (3) 하기 내용을 복사 및 붙여넣기 실행하여 결과출력 후, (4) 출력된 Markdown 셀을 Code 셀로 변환하여 다시 결과를 출력하시오\n",
    "\n",
    "```python\n",
    "A = \"My name is \"\n",
    "B = \"KK\"\n",
    "print(A+B)\n",
    "```"
   ]
  },
  {
   "cell_type": "code",
   "execution_count": null,
   "metadata": {},
   "outputs": [],
   "source": []
  },
  {
   "cell_type": "markdown",
   "metadata": {},
   "source": [
    "## Code 셀의 주석처리\n",
    "\n",
    "> **\"파이썬 코드에서 사람만 알아볼 수 있도록 작성하는 부분을 `주석(Comment)`이라고 하며 프로그램 실행에는 영향을 주지 않음\"**"
   ]
  },
  {
   "cell_type": "code",
   "execution_count": 1,
   "metadata": {
    "ExecuteTime": {
     "end_time": "2022-07-15T15:13:35.058658Z",
     "start_time": "2022-07-15T15:13:35.054654Z"
    }
   },
   "outputs": [
    {
     "name": "stdout",
     "output_type": "stream",
     "text": [
      "Hello, world!\n"
     ]
    }
   ],
   "source": [
    "# Hello, world! 출력\n",
    "print('Hello, world!')  # Hello, world! 출력"
   ]
  },
  {
   "cell_type": "markdown",
   "metadata": {},
   "source": [
    "- 코드 맨 앞에 **`#`** 을 사용하면 해당 줄은 모두 주석으로 간주\n",
    "- 작성한 코드 뒤에 **`#`** 을 추가하여 붙일 수도 있음\n",
    "- **단축키:** Ctrl + /\n",
    "- 긴 주석은 **`'(작은따옴표) 3개`** 또는 **`\"(큰따옴표) 3개`**로 전체 주석 처리 가능"
   ]
  },
  {
   "cell_type": "code",
   "execution_count": 2,
   "metadata": {
    "ExecuteTime": {
     "end_time": "2022-07-15T15:16:39.661716Z",
     "start_time": "2022-07-15T15:16:39.645718Z"
    }
   },
   "outputs": [],
   "source": [
    "# print('Hello, world!')"
   ]
  },
  {
   "cell_type": "code",
   "execution_count": 3,
   "metadata": {
    "ExecuteTime": {
     "end_time": "2021-10-05T11:08:01.820369Z",
     "start_time": "2021-10-05T11:08:01.806243Z"
    }
   },
   "outputs": [
    {
     "name": "stdout",
     "output_type": "stream",
     "text": [
      "Hello, world!\n"
     ]
    }
   ],
   "source": [
    "a = 1 + 2 # 더하기\n",
    "print('Hello, world!') # printf('1234567890')"
   ]
  },
  {
   "cell_type": "code",
   "execution_count": 4,
   "metadata": {
    "ExecuteTime": {
     "end_time": "2022-07-15T15:19:23.820246Z",
     "start_time": "2022-07-15T15:19:23.813210Z"
    }
   },
   "outputs": [
    {
     "data": {
      "text/plain": [
       "5"
      ]
     },
     "execution_count": 4,
     "metadata": {},
     "output_type": "execute_result"
    }
   ],
   "source": [
    "'''\n",
    "a = 1 + 2 # 더하기\n",
    "print('Hello, world!') #printf('1234567890')\n",
    "'''\n",
    "x = 5\n",
    "x"
   ]
  },
  {
   "cell_type": "markdown",
   "metadata": {},
   "source": [
    "---\n",
    "- **Question:** (1) 하기 내용을 복사하고 B에는 `본인의 이름 이니셜`을 반영하여 Code 셀로 실행한 후, (2) 출력된 셀 상단에 **`Text Example`** 이라고 주석을 작성하시오\n",
    "\n",
    "```python\n",
    "A = \"My name is \"\n",
    "B = \"KK\"\n",
    "print(A+B)\n",
    "```"
   ]
  },
  {
   "cell_type": "code",
   "execution_count": null,
   "metadata": {},
   "outputs": [],
   "source": []
  },
  {
   "cell_type": "markdown",
   "metadata": {},
   "source": [
    "## 강제중단/재실행\n",
    "\n",
    "> **\"Jupyter Notebook이 `인터넷이 끊기거나, 멈추거나, 시간이 오래 걸리거나, 오류 존재시` 재실행 필요\"**\n",
    "\n",
    "![JN_Shutdowned](Image/Basic/JN_Shutdowned.png)\n",
    "\n",
    "- **Kernel:** Jupyter가 파이썬(다른 프로그램도 마찬가지)과 소통하기 위한 `통로/중간다리 개념`으로 파일마다 별도의 통로가 생성\n",
    "- 메뉴의 **`Kernel`** 탭 내 기능들을 사용하여 원하는 작업 진행가능\n",
    "- **`Kernel`** 탭의 모든 버튼은 코드를 삭제하지 않음\n",
    "\n",
    "> - **Interrupt:** 실행 중인 파일 내 코드를 `강제 중지`하며 위 그림과 같은 표시되며 실행 중지\n",
    "> - **Restart:** 실행 중인 코드를 포함한 파일이 `재시작`되며 `코드나 실행 결과는 삭제되지 않음`\n",
    "> - **Restart & Clear Output:** 실행 중인 코드를 포함한 파일이 `재시작`되며 `코드는 삭제되지 않으나 실행 결과는 모두 삭제`\n",
    "> - **Restart & Run All:** `재시작` 후 `모든 셀의 코드`를 위에서부터 순차적으로 `모두 실행`\n",
    "> - **Reconnect:** 인터넷 연결이 끊어졌을 때 `연결을 재시도`\n",
    "> - **Shutdown:** 실행 결과는 삭제되지 않고 파일을 `완전 종료`\n",
    "\n",
    "- 실행중인 커널을 확인 하는 방법:\n",
    "\n",
    "> **(1)** Home 화면에서 파일앞에 `초록색 점`이 있으면 실행중, 없으면 시작되지 않거나 중단된 상태\n",
    "![JN_KernelActive](Image/Basic/JN_KernelActive.png)\n",
    "> <br>\n",
    ">\n",
    "> **(2)** Home 화면에서 Files 탭 대신 `Running 탭`을 클릭하면 실행중인 `파일들(커널들) 또는 터미널들`을 볼 수 있음\n",
    "![JN_KernelActiveList](Image/Basic/JN_KernelActiveList.png)"
   ]
  },
  {
   "cell_type": "markdown",
   "metadata": {},
   "source": [
    "## 파일 업로드\n",
    "\n",
    "**1)** Home 화면에서 파일을 생성하는 New 버튼 옆에 `Upload 버튼`을 눌러 업로드를 원하는 파일을 선택\n",
    "![JN_Upload](Image/Basic/JN_Upload.png)\n",
    "\n",
    "**2)** 업로드가 완료되면 아래와 같이 `폴더내 업로드된 파일 확인` 가능\n",
    "- 마찬가지로 데이터 파일, 문서 파일, 노트북 파일 등을 쉽게 업로드 가능\n",
    "![JN_UploadComplete](Image/Basic/JN_UploadComplete.png)\n",
    "\n",
    "**3)** `파일 탐색기`에서 파일을 업로드 및 정리하면, `동일한 Home 화면의 폴더경로에 파일이 반영`된 것이 확인 및 사용 가능"
   ]
  },
  {
   "cell_type": "markdown",
   "metadata": {},
   "source": [
    "## 단축키\n",
    "\n",
    "- 단축키 정보는 **`[Help] - [Show Keyboard Shortcuts]`** 또는 **`Ctrl + Shift + H`** 키를 눌러 확인 가능\n",
    "\n",
    "| 편집 모드 단축키 | 설명 |\n",
    "|:---:|:---:|\n",
    "| Ctrl + Z | Undo 명령이다. |\n",
    "| Ctrl + Shift + Z | Redo 명령이다. |\n",
    "| Tab | 자동완성 또는 Indent를 추가한다. |\n",
    "| Shift + Tab | 툴팁 또는 변수의 상태를 표시한다. |\n",
    "| Ctrl + Shift + - | 커서의 위치에서 셀을 잘라 두 개로 만든다. |\n",
    "\n",
    "| 명령 모드 단축키 | 설명 |\n",
    "|:---:|:---:|\n",
    "| ↑, ↓ | 셀 선택 |\n",
    "| A | 액티브 코드 셀의 위(Above)에 셀을 하나 생성한다. |\n",
    "| B | 액티브 코드 셀의 위(Below)에 셀을 하나 생성한다. |\n",
    "| Ctrl + S | Notebook 파일을 저장한다. |\n",
    "| Shift + L | 줄 번호 표시를 토글한다. |\n",
    "| D, D | (D 두번 연속으로 타이핑)액티브 코드 셀을 삭제한다. |\n",
    "| Z | 삭제한 셀을 하나 복원한다. |\n",
    "| Y | 액티브 코드 셀을 Code 타입(코드를 기술하는 타입)으로 한다. |\n",
    "| M | 액티브 코드 셀을 Markdown 타입으로 한다. |\n",
    "| O, O | 커널을 재시작한다. |\n",
    "| P | 명령 팔레트를 연다. |\n",
    "| H | 단축키 목록을 표시한다. Enter 키로 숨긴다. |\n",
    "\n",
    "<center><img src='Image/Basic/JN_Shortcut.png' width='600'></center>"
   ]
  },
  {
   "cell_type": "markdown",
   "metadata": {},
   "source": [
    "## 외부 출력/저장\n",
    "\n",
    "> - **`[File] - [Save and Export Notebook as]`** 에서 작성된 노트북 파일 전체를 **`.HTML / .Latex / .Markdown / .PDF`** 등 출력\n",
    "> - 컴퓨팅 환경에 따라 `관련 라이브러리/패키지를 설치`해야 표시될 수도 있음\n",
    "\n",
    "![JN_Saving](Image/Basic/JN_Saving.png)"
   ]
  }
 ],
 "metadata": {
  "hide_input": false,
  "kernelspec": {
   "display_name": "Python 3 (ipykernel)",
   "language": "python",
   "name": "python3"
  },
  "language_info": {
   "codemirror_mode": {
    "name": "ipython",
    "version": 3
   },
   "file_extension": ".py",
   "mimetype": "text/x-python",
   "name": "python",
   "nbconvert_exporter": "python",
   "pygments_lexer": "ipython3",
   "version": "3.12.4"
  },
  "toc": {
   "base_numbering": 1,
   "nav_menu": {},
   "number_sections": true,
   "sideBar": true,
   "skip_h1_title": false,
   "title_cell": "Table of Contents",
   "title_sidebar": "Contents",
   "toc_cell": false,
   "toc_position": {
    "height": "calc(100% - 180px)",
    "left": "10px",
    "top": "150px",
    "width": "392.781px"
   },
   "toc_section_display": true,
   "toc_window_display": true
  },
  "toc-autonumbering": true,
  "toc-showcode": false,
  "toc-showmarkdowntxt": false,
  "toc-showtags": false,
  "varInspector": {
   "cols": {
    "lenName": 16,
    "lenType": 16,
    "lenVar": 40
   },
   "kernels_config": {
    "python": {
     "delete_cmd_postfix": "",
     "delete_cmd_prefix": "del ",
     "library": "var_list.py",
     "varRefreshCmd": "print(var_dic_list())"
    },
    "r": {
     "delete_cmd_postfix": ") ",
     "delete_cmd_prefix": "rm(",
     "library": "var_list.r",
     "varRefreshCmd": "cat(var_dic_list()) "
    }
   },
   "types_to_exclude": [
    "module",
    "function",
    "builtin_function_or_method",
    "instance",
    "_Feature"
   ],
   "window_display": false
  }
 },
 "nbformat": 4,
 "nbformat_minor": 4
}
