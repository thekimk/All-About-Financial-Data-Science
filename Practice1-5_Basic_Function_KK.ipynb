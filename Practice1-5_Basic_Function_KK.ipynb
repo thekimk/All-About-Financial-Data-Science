{
 "cells": [
  {
   "cell_type": "markdown",
   "metadata": {},
   "source": [
    "# **파이썬함수: 사람의 생각/행동을 정교하게 구현/자동화하다**\n",
    "\n",
    "[![Open in Colab](http://colab.research.google.com/assets/colab-badge.svg)](https://colab.research.google.com/github/thekimk/Tutorial-Python-Programming/blob/main/Practice1-5_Basic_Function_KK.ipynb)\n",
    "\n",
    "**1) 함수의 등장배경 및 필요성**\n",
    "\n",
    "- **프로그램 vs 함수:** 우리가 무언가를 입력하면 결과를 주는 **`프로그램`** 들이 결국 **`함수 + UI`**\n",
    "\n",
    "| **프로그램 이름** | **주 생성목적** | **생성 프로그래밍 언어** |\n",
    "|:---:|:---:|---|\n",
    "| **휴지통** | 필요없어서 버린 자료 보관 | **C, C++, C#** |\n",
    "| **Word** | 문서 작성 | **C, C++, C#** |\n",
    "| **한글** | 문서 작성 | **C, C++, C#** |\n",
    "| **Excel** | 수치 계산, 문서 작성, 각종 업무 | **C, C++, C#** |\n",
    "| **Photoshop** | 그래픽 이미지 생성 및 처리 | **C++, C#** |\n",
    "| **Internet, Chrome..** | 인터넷 환경 접속 및 정보 처리 | **C++, C#, Java, HTML, CSS** |\n",
    "| **캡처 도구** | 화면을 이미지로 저장 | **C++, C#, Java** |\n",
    "| **TeamViewer** | 원격으로 기기제어 | **C++, C#, Java, Cobol, Python** |\n",
    "| **카카오톡** | 커뮤니케이션, 공유 | **Java, Cobol, Python** |\n",
    "| **스마트폰** | 커뮤니케이션, 수치계산, 문서작성, 운동지원, … | **Java, Cobol, Python** |\n",
    "| **자율주행차** | 자동으로 운전 | **Java, Cobol, Python** |\n",
    "\n",
    "| **비교** | 설명 |\n",
    "|:---:|---|\n",
    "| **프로그램** | 특정 작업/목적을 수행하기 위해 만든 것으로 여러 코드를 모은 후, <br> 사람이 이해할 수 있는 UI(User Interface)를 덮어 씌워서 생성 |\n",
    "| **함수** | 특정 작업/목적을 수행하기 위해 만든 것으로 여러 코드를 모은 것 |\n",
    "\n",
    "- **기업들도 결국 함수를 정교하게 고도화시켜 플랫폼 비즈니스를 하고 수익을 극대화** \n",
    "\n",
    "| **Python <br>구성** | **일반적사회 <br>구성** | **비즈니스 <br>구성** | **Data Science <br>구성** |\n",
    "|:---:|:---:|:---:|:---:|\n",
    "| **Library** | - | - | C Library, Java Library, R Library, Python Library.. |\n",
    "| **Package** | 정치, 경제, 교육, 금융, 사회, 복지, 대한민국, 미국, 중국.. | 사업부1, 사업부2, 인재개발원, 연구소.. | Google Analytics, AWS Analytics, Tableau, SAP Reports, SAS BI, Microsoft   BI, IBM Cognos.. |\n",
    "| **Module** | 청와대, 대학교, 기업, 어린이집.. | 인사팀, 재무팀, 개발팀, 영업팀, 마케팅팀, 고객관리팀.. | 구매자예측플랫폼, 가격예측플랫폼, 고객관리플랫폼, 재고최소화플랫폼.. |\n",
    "| **Class** | 대통령, 정치인, 교수, 직장인, 사업가, 학생, 아기, 강아지, 고양이.. | 사원, 대리, 과장, 차장, 부장, 임원.. | 마케팅구매자예측, 광고가격예측, 고객불만예측, 재고율낮추기.. |\n",
    "| **Function** | ex1) 교수: 수업하기, 연구하기, 졸기..<br>ex2) 학생: 수업듣기, 졸기..  | 대화하기, 차마시기, 컴퓨터설치하기, 다른사람만나기, 문서작성하기, 사원증만들기, 배달하기, 주문하기, 자리정리하기, 청소하기.. | 데이터수집, 문제정의, 해결대안협의, 데이터입력, 데이터전처리, 알고리즘적용, 비즈니스검증기획.. |\n",
    "\n",
    "---\n",
    "\n",
    "**2) 함수의 구성:**\n",
    "\n",
    "<center><img src='Image/Basic/Programming_IndependentStructure.png' width='600'></center>\n",
    "\n",
    "- **목적:** 사람의 생각/행동(f)을 컴퓨터로 구현하여 자동으로 입력에 대응되는 출력 반환\n",
    "> - 사람의 **`생각`** 또는 컴퓨터의 **`처리`** 과정을 **`함수`** 로 관리하면 효율적이고 편리하게 반복사용 가능\n",
    "> - 입력(X)을 받아 **`함수`** 를 거쳐 출력(Y) 된다: **`Y = f(X)`**\n",
    "> - print, input 등도 모두 파이썬에서 미리 만들어 둔 내장 함수\n",
    "> - 특정 기능을 수행하는 코드의 집합으로 여러 실행 문장을 하나로 묶는 기능\n",
    "> - 코드의 용도를 잘 정리해 둘 수 있고, 얼마든지 재사용 가능하며, 실수를 줄일 수 있음\n",
    "> - 복잡한 것들도 결국 **`함수`** 로 작성할 수 있고, 결국 사람이 수작업으로 해야할 것들이 줄어들고 **`자동화(인공지능)`** 가능\n",
    "\n",
    "<center><img src='Image/Basic/Function_Example.png' width='600'></center>\n",
    "\n",
    "<center><img src='Image/Basic/Function_Example_Result.png' width='200'></center>\n",
    "\n",
    "---\n",
    "\n",
    "<center><img src='Image/Basic/Programming_RealCommunication.png' width='600'></center>\n",
    "\n",
    "---\n",
    "\n",
    "**3) Data Science 에서의 함수 적용:**\n",
    "\n",
    "<center><img src='Image/Basic/DataSplit_Concept1.png' width='900'></center>\n",
    "\n",
    "---\n",
    "\n",
    "<center><img src='Image/Basic/Analysis_Process.png' width='900'></center>"
   ]
  },
  {
   "cell_type": "markdown",
   "metadata": {},
   "source": [
    "# **파이썬함수의 모양과 종류**\n",
    "\n",
    "## 내장함수(Built-in Function)\n",
    "\n",
    "- 파이썬 **`내부`** 에 포함되어 있는 함수\n",
    "- **`print(), input(), len(), int(), max(), str()`** 등이 모두 내장 함수\n",
    "- [다양한 내장함수 종류](https://docs.python.org/3/library/functions.html)\n",
    "- **`help(len), shift + tab`** 방식으로 모든 내장함수의 사용법을 쉽게 알 수 있음\n",
    "- 하지만 위 내장 함수들도 결국 **`사용자 정의 함수`** 방식으로 미리 만들어 둔 것\n",
    "- 우리도 같은 방식으로 얼마든지 쉽게 함수를 만들어 내장 함수처럼 사용 가능"
   ]
  },
  {
   "cell_type": "code",
   "execution_count": 1,
   "metadata": {
    "ExecuteTime": {
     "end_time": "2022-07-14T17:23:35.045015Z",
     "start_time": "2022-07-14T17:23:35.032018Z"
    }
   },
   "outputs": [
    {
     "data": {
      "text/plain": [
       "9"
      ]
     },
     "execution_count": 1,
     "metadata": {},
     "output_type": "execute_result"
    }
   ],
   "source": [
    "max([1,2,5,7,9])    # 입력:[1,2,5,7,9], 처리:max, 출력:9"
   ]
  },
  {
   "cell_type": "markdown",
   "metadata": {},
   "source": [
    "### 함수 vs 메서드\n",
    "\n",
    "- **메서드(Method):** 특정 데이터 형에만 사용할 수 있게 만들어 둔 전용 함수\n",
    "- 데이터 뒤에 점 기호 **`.`** 를 찍어서 사용하며 점 앞의 데이터를 자동으로 인수로 받아 사용"
   ]
  },
  {
   "cell_type": "code",
   "execution_count": 2,
   "metadata": {
    "ExecuteTime": {
     "end_time": "2022-07-14T17:23:35.060016Z",
     "start_time": "2022-07-14T17:23:35.046017Z"
    }
   },
   "outputs": [],
   "source": [
    "# 데이터 예시\n",
    "my_list = [3,2,1,4]"
   ]
  },
  {
   "cell_type": "code",
   "execution_count": 3,
   "metadata": {
    "ExecuteTime": {
     "end_time": "2022-07-14T17:23:35.075015Z",
     "start_time": "2022-07-14T17:23:35.062017Z"
    }
   },
   "outputs": [
    {
     "name": "stdout",
     "output_type": "stream",
     "text": [
      "[3, 2, 1, 4]\n"
     ]
    }
   ],
   "source": [
    "# 함수 결과\n",
    "print(my_list)"
   ]
  },
  {
   "cell_type": "code",
   "execution_count": 4,
   "metadata": {
    "ExecuteTime": {
     "end_time": "2022-07-14T17:23:35.090014Z",
     "start_time": "2022-07-14T17:23:35.076017Z"
    }
   },
   "outputs": [
    {
     "data": {
      "text/plain": [
       "4"
      ]
     },
     "execution_count": 4,
     "metadata": {},
     "output_type": "execute_result"
    }
   ],
   "source": [
    "# 함수 결과\n",
    "len(my_list)"
   ]
  },
  {
   "cell_type": "code",
   "execution_count": 5,
   "metadata": {
    "ExecuteTime": {
     "end_time": "2022-07-14T17:23:35.105015Z",
     "start_time": "2022-07-14T17:23:35.091017Z"
    }
   },
   "outputs": [
    {
     "data": {
      "text/plain": [
       "10"
      ]
     },
     "execution_count": 5,
     "metadata": {},
     "output_type": "execute_result"
    }
   ],
   "source": [
    "# 함수 결과\n",
    "sum(my_list)"
   ]
  },
  {
   "cell_type": "code",
   "execution_count": 6,
   "metadata": {
    "ExecuteTime": {
     "end_time": "2022-07-14T17:23:35.120015Z",
     "start_time": "2022-07-14T17:23:35.106017Z"
    }
   },
   "outputs": [
    {
     "data": {
      "text/plain": [
       "1"
      ]
     },
     "execution_count": 6,
     "metadata": {},
     "output_type": "execute_result"
    }
   ],
   "source": [
    "# 함수 결과\n",
    "min(my_list)"
   ]
  },
  {
   "cell_type": "code",
   "execution_count": 7,
   "metadata": {
    "ExecuteTime": {
     "end_time": "2022-07-14T17:23:35.135015Z",
     "start_time": "2022-07-14T17:23:35.121016Z"
    }
   },
   "outputs": [
    {
     "data": {
      "text/plain": [
       "[3, 2, 1, 4, 4]"
      ]
     },
     "execution_count": 7,
     "metadata": {},
     "output_type": "execute_result"
    }
   ],
   "source": [
    "# 메서드 결과\n",
    "my_list.append(4)\n",
    "my_list"
   ]
  },
  {
   "cell_type": "code",
   "execution_count": 8,
   "metadata": {
    "ExecuteTime": {
     "end_time": "2022-07-14T17:23:35.150016Z",
     "start_time": "2022-07-14T17:23:35.136016Z"
    }
   },
   "outputs": [
    {
     "data": {
      "text/plain": [
       "[2, 1, 4, 4]"
      ]
     },
     "execution_count": 8,
     "metadata": {},
     "output_type": "execute_result"
    }
   ],
   "source": [
    "# 메서드 결과\n",
    "my_list.remove(3)\n",
    "my_list"
   ]
  },
  {
   "cell_type": "code",
   "execution_count": 9,
   "metadata": {
    "ExecuteTime": {
     "end_time": "2022-07-14T17:23:35.165016Z",
     "start_time": "2022-07-14T17:23:35.153017Z"
    }
   },
   "outputs": [
    {
     "data": {
      "text/plain": [
       "[2, 1, 4]"
      ]
     },
     "execution_count": 9,
     "metadata": {},
     "output_type": "execute_result"
    }
   ],
   "source": [
    "# 메서드 결과\n",
    "my_list.pop(3)\n",
    "my_list"
   ]
  },
  {
   "cell_type": "code",
   "execution_count": 10,
   "metadata": {
    "ExecuteTime": {
     "end_time": "2022-07-14T17:23:35.180016Z",
     "start_time": "2022-07-14T17:23:35.166017Z"
    }
   },
   "outputs": [
    {
     "data": {
      "text/plain": [
       "[1, 2, 4]"
      ]
     },
     "execution_count": 10,
     "metadata": {},
     "output_type": "execute_result"
    }
   ],
   "source": [
    "# 메서드 결과\n",
    "my_list.sort()\n",
    "my_list"
   ]
  },
  {
   "cell_type": "markdown",
   "metadata": {},
   "source": [
    "## 외장 함수\n",
    "\n",
    "- 파이썬 **`외부`** 에 포함되어 있는 함수\n",
    "- Anaconda설치시 **`내장함수`** 와 **`파이썬`** 도 설치되지만, **`외장함수`** 도 포함\n",
    "> - `Python`에 없지만 `Anaconda`에는 포함된 함수\n",
    "> - `Python`에 없지만 `Anaconda`에도 포함되지 않은 함수\n",
    "> <center><img src='Image/Basic/Python_vs_Anaconda.png' width='400'></center>\n",
    "- **`import`** 라는 명령어를 사용하여 파이썬 외부 함수를 불러옴\n",
    "- 여러 외장함수들을 묶어서 **`모듈`** 형식으로 제공\n",
    "- 내장함수 및 메서드 방식을 모두 활용하여 사용\n",
    "\n",
    "```python\n",
    "import 모듈\n",
    "모듈.함수(입력)    # 내장함수처럼 입력 받아 사용\n",
    "# 또는\n",
    "from 모듈 import 함수\n",
    "함수(입력)\n",
    "입력.함수()    # 메서드처럼 입력 받아 사용\n",
    "```"
   ]
  },
  {
   "cell_type": "markdown",
   "metadata": {},
   "source": [
    "### 함수 vs 모듈\n",
    "\n",
    "- **\"여러 `내장/외장/사용자정의` 함수들을 묶어서 `모듈` 형식으로 제공\"**\n",
    "> - **프로그램 vs 함수:** 우리가 무언가를 입력하면 결과를 주는 **`프로그램`** 들이 결국 **`함수 + UI`**\n",
    "> - 프로그램이 `여러가지의 기능`을 한다면, 하나의 함수가 아닌 `여러개의 함수`가 필요할 것\n",
    "> - **모듈(Module):** 프로그램에서 사용할 **`여러 함수들과 함수에 필요한 것들을 모아 놓은 것`**\n",
    "\n",
    "---\n",
    "\n",
    "- **함수 vs 모듈**\n",
    "> **함수:**\n",
    "> <center><img src='Image/Basic/Function_Example.png' width='600'></center>\n",
    "> <center><img src='Image/Basic/Function_Example_Result.png' width='200'></center>\n",
    ">\n",
    "> **모듈:**\n",
    "> <center><img src='Image/Basic/Function_ExampleModule.png' width='600'></center>"
   ]
  },
  {
   "cell_type": "code",
   "execution_count": 11,
   "metadata": {
    "ExecuteTime": {
     "end_time": "2022-07-14T17:23:35.195016Z",
     "start_time": "2022-07-14T17:23:35.181017Z"
    },
    "scrolled": true
   },
   "outputs": [
    {
     "name": "stdout",
     "output_type": "stream",
     "text": [
      "Help on module random:\n",
      "\n",
      "NAME\n",
      "    random - Random variable generators.\n",
      "\n",
      "MODULE REFERENCE\n",
      "    https://docs.python.org/3.11/library/random.html\n",
      "    \n",
      "    The following documentation is automatically generated from the Python\n",
      "    source files.  It may be incomplete, incorrect or include features that\n",
      "    are considered implementation detail and may vary between Python\n",
      "    implementations.  When in doubt, consult the module reference at the\n",
      "    location listed above.\n",
      "\n",
      "DESCRIPTION\n",
      "        bytes\n",
      "        -----\n",
      "               uniform bytes (values between 0 and 255)\n",
      "    \n",
      "        integers\n",
      "        --------\n",
      "               uniform within range\n",
      "    \n",
      "        sequences\n",
      "        ---------\n",
      "               pick random element\n",
      "               pick random sample\n",
      "               pick weighted random sample\n",
      "               generate random permutation\n",
      "    \n",
      "        distributions on the real line:\n",
      "        ------------------------------\n",
      "               uniform\n",
      "               triangular\n",
      "               normal (Gaussian)\n",
      "               lognormal\n",
      "               negative exponential\n",
      "               gamma\n",
      "               beta\n",
      "               pareto\n",
      "               Weibull\n",
      "    \n",
      "        distributions on the circle (angles 0 to 2pi)\n",
      "        ---------------------------------------------\n",
      "               circular uniform\n",
      "               von Mises\n",
      "    \n",
      "    General notes on the underlying Mersenne Twister core generator:\n",
      "    \n",
      "    * The period is 2**19937-1.\n",
      "    * It is one of the most extensively tested generators in existence.\n",
      "    * The random() method is implemented in C, executes in a single Python step,\n",
      "      and is, therefore, threadsafe.\n",
      "\n",
      "CLASSES\n",
      "    _random.Random(builtins.object)\n",
      "        Random\n",
      "            SystemRandom\n",
      "    \n",
      "    class Random(_random.Random)\n",
      "     |  Random(x=None)\n",
      "     |  \n",
      "     |  Random number generator base class used by bound module functions.\n",
      "     |  \n",
      "     |  Used to instantiate instances of Random to get generators that don't\n",
      "     |  share state.\n",
      "     |  \n",
      "     |  Class Random can also be subclassed if you want to use a different basic\n",
      "     |  generator of your own devising: in that case, override the following\n",
      "     |  methods:  random(), seed(), getstate(), and setstate().\n",
      "     |  Optionally, implement a getrandbits() method so that randrange()\n",
      "     |  can cover arbitrarily large ranges.\n",
      "     |  \n",
      "     |  Method resolution order:\n",
      "     |      Random\n",
      "     |      _random.Random\n",
      "     |      builtins.object\n",
      "     |  \n",
      "     |  Methods defined here:\n",
      "     |  \n",
      "     |  __getstate__(self)\n",
      "     |      Helper for pickle.\n",
      "     |  \n",
      "     |  __init__(self, x=None)\n",
      "     |      Initialize an instance.\n",
      "     |      \n",
      "     |      Optional argument x controls seeding, as for Random.seed().\n",
      "     |  \n",
      "     |  __reduce__(self)\n",
      "     |      Helper for pickle.\n",
      "     |  \n",
      "     |  __setstate__(self, state)\n",
      "     |  \n",
      "     |  betavariate(self, alpha, beta)\n",
      "     |      Beta distribution.\n",
      "     |      \n",
      "     |      Conditions on the parameters are alpha > 0 and beta > 0.\n",
      "     |      Returned values range between 0 and 1.\n",
      "     |  \n",
      "     |  choice(self, seq)\n",
      "     |      Choose a random element from a non-empty sequence.\n",
      "     |  \n",
      "     |  choices(self, population, weights=None, *, cum_weights=None, k=1)\n",
      "     |      Return a k sized list of population elements chosen with replacement.\n",
      "     |      \n",
      "     |      If the relative weights or cumulative weights are not specified,\n",
      "     |      the selections are made with equal probability.\n",
      "     |  \n",
      "     |  expovariate(self, lambd)\n",
      "     |      Exponential distribution.\n",
      "     |      \n",
      "     |      lambd is 1.0 divided by the desired mean.  It should be\n",
      "     |      nonzero.  (The parameter would be called \"lambda\", but that is\n",
      "     |      a reserved word in Python.)  Returned values range from 0 to\n",
      "     |      positive infinity if lambd is positive, and from negative\n",
      "     |      infinity to 0 if lambd is negative.\n",
      "     |  \n",
      "     |  gammavariate(self, alpha, beta)\n",
      "     |      Gamma distribution.  Not the gamma function!\n",
      "     |      \n",
      "     |      Conditions on the parameters are alpha > 0 and beta > 0.\n",
      "     |      \n",
      "     |      The probability distribution function is:\n",
      "     |      \n",
      "     |                  x ** (alpha - 1) * math.exp(-x / beta)\n",
      "     |        pdf(x) =  --------------------------------------\n",
      "     |                    math.gamma(alpha) * beta ** alpha\n",
      "     |  \n",
      "     |  gauss(self, mu=0.0, sigma=1.0)\n",
      "     |      Gaussian distribution.\n",
      "     |      \n",
      "     |      mu is the mean, and sigma is the standard deviation.  This is\n",
      "     |      slightly faster than the normalvariate() function.\n",
      "     |      \n",
      "     |      Not thread-safe without a lock around calls.\n",
      "     |  \n",
      "     |  getstate(self)\n",
      "     |      Return internal state; can be passed to setstate() later.\n",
      "     |  \n",
      "     |  lognormvariate(self, mu, sigma)\n",
      "     |      Log normal distribution.\n",
      "     |      \n",
      "     |      If you take the natural logarithm of this distribution, you'll get a\n",
      "     |      normal distribution with mean mu and standard deviation sigma.\n",
      "     |      mu can have any value, and sigma must be greater than zero.\n",
      "     |  \n",
      "     |  normalvariate(self, mu=0.0, sigma=1.0)\n",
      "     |      Normal distribution.\n",
      "     |      \n",
      "     |      mu is the mean, and sigma is the standard deviation.\n",
      "     |  \n",
      "     |  paretovariate(self, alpha)\n",
      "     |      Pareto distribution.  alpha is the shape parameter.\n",
      "     |  \n",
      "     |  randbytes(self, n)\n",
      "     |      Generate n random bytes.\n",
      "     |  \n",
      "     |  randint(self, a, b)\n",
      "     |      Return random integer in range [a, b], including both end points.\n",
      "     |  \n",
      "     |  randrange(self, start, stop=None, step=1)\n",
      "     |      Choose a random item from range(stop) or range(start, stop[, step]).\n",
      "     |      \n",
      "     |      Roughly equivalent to ``choice(range(start, stop, step))`` but\n",
      "     |      supports arbitrarily large ranges and is optimized for common cases.\n",
      "     |  \n",
      "     |  sample(self, population, k, *, counts=None)\n",
      "     |      Chooses k unique random elements from a population sequence.\n",
      "     |      \n",
      "     |      Returns a new list containing elements from the population while\n",
      "     |      leaving the original population unchanged.  The resulting list is\n",
      "     |      in selection order so that all sub-slices will also be valid random\n",
      "     |      samples.  This allows raffle winners (the sample) to be partitioned\n",
      "     |      into grand prize and second place winners (the subslices).\n",
      "     |      \n",
      "     |      Members of the population need not be hashable or unique.  If the\n",
      "     |      population contains repeats, then each occurrence is a possible\n",
      "     |      selection in the sample.\n",
      "     |      \n",
      "     |      Repeated elements can be specified one at a time or with the optional\n",
      "     |      counts parameter.  For example:\n",
      "     |      \n",
      "     |          sample(['red', 'blue'], counts=[4, 2], k=5)\n",
      "     |      \n",
      "     |      is equivalent to:\n",
      "     |      \n",
      "     |          sample(['red', 'red', 'red', 'red', 'blue', 'blue'], k=5)\n",
      "     |      \n",
      "     |      To choose a sample from a range of integers, use range() for the\n",
      "     |      population argument.  This is especially fast and space efficient\n",
      "     |      for sampling from a large population:\n",
      "     |      \n",
      "     |          sample(range(10000000), 60)\n",
      "     |  \n",
      "     |  seed(self, a=None, version=2)\n",
      "     |      Initialize internal state from a seed.\n",
      "     |      \n",
      "     |      The only supported seed types are None, int, float,\n",
      "     |      str, bytes, and bytearray.\n",
      "     |      \n",
      "     |      None or no argument seeds from current time or from an operating\n",
      "     |      system specific randomness source if available.\n",
      "     |      \n",
      "     |      If *a* is an int, all bits are used.\n",
      "     |      \n",
      "     |      For version 2 (the default), all of the bits are used if *a* is a str,\n",
      "     |      bytes, or bytearray.  For version 1 (provided for reproducing random\n",
      "     |      sequences from older versions of Python), the algorithm for str and\n",
      "     |      bytes generates a narrower range of seeds.\n",
      "     |  \n",
      "     |  setstate(self, state)\n",
      "     |      Restore internal state from object returned by getstate().\n",
      "     |  \n",
      "     |  shuffle(self, x)\n",
      "     |      Shuffle list x in place, and return None.\n",
      "     |  \n",
      "     |  triangular(self, low=0.0, high=1.0, mode=None)\n",
      "     |      Triangular distribution.\n",
      "     |      \n",
      "     |      Continuous distribution bounded by given lower and upper limits,\n",
      "     |      and having a given mode value in-between.\n",
      "     |      \n",
      "     |      http://en.wikipedia.org/wiki/Triangular_distribution\n",
      "     |  \n",
      "     |  uniform(self, a, b)\n",
      "     |      Get a random number in the range [a, b) or [a, b] depending on rounding.\n",
      "     |  \n",
      "     |  vonmisesvariate(self, mu, kappa)\n",
      "     |      Circular data distribution.\n",
      "     |      \n",
      "     |      mu is the mean angle, expressed in radians between 0 and 2*pi, and\n",
      "     |      kappa is the concentration parameter, which must be greater than or\n",
      "     |      equal to zero.  If kappa is equal to zero, this distribution reduces\n",
      "     |      to a uniform random angle over the range 0 to 2*pi.\n",
      "     |  \n",
      "     |  weibullvariate(self, alpha, beta)\n",
      "     |      Weibull distribution.\n",
      "     |      \n",
      "     |      alpha is the scale parameter and beta is the shape parameter.\n",
      "     |  \n",
      "     |  ----------------------------------------------------------------------\n",
      "     |  Class methods defined here:\n",
      "     |  \n",
      "     |  __init_subclass__(**kwargs) from builtins.type\n",
      "     |      Control how subclasses generate random integers.\n",
      "     |      \n",
      "     |      The algorithm a subclass can use depends on the random() and/or\n",
      "     |      getrandbits() implementation available to it and determines\n",
      "     |      whether it can generate random integers from arbitrarily large\n",
      "     |      ranges.\n",
      "     |  \n",
      "     |  ----------------------------------------------------------------------\n",
      "     |  Data descriptors defined here:\n",
      "     |  \n",
      "     |  __dict__\n",
      "     |      dictionary for instance variables (if defined)\n",
      "     |  \n",
      "     |  __weakref__\n",
      "     |      list of weak references to the object (if defined)\n",
      "     |  \n",
      "     |  ----------------------------------------------------------------------\n",
      "     |  Data and other attributes defined here:\n",
      "     |  \n",
      "     |  VERSION = 3\n",
      "     |  \n",
      "     |  ----------------------------------------------------------------------\n",
      "     |  Methods inherited from _random.Random:\n",
      "     |  \n",
      "     |  getrandbits(self, k, /)\n",
      "     |      getrandbits(k) -> x.  Generates an int with k random bits.\n",
      "     |  \n",
      "     |  random(self, /)\n",
      "     |      random() -> x in the interval [0, 1).\n",
      "     |  \n",
      "     |  ----------------------------------------------------------------------\n",
      "     |  Static methods inherited from _random.Random:\n",
      "     |  \n",
      "     |  __new__(*args, **kwargs) from builtins.type\n",
      "     |      Create and return a new object.  See help(type) for accurate signature.\n",
      "    \n",
      "    class SystemRandom(Random)\n",
      "     |  SystemRandom(x=None)\n",
      "     |  \n",
      "     |  Alternate random number generator using sources provided\n",
      "     |  by the operating system (such as /dev/urandom on Unix or\n",
      "     |  CryptGenRandom on Windows).\n",
      "     |  \n",
      "     |   Not available on all systems (see os.urandom() for details).\n",
      "     |  \n",
      "     |  Method resolution order:\n",
      "     |      SystemRandom\n",
      "     |      Random\n",
      "     |      _random.Random\n",
      "     |      builtins.object\n",
      "     |  \n",
      "     |  Methods defined here:\n",
      "     |  \n",
      "     |  getrandbits(self, k)\n",
      "     |      getrandbits(k) -> x.  Generates an int with k random bits.\n",
      "     |  \n",
      "     |  getstate = _notimplemented(self, *args, **kwds)\n",
      "     |  \n",
      "     |  randbytes(self, n)\n",
      "     |      Generate n random bytes.\n",
      "     |  \n",
      "     |  random(self)\n",
      "     |      Get the next random number in the range 0.0 <= X < 1.0.\n",
      "     |  \n",
      "     |  seed(self, *args, **kwds)\n",
      "     |      Stub method.  Not used for a system random number generator.\n",
      "     |  \n",
      "     |  setstate = _notimplemented(self, *args, **kwds)\n",
      "     |  \n",
      "     |  ----------------------------------------------------------------------\n",
      "     |  Methods inherited from Random:\n",
      "     |  \n",
      "     |  __getstate__(self)\n",
      "     |      Helper for pickle.\n",
      "     |  \n",
      "     |  __init__(self, x=None)\n",
      "     |      Initialize an instance.\n",
      "     |      \n",
      "     |      Optional argument x controls seeding, as for Random.seed().\n",
      "     |  \n",
      "     |  __reduce__(self)\n",
      "     |      Helper for pickle.\n",
      "     |  \n",
      "     |  __setstate__(self, state)\n",
      "     |  \n",
      "     |  betavariate(self, alpha, beta)\n",
      "     |      Beta distribution.\n",
      "     |      \n",
      "     |      Conditions on the parameters are alpha > 0 and beta > 0.\n",
      "     |      Returned values range between 0 and 1.\n",
      "     |  \n",
      "     |  choice(self, seq)\n",
      "     |      Choose a random element from a non-empty sequence.\n",
      "     |  \n",
      "     |  choices(self, population, weights=None, *, cum_weights=None, k=1)\n",
      "     |      Return a k sized list of population elements chosen with replacement.\n",
      "     |      \n",
      "     |      If the relative weights or cumulative weights are not specified,\n",
      "     |      the selections are made with equal probability.\n",
      "     |  \n",
      "     |  expovariate(self, lambd)\n",
      "     |      Exponential distribution.\n",
      "     |      \n",
      "     |      lambd is 1.0 divided by the desired mean.  It should be\n",
      "     |      nonzero.  (The parameter would be called \"lambda\", but that is\n",
      "     |      a reserved word in Python.)  Returned values range from 0 to\n",
      "     |      positive infinity if lambd is positive, and from negative\n",
      "     |      infinity to 0 if lambd is negative.\n",
      "     |  \n",
      "     |  gammavariate(self, alpha, beta)\n",
      "     |      Gamma distribution.  Not the gamma function!\n",
      "     |      \n",
      "     |      Conditions on the parameters are alpha > 0 and beta > 0.\n",
      "     |      \n",
      "     |      The probability distribution function is:\n",
      "     |      \n",
      "     |                  x ** (alpha - 1) * math.exp(-x / beta)\n",
      "     |        pdf(x) =  --------------------------------------\n",
      "     |                    math.gamma(alpha) * beta ** alpha\n",
      "     |  \n",
      "     |  gauss(self, mu=0.0, sigma=1.0)\n",
      "     |      Gaussian distribution.\n",
      "     |      \n",
      "     |      mu is the mean, and sigma is the standard deviation.  This is\n",
      "     |      slightly faster than the normalvariate() function.\n",
      "     |      \n",
      "     |      Not thread-safe without a lock around calls.\n",
      "     |  \n",
      "     |  lognormvariate(self, mu, sigma)\n",
      "     |      Log normal distribution.\n",
      "     |      \n",
      "     |      If you take the natural logarithm of this distribution, you'll get a\n",
      "     |      normal distribution with mean mu and standard deviation sigma.\n",
      "     |      mu can have any value, and sigma must be greater than zero.\n",
      "     |  \n",
      "     |  normalvariate(self, mu=0.0, sigma=1.0)\n",
      "     |      Normal distribution.\n",
      "     |      \n",
      "     |      mu is the mean, and sigma is the standard deviation.\n",
      "     |  \n",
      "     |  paretovariate(self, alpha)\n",
      "     |      Pareto distribution.  alpha is the shape parameter.\n",
      "     |  \n",
      "     |  randint(self, a, b)\n",
      "     |      Return random integer in range [a, b], including both end points.\n",
      "     |  \n",
      "     |  randrange(self, start, stop=None, step=1)\n",
      "     |      Choose a random item from range(stop) or range(start, stop[, step]).\n",
      "     |      \n",
      "     |      Roughly equivalent to ``choice(range(start, stop, step))`` but\n",
      "     |      supports arbitrarily large ranges and is optimized for common cases.\n",
      "     |  \n",
      "     |  sample(self, population, k, *, counts=None)\n",
      "     |      Chooses k unique random elements from a population sequence.\n",
      "     |      \n",
      "     |      Returns a new list containing elements from the population while\n",
      "     |      leaving the original population unchanged.  The resulting list is\n",
      "     |      in selection order so that all sub-slices will also be valid random\n",
      "     |      samples.  This allows raffle winners (the sample) to be partitioned\n",
      "     |      into grand prize and second place winners (the subslices).\n",
      "     |      \n",
      "     |      Members of the population need not be hashable or unique.  If the\n",
      "     |      population contains repeats, then each occurrence is a possible\n",
      "     |      selection in the sample.\n",
      "     |      \n",
      "     |      Repeated elements can be specified one at a time or with the optional\n",
      "     |      counts parameter.  For example:\n",
      "     |      \n",
      "     |          sample(['red', 'blue'], counts=[4, 2], k=5)\n",
      "     |      \n",
      "     |      is equivalent to:\n",
      "     |      \n",
      "     |          sample(['red', 'red', 'red', 'red', 'blue', 'blue'], k=5)\n",
      "     |      \n",
      "     |      To choose a sample from a range of integers, use range() for the\n",
      "     |      population argument.  This is especially fast and space efficient\n",
      "     |      for sampling from a large population:\n",
      "     |      \n",
      "     |          sample(range(10000000), 60)\n",
      "     |  \n",
      "     |  shuffle(self, x)\n",
      "     |      Shuffle list x in place, and return None.\n",
      "     |  \n",
      "     |  triangular(self, low=0.0, high=1.0, mode=None)\n",
      "     |      Triangular distribution.\n",
      "     |      \n",
      "     |      Continuous distribution bounded by given lower and upper limits,\n",
      "     |      and having a given mode value in-between.\n",
      "     |      \n",
      "     |      http://en.wikipedia.org/wiki/Triangular_distribution\n",
      "     |  \n",
      "     |  uniform(self, a, b)\n",
      "     |      Get a random number in the range [a, b) or [a, b] depending on rounding.\n",
      "     |  \n",
      "     |  vonmisesvariate(self, mu, kappa)\n",
      "     |      Circular data distribution.\n",
      "     |      \n",
      "     |      mu is the mean angle, expressed in radians between 0 and 2*pi, and\n",
      "     |      kappa is the concentration parameter, which must be greater than or\n",
      "     |      equal to zero.  If kappa is equal to zero, this distribution reduces\n",
      "     |      to a uniform random angle over the range 0 to 2*pi.\n",
      "     |  \n",
      "     |  weibullvariate(self, alpha, beta)\n",
      "     |      Weibull distribution.\n",
      "     |      \n",
      "     |      alpha is the scale parameter and beta is the shape parameter.\n",
      "     |  \n",
      "     |  ----------------------------------------------------------------------\n",
      "     |  Class methods inherited from Random:\n",
      "     |  \n",
      "     |  __init_subclass__(**kwargs) from builtins.type\n",
      "     |      Control how subclasses generate random integers.\n",
      "     |      \n",
      "     |      The algorithm a subclass can use depends on the random() and/or\n",
      "     |      getrandbits() implementation available to it and determines\n",
      "     |      whether it can generate random integers from arbitrarily large\n",
      "     |      ranges.\n",
      "     |  \n",
      "     |  ----------------------------------------------------------------------\n",
      "     |  Data descriptors inherited from Random:\n",
      "     |  \n",
      "     |  __dict__\n",
      "     |      dictionary for instance variables (if defined)\n",
      "     |  \n",
      "     |  __weakref__\n",
      "     |      list of weak references to the object (if defined)\n",
      "     |  \n",
      "     |  ----------------------------------------------------------------------\n",
      "     |  Data and other attributes inherited from Random:\n",
      "     |  \n",
      "     |  VERSION = 3\n",
      "     |  \n",
      "     |  ----------------------------------------------------------------------\n",
      "     |  Static methods inherited from _random.Random:\n",
      "     |  \n",
      "     |  __new__(*args, **kwargs) from builtins.type\n",
      "     |      Create and return a new object.  See help(type) for accurate signature.\n",
      "\n",
      "FUNCTIONS\n",
      "    betavariate(alpha, beta) method of Random instance\n",
      "        Beta distribution.\n",
      "        \n",
      "        Conditions on the parameters are alpha > 0 and beta > 0.\n",
      "        Returned values range between 0 and 1.\n",
      "    \n",
      "    choice(seq) method of Random instance\n",
      "        Choose a random element from a non-empty sequence.\n",
      "    \n",
      "    choices(population, weights=None, *, cum_weights=None, k=1) method of Random instance\n",
      "        Return a k sized list of population elements chosen with replacement.\n",
      "        \n",
      "        If the relative weights or cumulative weights are not specified,\n",
      "        the selections are made with equal probability.\n",
      "    \n",
      "    expovariate(lambd) method of Random instance\n",
      "        Exponential distribution.\n",
      "        \n",
      "        lambd is 1.0 divided by the desired mean.  It should be\n",
      "        nonzero.  (The parameter would be called \"lambda\", but that is\n",
      "        a reserved word in Python.)  Returned values range from 0 to\n",
      "        positive infinity if lambd is positive, and from negative\n",
      "        infinity to 0 if lambd is negative.\n",
      "    \n",
      "    gammavariate(alpha, beta) method of Random instance\n",
      "        Gamma distribution.  Not the gamma function!\n",
      "        \n",
      "        Conditions on the parameters are alpha > 0 and beta > 0.\n",
      "        \n",
      "        The probability distribution function is:\n",
      "        \n",
      "                    x ** (alpha - 1) * math.exp(-x / beta)\n",
      "          pdf(x) =  --------------------------------------\n",
      "                      math.gamma(alpha) * beta ** alpha\n",
      "    \n",
      "    gauss(mu=0.0, sigma=1.0) method of Random instance\n",
      "        Gaussian distribution.\n",
      "        \n",
      "        mu is the mean, and sigma is the standard deviation.  This is\n",
      "        slightly faster than the normalvariate() function.\n",
      "        \n",
      "        Not thread-safe without a lock around calls.\n",
      "    \n",
      "    getrandbits(k, /) method of Random instance\n",
      "        getrandbits(k) -> x.  Generates an int with k random bits.\n",
      "    \n",
      "    getstate() method of Random instance\n",
      "        Return internal state; can be passed to setstate() later.\n",
      "    \n",
      "    lognormvariate(mu, sigma) method of Random instance\n",
      "        Log normal distribution.\n",
      "        \n",
      "        If you take the natural logarithm of this distribution, you'll get a\n",
      "        normal distribution with mean mu and standard deviation sigma.\n",
      "        mu can have any value, and sigma must be greater than zero.\n",
      "    \n",
      "    normalvariate(mu=0.0, sigma=1.0) method of Random instance\n",
      "        Normal distribution.\n",
      "        \n",
      "        mu is the mean, and sigma is the standard deviation.\n",
      "    \n",
      "    paretovariate(alpha) method of Random instance\n",
      "        Pareto distribution.  alpha is the shape parameter.\n",
      "    \n",
      "    randbytes(n) method of Random instance\n",
      "        Generate n random bytes.\n",
      "    \n",
      "    randint(a, b) method of Random instance\n",
      "        Return random integer in range [a, b], including both end points.\n",
      "    \n",
      "    random() method of Random instance\n",
      "        random() -> x in the interval [0, 1).\n",
      "    \n",
      "    randrange(start, stop=None, step=1) method of Random instance\n",
      "        Choose a random item from range(stop) or range(start, stop[, step]).\n",
      "        \n",
      "        Roughly equivalent to ``choice(range(start, stop, step))`` but\n",
      "        supports arbitrarily large ranges and is optimized for common cases.\n",
      "    \n",
      "    sample(population, k, *, counts=None) method of Random instance\n",
      "        Chooses k unique random elements from a population sequence.\n",
      "        \n",
      "        Returns a new list containing elements from the population while\n",
      "        leaving the original population unchanged.  The resulting list is\n",
      "        in selection order so that all sub-slices will also be valid random\n",
      "        samples.  This allows raffle winners (the sample) to be partitioned\n",
      "        into grand prize and second place winners (the subslices).\n",
      "        \n",
      "        Members of the population need not be hashable or unique.  If the\n",
      "        population contains repeats, then each occurrence is a possible\n",
      "        selection in the sample.\n",
      "        \n",
      "        Repeated elements can be specified one at a time or with the optional\n",
      "        counts parameter.  For example:\n",
      "        \n",
      "            sample(['red', 'blue'], counts=[4, 2], k=5)\n",
      "        \n",
      "        is equivalent to:\n",
      "        \n",
      "            sample(['red', 'red', 'red', 'red', 'blue', 'blue'], k=5)\n",
      "        \n",
      "        To choose a sample from a range of integers, use range() for the\n",
      "        population argument.  This is especially fast and space efficient\n",
      "        for sampling from a large population:\n",
      "        \n",
      "            sample(range(10000000), 60)\n",
      "    \n",
      "    seed(a=None, version=2) method of Random instance\n",
      "        Initialize internal state from a seed.\n",
      "        \n",
      "        The only supported seed types are None, int, float,\n",
      "        str, bytes, and bytearray.\n",
      "        \n",
      "        None or no argument seeds from current time or from an operating\n",
      "        system specific randomness source if available.\n",
      "        \n",
      "        If *a* is an int, all bits are used.\n",
      "        \n",
      "        For version 2 (the default), all of the bits are used if *a* is a str,\n",
      "        bytes, or bytearray.  For version 1 (provided for reproducing random\n",
      "        sequences from older versions of Python), the algorithm for str and\n",
      "        bytes generates a narrower range of seeds.\n",
      "    \n",
      "    setstate(state) method of Random instance\n",
      "        Restore internal state from object returned by getstate().\n",
      "    \n",
      "    shuffle(x) method of Random instance\n",
      "        Shuffle list x in place, and return None.\n",
      "    \n",
      "    triangular(low=0.0, high=1.0, mode=None) method of Random instance\n",
      "        Triangular distribution.\n",
      "        \n",
      "        Continuous distribution bounded by given lower and upper limits,\n",
      "        and having a given mode value in-between.\n",
      "        \n",
      "        http://en.wikipedia.org/wiki/Triangular_distribution\n",
      "    \n",
      "    uniform(a, b) method of Random instance\n",
      "        Get a random number in the range [a, b) or [a, b] depending on rounding.\n",
      "    \n",
      "    vonmisesvariate(mu, kappa) method of Random instance\n",
      "        Circular data distribution.\n",
      "        \n",
      "        mu is the mean angle, expressed in radians between 0 and 2*pi, and\n",
      "        kappa is the concentration parameter, which must be greater than or\n",
      "        equal to zero.  If kappa is equal to zero, this distribution reduces\n",
      "        to a uniform random angle over the range 0 to 2*pi.\n",
      "    \n",
      "    weibullvariate(alpha, beta) method of Random instance\n",
      "        Weibull distribution.\n",
      "        \n",
      "        alpha is the scale parameter and beta is the shape parameter.\n",
      "\n",
      "DATA\n",
      "    __all__ = ['Random', 'SystemRandom', 'betavariate', 'choice', 'choices...\n",
      "\n",
      "FILE\n",
      "    c:\\users\\kk\\anaconda3\\lib\\random.py\n",
      "\n",
      "\n"
     ]
    }
   ],
   "source": [
    "# 모듈 불러오기\n",
    "import random    # 아무 숫자나 선택해 주는 함수들이 들어있는 모듈\n",
    "help(random)"
   ]
  },
  {
   "cell_type": "code",
   "execution_count": 12,
   "metadata": {
    "ExecuteTime": {
     "end_time": "2022-07-14T17:23:35.210016Z",
     "start_time": "2022-07-14T17:23:35.196016Z"
    }
   },
   "outputs": [
    {
     "data": {
      "text/plain": [
       "3"
      ]
     },
     "execution_count": 12,
     "metadata": {},
     "output_type": "execute_result"
    }
   ],
   "source": [
    "# 모듈 내 함수 사용하기\n",
    "random.randrange(1, 10)    # range(a, b) 중 값 한개를 아무거나 가지고 옴"
   ]
  },
  {
   "cell_type": "code",
   "execution_count": 13,
   "metadata": {
    "ExecuteTime": {
     "end_time": "2022-07-14T17:23:35.225017Z",
     "start_time": "2022-07-14T17:23:35.211016Z"
    }
   },
   "outputs": [
    {
     "data": {
      "text/plain": [
       "0.49099663665866666"
      ]
     },
     "execution_count": 13,
     "metadata": {},
     "output_type": "execute_result"
    }
   ],
   "source": [
    "# 모듈 내 함수 사용하기\n",
    "random.random()    # [0,1) 사이의 값 한개를 아무거나 가지고 옴"
   ]
  },
  {
   "cell_type": "code",
   "execution_count": 14,
   "metadata": {
    "ExecuteTime": {
     "end_time": "2022-07-14T17:23:35.240015Z",
     "start_time": "2022-07-14T17:23:35.226016Z"
    }
   },
   "outputs": [
    {
     "data": {
      "text/plain": [
       "[5, 2, 1]"
      ]
     },
     "execution_count": 14,
     "metadata": {},
     "output_type": "execute_result"
    }
   ],
   "source": [
    "# 모듈 내 함수 사용하기\n",
    "random.sample([1,2,3,4,5], 3)    # 리스트에 있는 값들 중 특정 숫자의 갯수를 랜덤하게 선택"
   ]
  },
  {
   "cell_type": "code",
   "execution_count": 15,
   "metadata": {
    "ExecuteTime": {
     "end_time": "2022-07-14T17:23:35.255016Z",
     "start_time": "2022-07-14T17:23:35.241017Z"
    }
   },
   "outputs": [
    {
     "name": "stdout",
     "output_type": "stream",
     "text": [
      "[1, 4, 3]\n",
      "[4, 3, 1]\n"
     ]
    }
   ],
   "source": [
    "# 모듈 내 함수 사용하기\n",
    "sample = random.sample([1,2,3,4,5], 3)    # 리스트에 있는 값들 중 특정 숫자의 갯수를 랜덤하게 선택\n",
    "print(sample)\n",
    "random.shuffle(sample)\n",
    "print(sample)"
   ]
  },
  {
   "cell_type": "markdown",
   "metadata": {},
   "source": [
    "## 사용자 정의 함수(User Defined Function)\n",
    "\n",
    "- **`내장/외장`** 함수에는 우리가 원하는 모든 함수가 포함되어 있지는 않기 때문에 **`직접 생성 필요`**\n",
    "\n",
    "**1) 함수 만들기**\n",
    ">- 정의한다(define)라는 뜻의 줄임말인 **`def`** 키워드를 사용하여 정의한다\n",
    ">- 함수에는 **`입력값`** 과 **`출력값`** 이 있으며 없을 수도 있다\n",
    ">- 입력은 **`매개변수`** 라고도 하고 출력은 **`반환값`** 이라고도 한다\n",
    ">- 함수 선언시 마지막에 **`콜론`** 을 입력한다\n",
    ">\n",
    "> ```python\n",
    "def 함수이름(매개변수):\n",
    "    실행할 명령\n",
    "    return 반환값\n",
    ">```\n",
    ">\n",
    "> <center><img src='Image/Basic/Basic_Function.PNG' width='500'></center>\n",
    ">\n",
    ">- **입력값:** 함수 선언시 입력 값으로 매개변수라고 함\n",
    ">- **출력값:** 결과값, 반환값, 돌려주는값 등\n",
    ">> - **return:** 값을 함수 밖으로 **`반환/할당`** 하는 + 함수를 **`종료`** 하는 기능\n",
    ">> - **`반환값을 제외하고 함수 안에서 사용되는 어떤 값들도 함수 밖에선 인식되지 않음`**\n",
    "\n",
    "**2) 함수 사용하기(내장함수처럼)**\n",
    ">- **입력값:** 함수 선언시 입력 값은 **`매개변수`**, 함수 사용(호출)시 입력 값은 매개변수에 할당되는 값으로 **`인수`** 라고 함\n",
    "> ```python\n",
    "함수이름(인수)\n",
    "\n",
    "**3) 함수의 실행 순서:**\n",
    "\n",
    "1. 파이썬 함수 작성 및 실행\n",
    "2. 작성 함수 호출(함수 생성 전 호출 불가)\n",
    "3. 호출된 함수 실행\n",
    "4. 호출된 함수 출력\n",
    "5. 호출된 함수 종료\n",
    "\n",
    "```python\n",
    "# 함수를 정의할 때\n",
    "def my_func(a, b):    # 선언 함수이름(매개변수)\n",
    "    c = 2 * (a + b)    # 실행할 명령\n",
    "    return c    # c를 함수 밖으로 출력\n",
    "\n",
    "# 함수를 사용할 때\n",
    "my_func(3, 4)    # 3, 4는 인수이며 위 함수의 매개변수 값이되어 c값인 14가 출력\n",
    "```"
   ]
  },
  {
   "cell_type": "code",
   "execution_count": 16,
   "metadata": {
    "ExecuteTime": {
     "end_time": "2022-07-14T17:23:35.270016Z",
     "start_time": "2022-07-14T17:23:35.256017Z"
    }
   },
   "outputs": [
    {
     "data": {
      "text/plain": [
       "1"
      ]
     },
     "execution_count": 16,
     "metadata": {},
     "output_type": "execute_result"
    }
   ],
   "source": [
    "5 % 2"
   ]
  },
  {
   "cell_type": "code",
   "execution_count": 17,
   "metadata": {
    "ExecuteTime": {
     "end_time": "2022-07-14T17:23:35.285017Z",
     "start_time": "2022-07-14T17:23:35.271017Z"
    }
   },
   "outputs": [
    {
     "data": {
      "text/plain": [
       "3"
      ]
     },
     "execution_count": 17,
     "metadata": {},
     "output_type": "execute_result"
    }
   ],
   "source": [
    "7 % 4"
   ]
  },
  {
   "cell_type": "code",
   "execution_count": 18,
   "metadata": {
    "ExecuteTime": {
     "end_time": "2022-07-14T17:23:35.300017Z",
     "start_time": "2022-07-14T17:23:35.287017Z"
    }
   },
   "outputs": [
    {
     "data": {
      "text/plain": [
       "1"
      ]
     },
     "execution_count": 18,
     "metadata": {},
     "output_type": "execute_result"
    }
   ],
   "source": [
    "# 함수정의\n",
    "# 함수의 이름(함수이름)은 func_name이고 입력으로 2개의 값을 받아 나눈 나머지를 출력\n",
    "# 정의한 함수를 사용(호출)하여 5를 2로 나눈 나머지를 출력\n",
    "\n",
    "def func_name(a, b):\n",
    "    return a % b\n",
    "\n",
    "func_name(5,2)"
   ]
  },
  {
   "cell_type": "code",
   "execution_count": 19,
   "metadata": {
    "ExecuteTime": {
     "end_time": "2022-07-14T17:23:35.315016Z",
     "start_time": "2022-07-14T17:23:35.301016Z"
    }
   },
   "outputs": [
    {
     "data": {
      "text/plain": [
       "1"
      ]
     },
     "execution_count": 19,
     "metadata": {},
     "output_type": "execute_result"
    }
   ],
   "source": [
    "# 변수값으로 출력 가능\n",
    "def func_name(a, b):\n",
    "    result = a % b\n",
    "    return result\n",
    "\n",
    "func_name(5,2)"
   ]
  },
  {
   "cell_type": "code",
   "execution_count": 20,
   "metadata": {
    "ExecuteTime": {
     "end_time": "2022-07-14T17:23:35.330017Z",
     "start_time": "2022-07-14T17:23:35.316018Z"
    }
   },
   "outputs": [
    {
     "data": {
      "text/plain": [
       "1"
      ]
     },
     "execution_count": 20,
     "metadata": {},
     "output_type": "execute_result"
    }
   ],
   "source": [
    "# 변수값으로 출력 가능\n",
    "def func_name(a, b):\n",
    "    result = a % b\n",
    "    return result\n",
    "\n",
    "y = func_name(5,2)\n",
    "y"
   ]
  },
  {
   "cell_type": "code",
   "execution_count": 21,
   "metadata": {
    "ExecuteTime": {
     "end_time": "2022-07-14T17:23:35.346022Z",
     "start_time": "2022-07-14T17:23:35.332017Z"
    }
   },
   "outputs": [
    {
     "data": {
      "text/plain": [
       "1"
      ]
     },
     "execution_count": 21,
     "metadata": {},
     "output_type": "execute_result"
    }
   ],
   "source": [
    "# 예시 결과 확인\n",
    "func_name(1,3)"
   ]
  },
  {
   "cell_type": "code",
   "execution_count": 22,
   "metadata": {
    "ExecuteTime": {
     "end_time": "2022-07-14T17:23:35.361017Z",
     "start_time": "2022-07-14T17:23:35.347016Z"
    }
   },
   "outputs": [
    {
     "data": {
      "text/plain": [
       "2"
      ]
     },
     "execution_count": 22,
     "metadata": {},
     "output_type": "execute_result"
    }
   ],
   "source": [
    "# 예시 결과 확인\n",
    "func_name(50,4)"
   ]
  },
  {
   "cell_type": "code",
   "execution_count": 23,
   "metadata": {
    "ExecuteTime": {
     "end_time": "2022-07-14T17:23:35.376017Z",
     "start_time": "2022-07-14T17:23:35.364019Z"
    }
   },
   "outputs": [],
   "source": [
    "# print(a)\n",
    "# print(b)"
   ]
  },
  {
   "cell_type": "code",
   "execution_count": 24,
   "metadata": {
    "ExecuteTime": {
     "end_time": "2022-07-14T17:23:35.392016Z",
     "start_time": "2022-07-14T17:23:35.378017Z"
    }
   },
   "outputs": [
    {
     "name": "stdout",
     "output_type": "stream",
     "text": [
      "Hello, world!\n"
     ]
    }
   ],
   "source": [
    "# 예시 결과 확인\n",
    "def hello():\n",
    "    print('Hello, world!')\n",
    "\n",
    "hello()"
   ]
  },
  {
   "cell_type": "code",
   "execution_count": 25,
   "metadata": {
    "ExecuteTime": {
     "end_time": "2022-07-14T17:23:35.407015Z",
     "start_time": "2022-07-14T17:23:35.393018Z"
    }
   },
   "outputs": [
    {
     "name": "stdout",
     "output_type": "stream",
     "text": [
      "Hello, world!\n"
     ]
    }
   ],
   "source": [
    "# 예시 결과 확인\n",
    "def hello():\n",
    "    print('Hello, world!')\n",
    "\n",
    "result = hello()"
   ]
  },
  {
   "cell_type": "code",
   "execution_count": 26,
   "metadata": {
    "ExecuteTime": {
     "end_time": "2022-07-14T17:23:35.422014Z",
     "start_time": "2022-07-14T17:23:35.408016Z"
    }
   },
   "outputs": [],
   "source": [
    "# 예시 결과 확인\n",
    "result"
   ]
  },
  {
   "cell_type": "code",
   "execution_count": 27,
   "metadata": {
    "ExecuteTime": {
     "end_time": "2022-07-14T17:23:35.437015Z",
     "start_time": "2022-07-14T17:23:35.426016Z"
    }
   },
   "outputs": [],
   "source": [
    "# 함수 명령 건너띄기\n",
    "def hello():\n",
    "    pass"
   ]
  },
  {
   "cell_type": "code",
   "execution_count": 28,
   "metadata": {
    "ExecuteTime": {
     "end_time": "2022-07-14T17:23:35.452017Z",
     "start_time": "2022-07-14T17:23:35.438018Z"
    }
   },
   "outputs": [],
   "source": [
    "# 예시 결과 확인\n",
    "hello()"
   ]
  },
  {
   "cell_type": "markdown",
   "metadata": {},
   "source": [
    "### 입력도 없고 출력도 없는 함수"
   ]
  },
  {
   "cell_type": "code",
   "execution_count": 29,
   "metadata": {
    "ExecuteTime": {
     "end_time": "2022-07-14T17:23:35.467018Z",
     "start_time": "2022-07-14T17:23:35.453016Z"
    }
   },
   "outputs": [
    {
     "name": "stdout",
     "output_type": "stream",
     "text": [
      "My name is KK\n",
      "My name is KK\n"
     ]
    }
   ],
   "source": [
    "# 함수를 작성하고, 함수를 호출하여 결과 확인\n",
    "\n",
    "def func1():\n",
    "    print('My name is KK')\n",
    "    \n",
    "func1()\n",
    "func1()"
   ]
  },
  {
   "cell_type": "markdown",
   "metadata": {},
   "source": [
    "### 입력만 있는 함수"
   ]
  },
  {
   "cell_type": "code",
   "execution_count": 30,
   "metadata": {
    "ExecuteTime": {
     "end_time": "2022-07-14T17:23:35.482015Z",
     "start_time": "2022-07-14T17:23:35.470017Z"
    }
   },
   "outputs": [
    {
     "name": "stdout",
     "output_type": "stream",
     "text": [
      "2 곱하기 4 = 8\n"
     ]
    }
   ],
   "source": [
    "# 함수를 작성하고, 함수를 호출하여 결과 확인\n",
    "# a = 2, b = 4\n",
    "\n",
    "def func2(a, b):\n",
    "    print(f'{a} 곱하기 {b} = {a*b}')\n",
    "    \n",
    "func2(2,4)"
   ]
  },
  {
   "cell_type": "code",
   "execution_count": 31,
   "metadata": {
    "ExecuteTime": {
     "end_time": "2022-07-14T17:23:35.497015Z",
     "start_time": "2022-07-14T17:23:35.484017Z"
    }
   },
   "outputs": [
    {
     "name": "stdout",
     "output_type": "stream",
     "text": [
      "5 곱하기 4 = 20\n"
     ]
    }
   ],
   "source": [
    "# 예시 결과 확인\n",
    "func2(5,4)"
   ]
  },
  {
   "cell_type": "code",
   "execution_count": 32,
   "metadata": {
    "ExecuteTime": {
     "end_time": "2022-07-14T17:23:35.512017Z",
     "start_time": "2022-07-14T17:23:35.498017Z"
    }
   },
   "outputs": [
    {
     "name": "stdout",
     "output_type": "stream",
     "text": [
      "10 곱하기 2 = 20\n"
     ]
    }
   ],
   "source": [
    "# 예시 결과 확인\n",
    "func2(10,2)"
   ]
  },
  {
   "cell_type": "code",
   "execution_count": 33,
   "metadata": {
    "ExecuteTime": {
     "end_time": "2022-07-14T17:23:35.527017Z",
     "start_time": "2022-07-14T17:23:35.513017Z"
    }
   },
   "outputs": [
    {
     "name": "stdout",
     "output_type": "stream",
     "text": [
      "10 곱하기 2 = 20\n"
     ]
    }
   ],
   "source": [
    "# 예시 결과 확인\n",
    "y = func2(10,2)"
   ]
  },
  {
   "cell_type": "code",
   "execution_count": 34,
   "metadata": {
    "ExecuteTime": {
     "end_time": "2022-07-14T17:23:35.542015Z",
     "start_time": "2022-07-14T17:23:35.528016Z"
    }
   },
   "outputs": [],
   "source": [
    "# 예시 결과 확인\n",
    "y"
   ]
  },
  {
   "cell_type": "markdown",
   "metadata": {},
   "source": [
    "### 출력만 있는 함수"
   ]
  },
  {
   "cell_type": "code",
   "execution_count": 35,
   "metadata": {
    "ExecuteTime": {
     "end_time": "2022-07-14T17:23:35.557016Z",
     "start_time": "2022-07-14T17:23:35.543016Z"
    }
   },
   "outputs": [
    {
     "data": {
      "text/plain": [
       "'What is your name? '"
      ]
     },
     "execution_count": 35,
     "metadata": {},
     "output_type": "execute_result"
    }
   ],
   "source": [
    "# 함수를 작성하고, 함수를 호출하여 결과 확인\n",
    "\n",
    "def func3():\n",
    "    return 'What is your name? '\n",
    "\n",
    "func3()"
   ]
  },
  {
   "cell_type": "code",
   "execution_count": 36,
   "metadata": {
    "ExecuteTime": {
     "end_time": "2022-07-14T17:23:35.572051Z",
     "start_time": "2022-07-14T17:23:35.558017Z"
    }
   },
   "outputs": [],
   "source": [
    "# 예시 결과 확인\n",
    "y = func3()"
   ]
  },
  {
   "cell_type": "code",
   "execution_count": 37,
   "metadata": {
    "ExecuteTime": {
     "end_time": "2022-07-14T17:23:35.587046Z",
     "start_time": "2022-07-14T17:23:35.573018Z"
    }
   },
   "outputs": [
    {
     "data": {
      "text/plain": [
       "'What is your name? KK'"
      ]
     },
     "execution_count": 37,
     "metadata": {},
     "output_type": "execute_result"
    }
   ],
   "source": [
    "# 예시 결과 확인\n",
    "y = func3()\n",
    "y + 'KK'"
   ]
  },
  {
   "cell_type": "markdown",
   "metadata": {},
   "source": [
    "### 입력이나 출력이 여러개인 함수"
   ]
  },
  {
   "cell_type": "code",
   "execution_count": 38,
   "metadata": {
    "ExecuteTime": {
     "end_time": "2022-07-14T17:23:35.602042Z",
     "start_time": "2022-07-14T17:23:35.588018Z"
    }
   },
   "outputs": [
    {
     "data": {
      "text/plain": [
       "10"
      ]
     },
     "execution_count": 38,
     "metadata": {},
     "output_type": "execute_result"
    }
   ],
   "source": [
    "# 함수를 작성하고, 함수를 호출하여 결과 확인\n",
    "# a=1, b=2, c=3, d=4\n",
    "\n",
    "def input_several(a, b, c, d):\n",
    "    summation = a + b + c + d\n",
    "    return summation\n",
    "\n",
    "input_several(1,2,3,4)"
   ]
  },
  {
   "cell_type": "code",
   "execution_count": 39,
   "metadata": {
    "ExecuteTime": {
     "end_time": "2022-07-14T17:23:35.617046Z",
     "start_time": "2022-07-14T17:23:35.603017Z"
    }
   },
   "outputs": [],
   "source": [
    "# input_several(1,2,3,4,5)"
   ]
  },
  {
   "cell_type": "code",
   "execution_count": 40,
   "metadata": {
    "ExecuteTime": {
     "end_time": "2022-07-14T17:23:35.632015Z",
     "start_time": "2022-07-14T17:23:35.618016Z"
    }
   },
   "outputs": [
    {
     "data": {
      "text/plain": [
       "(10, -10)"
      ]
     },
     "execution_count": 40,
     "metadata": {},
     "output_type": "execute_result"
    }
   ],
   "source": [
    "# 함수를 작성하고, 함수를 호출하여 결과 확인\n",
    "# 모든 입력값의 합과 차를 계산하는 함수\n",
    "# a=1, b=2, c=3, d=4\n",
    "\n",
    "def output_several(a, b, c, d):\n",
    "    plus = a + b + c + d\n",
    "    minus = - a - b - c - d\n",
    "    return plus, minus\n",
    "\n",
    "output_several(1,2,3,4)"
   ]
  },
  {
   "cell_type": "code",
   "execution_count": 41,
   "metadata": {
    "ExecuteTime": {
     "end_time": "2022-07-14T17:23:35.647049Z",
     "start_time": "2022-07-14T17:23:35.634017Z"
    }
   },
   "outputs": [
    {
     "name": "stdout",
     "output_type": "stream",
     "text": [
      "10 -10\n"
     ]
    }
   ],
   "source": [
    "# 변수로 받아 출력 가능\n",
    "x, y = output_several(1,2,3,4)\n",
    "print(x, y)"
   ]
  },
  {
   "cell_type": "markdown",
   "metadata": {},
   "source": [
    "# **파이썬함수 응용**"
   ]
  },
  {
   "cell_type": "markdown",
   "metadata": {},
   "source": [
    "## **위치인수:** 인수값 순서대로 반영\n",
    "\n",
    "- **위치인수(Positional Argument):** 함수 사용시 입력(인자) 순서대로 매개변수의 값으로 반영되는 방식"
   ]
  },
  {
   "cell_type": "code",
   "execution_count": 42,
   "metadata": {
    "ExecuteTime": {
     "end_time": "2022-07-14T17:23:35.662015Z",
     "start_time": "2022-07-14T17:23:35.649015Z"
    }
   },
   "outputs": [
    {
     "name": "stdout",
     "output_type": "stream",
     "text": [
      "10 20 30\n"
     ]
    }
   ],
   "source": [
    "print(10, 20, 30)"
   ]
  },
  {
   "cell_type": "code",
   "execution_count": 43,
   "metadata": {
    "ExecuteTime": {
     "end_time": "2022-07-14T17:23:35.678016Z",
     "start_time": "2022-07-14T17:23:35.663017Z"
    }
   },
   "outputs": [
    {
     "name": "stdout",
     "output_type": "stream",
     "text": [
      "10\n",
      "20\n",
      "30\n"
     ]
    }
   ],
   "source": [
    "def print_numbers(a, b, c):\n",
    "    print(a)\n",
    "    print(b)\n",
    "    print(c)\n",
    "    \n",
    "print_numbers(10, 20, 30)"
   ]
  },
  {
   "cell_type": "code",
   "execution_count": 44,
   "metadata": {
    "ExecuteTime": {
     "end_time": "2022-07-14T17:23:35.694015Z",
     "start_time": "2022-07-14T17:23:35.679017Z"
    }
   },
   "outputs": [
    {
     "name": "stdout",
     "output_type": "stream",
     "text": [
      "10\n",
      "20\n",
      "30\n",
      "40\n",
      "50\n",
      "60\n",
      "70\n",
      "80\n",
      "90\n",
      "100\n"
     ]
    }
   ],
   "source": [
    "# 함수의 입력값은 코드의 입력 위치와 매핑되어 자동으로 인식\n",
    "\n",
    "def print_numbers(a, b, c, d, e, f, g, h, i, j):\n",
    "    print(a)\n",
    "    print(b)\n",
    "    print(c)\n",
    "    print(d)\n",
    "    print(e)\n",
    "    print(f)\n",
    "    print(g)\n",
    "    print(h)\n",
    "    print(i)\n",
    "    print(j)\n",
    "    \n",
    "print_numbers(10, 20, 30, 40, 50, 60, 70, 80, 90, 100)"
   ]
  },
  {
   "cell_type": "markdown",
   "metadata": {},
   "source": [
    "## **아규먼트인수:** 갯수를 알수없는 위치인수 처리"
   ]
  },
  {
   "cell_type": "markdown",
   "metadata": {},
   "source": [
    "- **언패킹(Unpacking):** 함수 입력값(인수) 앞에 `*` 기호를 붙이면 `리스트/튜플/변수` 내부 값들을 모두 모아 튜플로 변경후 매개변수로 반영\n",
    "- `언패킹 인수`로 리스트/튜플/변수 사용시, 인수 내부 `값의 갯수`와 `매개변수의 갯수`는 같아야 함\n",
    "\n",
    "```python\n",
    "# 함수 사용\n",
    "함수이름(*인수)\n",
    "```"
   ]
  },
  {
   "cell_type": "code",
   "execution_count": 45,
   "metadata": {
    "ExecuteTime": {
     "end_time": "2022-07-14T17:23:35.709049Z",
     "start_time": "2022-07-14T17:23:35.695016Z"
    }
   },
   "outputs": [
    {
     "name": "stdout",
     "output_type": "stream",
     "text": [
      "10\n",
      "20\n",
      "30\n"
     ]
    }
   ],
   "source": [
    "def print_numbers(a, b, c):\n",
    "    print(a)\n",
    "    print(b)\n",
    "    print(c)\n",
    "\n",
    "# print_numbers(10, 20, 30)    \n",
    "print_numbers(*[10, 20, 30])"
   ]
  },
  {
   "cell_type": "code",
   "execution_count": 46,
   "metadata": {
    "ExecuteTime": {
     "end_time": "2022-07-14T17:23:35.724016Z",
     "start_time": "2022-07-14T17:23:35.710016Z"
    }
   },
   "outputs": [
    {
     "name": "stdout",
     "output_type": "stream",
     "text": [
      "10\n",
      "20\n",
      "30\n"
     ]
    }
   ],
   "source": [
    "# x에 [10, 20, 30]를 반영하고 이를 아규먼트를 사용하여 print_numbers 함수를 출력\n",
    "x = [10, 20, 30]\n",
    "print_numbers(*x)"
   ]
  },
  {
   "cell_type": "code",
   "execution_count": 47,
   "metadata": {
    "ExecuteTime": {
     "end_time": "2022-07-14T17:23:35.739015Z",
     "start_time": "2022-07-14T17:23:35.725017Z"
    }
   },
   "outputs": [],
   "source": [
    "# 입력 갯수가 다르면 오류 발생\n",
    "# print_numbers(*[10, 20, 30, 40, 50])"
   ]
  },
  {
   "cell_type": "markdown",
   "metadata": {},
   "source": [
    "- **가변인수(Variable Argument):** 인수(입력)의 갯수가 정해지지 않은 것\n",
    "- `언패킹`을 활용하여 `가변인수` 처리 가능\n",
    "- `언패킹 인수`로 리스트/튜플/변수 사용시, 인수 내부 `값의 갯수`와 `매개변수의 갯수`는 같아야 함\n",
    "- `언패킹 매개변수` 사용시, 인수 값의 `갯수 무관` (1개, 10개, 0개 모두 가능)\n",
    "\n",
    "```python\n",
    "# 함수 생성\n",
    "def 함수이름(*매개변수):\n",
    "    문장\n",
    "\n",
    "# 함수 사용    \n",
    "함수이름(*인수)    \n",
    "```"
   ]
  },
  {
   "cell_type": "code",
   "execution_count": 48,
   "metadata": {
    "ExecuteTime": {
     "end_time": "2022-07-14T17:23:35.754016Z",
     "start_time": "2022-07-14T17:23:35.740016Z"
    }
   },
   "outputs": [
    {
     "name": "stdout",
     "output_type": "stream",
     "text": [
      "(10, 20, 30, 40, 50)\n"
     ]
    }
   ],
   "source": [
    "# 가변인수를 사용해서 입력의 갯수를 조정 가능\n",
    "def print_numbers(*a):\n",
    "    print(a)\n",
    "    \n",
    "x = [10, 20, 30, 40, 50]\n",
    "print_numbers(*x)"
   ]
  },
  {
   "cell_type": "code",
   "execution_count": 49,
   "metadata": {
    "ExecuteTime": {
     "end_time": "2022-07-14T17:23:35.769016Z",
     "start_time": "2022-07-14T17:23:35.756018Z"
    }
   },
   "outputs": [
    {
     "name": "stdout",
     "output_type": "stream",
     "text": [
      "(10, 20, 30, 40, 50, 60, 70)\n"
     ]
    }
   ],
   "source": [
    "# 다양한 상황 활용 가능\n",
    "x = [10, 20, 30, 40, 50, 60, 70]\n",
    "print_numbers(*x)"
   ]
  },
  {
   "cell_type": "code",
   "execution_count": 50,
   "metadata": {
    "ExecuteTime": {
     "end_time": "2022-07-14T17:23:35.784016Z",
     "start_time": "2022-07-14T17:23:35.770016Z"
    }
   },
   "outputs": [
    {
     "name": "stdout",
     "output_type": "stream",
     "text": [
      "(10,)\n",
      "10\n"
     ]
    }
   ],
   "source": [
    "# 입력값들의 개별 출력 가능\n",
    "def print_numbers(*args):\n",
    "    print(args)\n",
    "    for arg in args:\n",
    "        print(arg)\n",
    "        \n",
    "print_numbers(10)"
   ]
  },
  {
   "cell_type": "code",
   "execution_count": 51,
   "metadata": {
    "ExecuteTime": {
     "end_time": "2022-07-14T17:23:35.799015Z",
     "start_time": "2022-07-14T17:23:35.785016Z"
    }
   },
   "outputs": [
    {
     "name": "stdout",
     "output_type": "stream",
     "text": [
      "10\n"
     ]
    }
   ],
   "source": [
    "# 입력값들의 개별 출력 가능\n",
    "def print_numbers(*args):\n",
    "    for arg in args:\n",
    "        print(arg)\n",
    "        \n",
    "print_numbers(10)"
   ]
  },
  {
   "cell_type": "code",
   "execution_count": 52,
   "metadata": {
    "ExecuteTime": {
     "end_time": "2022-07-14T17:23:35.814015Z",
     "start_time": "2022-07-14T17:23:35.800016Z"
    }
   },
   "outputs": [],
   "source": [
    "# 예시 출력 확인\n",
    "print_numbers()"
   ]
  },
  {
   "cell_type": "code",
   "execution_count": 53,
   "metadata": {
    "ExecuteTime": {
     "end_time": "2022-07-14T17:23:35.829014Z",
     "start_time": "2022-07-14T17:23:35.815016Z"
    }
   },
   "outputs": [
    {
     "name": "stdout",
     "output_type": "stream",
     "text": [
      "10\n",
      "20\n",
      "30\n",
      "40\n"
     ]
    }
   ],
   "source": [
    "# 예시 출력 확인\n",
    "print_numbers(10, 20, 30, 40)"
   ]
  },
  {
   "cell_type": "code",
   "execution_count": 54,
   "metadata": {
    "ExecuteTime": {
     "end_time": "2022-07-14T17:23:35.844016Z",
     "start_time": "2022-07-14T17:23:35.830016Z"
    }
   },
   "outputs": [
    {
     "name": "stdout",
     "output_type": "stream",
     "text": [
      "10\n",
      "20\n",
      "30\n",
      "40\n",
      "50\n",
      "60\n",
      "70\n"
     ]
    }
   ],
   "source": [
    "# 예시 출력 확인\n",
    "y = [10, 20, 30, 40, 50, 60, 70]\n",
    "print_numbers(*y)"
   ]
  },
  {
   "cell_type": "code",
   "execution_count": 55,
   "metadata": {
    "ExecuteTime": {
     "end_time": "2022-07-14T17:23:35.859016Z",
     "start_time": "2022-07-14T17:23:35.846023Z"
    }
   },
   "outputs": [
    {
     "name": "stdout",
     "output_type": "stream",
     "text": [
      "10\n"
     ]
    }
   ],
   "source": [
    "# 값의 위치를 기반으로 출력 가능\n",
    "def print_numbers(args):\n",
    "    length = len(args)\n",
    "    for i in range(length):\n",
    "        print(args[i])\n",
    "        \n",
    "print_numbers([10])"
   ]
  },
  {
   "cell_type": "code",
   "execution_count": 56,
   "metadata": {
    "ExecuteTime": {
     "end_time": "2022-07-14T17:23:35.874015Z",
     "start_time": "2022-07-14T17:23:35.860015Z"
    }
   },
   "outputs": [
    {
     "name": "stdout",
     "output_type": "stream",
     "text": [
      "10\n",
      "20\n",
      "30\n"
     ]
    }
   ],
   "source": [
    "# 예시 출력 확인\n",
    "print_numbers([10, 20, 30])"
   ]
  },
  {
   "cell_type": "code",
   "execution_count": 57,
   "metadata": {
    "ExecuteTime": {
     "end_time": "2022-07-14T17:23:35.889013Z",
     "start_time": "2022-07-14T17:23:35.875016Z"
    }
   },
   "outputs": [
    {
     "data": {
      "text/plain": [
       "3"
      ]
     },
     "execution_count": 57,
     "metadata": {},
     "output_type": "execute_result"
    }
   ],
   "source": [
    "# 입력값들의 합을 계산\n",
    "def total_sum(*args):\n",
    "    a = 0\n",
    "    for i in args:\n",
    "        a = a + i\n",
    "    return a\n",
    "\n",
    "total_sum(1,2)"
   ]
  },
  {
   "cell_type": "code",
   "execution_count": 58,
   "metadata": {
    "ExecuteTime": {
     "end_time": "2022-07-14T17:23:35.904015Z",
     "start_time": "2022-07-14T17:23:35.890018Z"
    }
   },
   "outputs": [
    {
     "data": {
      "text/plain": [
       "18"
      ]
     },
     "execution_count": 58,
     "metadata": {},
     "output_type": "execute_result"
    }
   ],
   "source": [
    "# 3,4,5,6의 합을 위 함수를 사용하여 출력\n",
    "total_sum(3,4,5,6)"
   ]
  },
  {
   "cell_type": "code",
   "execution_count": 59,
   "metadata": {
    "ExecuteTime": {
     "end_time": "2022-07-14T17:23:35.919014Z",
     "start_time": "2022-07-14T17:23:35.905017Z"
    }
   },
   "outputs": [
    {
     "data": {
      "text/plain": [
       "0"
      ]
     },
     "execution_count": 59,
     "metadata": {},
     "output_type": "execute_result"
    }
   ],
   "source": [
    "# 예시 출력 확인\n",
    "total_sum()"
   ]
  },
  {
   "cell_type": "markdown",
   "metadata": {},
   "source": [
    "- ***args:** `arguments`의 약자로 함수를 호출할 때 매개변수 이름으로 통상 사용\n",
    "- 튜플로 변환된 입력 인수 값들을 `args`로 할당되어 함수 내부에 사용\n",
    "- 위치인수와 아규먼트인수를 함께 사용시, 위치인수에 대응되는 위치 매개변수를 항상 우선 사용하고 다음 매개변수로 `*args`를 사용\n",
    "\n",
    "```python\n",
    "# 함수 생성\n",
    "def 함수이름(위치 매개변수, *args):\n",
    "    문장\n",
    "```"
   ]
  },
  {
   "cell_type": "code",
   "execution_count": 60,
   "metadata": {
    "ExecuteTime": {
     "end_time": "2022-07-14T17:23:35.934017Z",
     "start_time": "2022-07-14T17:23:35.921020Z"
    }
   },
   "outputs": [
    {
     "name": "stdout",
     "output_type": "stream",
     "text": [
      "5 (2, 3)\n",
      "7\n",
      "8\n"
     ]
    }
   ],
   "source": [
    "# 위치인수와 가변인수를 모두 입력으로 활용 가능\n",
    "def print_numbers(a, *args):\n",
    "    print(a, args)\n",
    "    for arg in args:\n",
    "        print(arg + a)\n",
    "    \n",
    "print_numbers(5, 2, 3)"
   ]
  },
  {
   "cell_type": "code",
   "execution_count": 61,
   "metadata": {
    "ExecuteTime": {
     "end_time": "2022-07-14T17:23:35.949016Z",
     "start_time": "2022-07-14T17:23:35.935016Z"
    }
   },
   "outputs": [],
   "source": [
    "def print_numbers(a, *args):\n",
    "    print(a)\n",
    "    print(args)"
   ]
  },
  {
   "cell_type": "code",
   "execution_count": 62,
   "metadata": {
    "ExecuteTime": {
     "end_time": "2022-07-14T17:23:35.964015Z",
     "start_time": "2022-07-14T17:23:35.950018Z"
    }
   },
   "outputs": [
    {
     "name": "stdout",
     "output_type": "stream",
     "text": [
      "1\n",
      "()\n"
     ]
    }
   ],
   "source": [
    "print_numbers(1)"
   ]
  },
  {
   "cell_type": "code",
   "execution_count": 63,
   "metadata": {
    "ExecuteTime": {
     "end_time": "2022-07-14T17:23:35.979014Z",
     "start_time": "2022-07-14T17:23:35.965016Z"
    }
   },
   "outputs": [
    {
     "name": "stdout",
     "output_type": "stream",
     "text": [
      "1\n",
      "(10, 20)\n"
     ]
    }
   ],
   "source": [
    "print_numbers(1, 10, 20)"
   ]
  },
  {
   "cell_type": "code",
   "execution_count": 64,
   "metadata": {
    "ExecuteTime": {
     "end_time": "2022-07-14T17:23:35.994015Z",
     "start_time": "2022-07-14T17:23:35.980016Z"
    }
   },
   "outputs": [
    {
     "name": "stdout",
     "output_type": "stream",
     "text": [
      "10\n",
      "(20, 30)\n"
     ]
    }
   ],
   "source": [
    "print_numbers(*[10, 20, 30])"
   ]
  },
  {
   "cell_type": "markdown",
   "metadata": {},
   "source": [
    "- **Question:** 언패킹 매개변수(`*args`)를 사용하여, 입력된 교과목 점수들 중 최고점수를 출력하는 프로그램(함수)를 `get_max_score`라는 이름으로 만들고 아래 예제와 같이 3과목과 5과목의 교과목들 중 가장 높은 점수를 출력해 보시오\n",
    "\n",
    "```python\n",
    "# 프로그램(함수) 작성\n",
    "\n",
    "\n",
    "# 입력 후보\n",
    "korean, english, mathematics, science, history = 100, 86, 81, 91, 95\n",
    "\n",
    "# 3과목 입력 프로그램 및 결과\n",
    "max_score = get_max_score(korean, english, mathematics)\n",
    "print('높은점수: ', max_score)\n",
    "\n",
    "# 5과목 입력 프로그램 및 결과\n",
    "max_score = get_max_score(korean, english, mathematics, science, history)\n",
    "print('높은점수: ', max_score)\n",
    "```"
   ]
  },
  {
   "cell_type": "code",
   "execution_count": 65,
   "metadata": {
    "ExecuteTime": {
     "end_time": "2022-07-14T17:23:36.009014Z",
     "start_time": "2022-07-14T17:23:35.995015Z"
    }
   },
   "outputs": [],
   "source": [
    "# 프로그램(함수) 작성\n",
    "\n",
    "\n",
    "# 입력 후보\n",
    "korean, english, mathematics, science, history = 100, 86, 81, 91, 95\n",
    "\n",
    "# # 3과목 입력 프로그램 및 결과\n",
    "# max_score = get_max_score(korean, english, mathematics)\n",
    "# print('높은점수: ', max_score)\n",
    "\n",
    "# # 5과목 입력 프로그램 및 결과\n",
    "# max_score = get_max_score(korean, english, mathematics, science, history)\n",
    "# print('높은점수: ', max_score)"
   ]
  },
  {
   "cell_type": "markdown",
   "metadata": {},
   "source": [
    "- **Question:** 입력 갯수와 상관없이 `최소값, 최대값, 평균값`을   프로그램을 만들고, 임의의 입력값 5개와 8개일때의 `최소값, 최대값, 평균값`을 출력하시오"
   ]
  },
  {
   "cell_type": "code",
   "execution_count": 66,
   "metadata": {
    "ExecuteTime": {
     "end_time": "2022-07-14T17:23:36.024016Z",
     "start_time": "2022-07-14T17:23:36.010016Z"
    }
   },
   "outputs": [],
   "source": [
    "# 프로그램(함수) 작성\n",
    "\n",
    "\n",
    "# 임의 입력 5개 사용 출력 확인\n",
    "\n",
    "\n",
    "# 임의 입력 8개 사용 출력 확인\n",
    "\n"
   ]
  },
  {
   "cell_type": "markdown",
   "metadata": {},
   "source": [
    "## **키워드인수:** 위치인수의 매개변수 변경\n",
    "\n",
    "- **키워드 인수(Keyword Argument):** 함수 사용의 인수 입력시 대응되는 위치의 매개변수의 함수 내 역할을 알아야 하지만, `각 인수`마다 `매개변수 이름`을 함께 입력하면 매개변수 역할이나 위치 고려할 필요 없음\n",
    "\n",
    "```python\n",
    "# 프로그램\n",
    "def 함수이름(매개변수1, 매개변수2, 매개변수3):\n",
    "    문장\n",
    "    \n",
    "# 사용\n",
    "함수이름(매개변수3=값, 매개변수1=값, 매개변수2=값)\n",
    "```"
   ]
  },
  {
   "cell_type": "code",
   "execution_count": 67,
   "metadata": {
    "ExecuteTime": {
     "end_time": "2022-07-14T17:23:36.039015Z",
     "start_time": "2022-07-14T17:23:36.025018Z"
    }
   },
   "outputs": [],
   "source": [
    "# 키워드 인수를 사용하여 입력값을 고정 가능\n",
    "def personal_info(name, age, address):\n",
    "    print('이름: ', name)\n",
    "    print('나이: ', age)\n",
    "    print('주소: ', address)"
   ]
  },
  {
   "cell_type": "code",
   "execution_count": 68,
   "metadata": {
    "ExecuteTime": {
     "end_time": "2022-07-14T17:23:36.054016Z",
     "start_time": "2022-07-14T17:23:36.040016Z"
    }
   },
   "outputs": [
    {
     "name": "stdout",
     "output_type": "stream",
     "text": [
      "이름:  KK\n",
      "나이:  30\n",
      "주소:  서울시 용산구\n"
     ]
    }
   ],
   "source": [
    "# 위 함수 사용하여 본인 이름, 나이, 주소를 출력\n",
    "personal_info('KK', 30, '서울시 용산구')"
   ]
  },
  {
   "cell_type": "code",
   "execution_count": 69,
   "metadata": {
    "ExecuteTime": {
     "end_time": "2022-07-14T17:23:36.069047Z",
     "start_time": "2022-07-14T17:23:36.055018Z"
    }
   },
   "outputs": [
    {
     "name": "stdout",
     "output_type": "stream",
     "text": [
      "이름:  서울시 용산구\n",
      "나이:  KK\n",
      "주소:  30\n"
     ]
    }
   ],
   "source": [
    "# 입력값의 위치를 바꾸면 결과도 변경\n",
    "personal_info('서울시 용산구', 'KK', 30)"
   ]
  },
  {
   "cell_type": "code",
   "execution_count": 70,
   "metadata": {
    "ExecuteTime": {
     "end_time": "2022-07-14T17:23:36.084046Z",
     "start_time": "2022-07-14T17:23:36.070018Z"
    }
   },
   "outputs": [
    {
     "name": "stdout",
     "output_type": "stream",
     "text": [
      "이름:  KK\n",
      "나이:  30\n",
      "주소:  서울시 용산구\n"
     ]
    }
   ],
   "source": [
    "# 입력값의 위치를 바꾸더라도 결과가 달라지지 않도록 고정 가능\n",
    "personal_info(name='KK', age=30, address='서울시 용산구')"
   ]
  },
  {
   "cell_type": "code",
   "execution_count": 71,
   "metadata": {
    "ExecuteTime": {
     "end_time": "2022-07-14T17:23:36.099048Z",
     "start_time": "2022-07-14T17:23:36.085016Z"
    }
   },
   "outputs": [
    {
     "name": "stdout",
     "output_type": "stream",
     "text": [
      "이름:  KK\n",
      "나이:  30\n",
      "주소:  서울시 용산구\n"
     ]
    }
   ],
   "source": [
    "# 다양한 방식으로 사용 가능\n",
    "personal_info(name='KK', address='서울시 용산구', age=30)"
   ]
  },
  {
   "cell_type": "markdown",
   "metadata": {},
   "source": [
    "## **딕셔너리인수:** 갯수를 알수없는 키워드인수 처리\n",
    "\n",
    "- 키워드 인수 입력이 많아지면 함수 가독성이 떨어지고 입력값들의 종류나 구조를 이해하기 어려워짐\n",
    "- **딕셔너리 언패킹(Dictionary Unpacking):** 키와 값으로 이루어진 `딕셔너리 활용` 여러개의 키워드인수 한꺼번에 처리\n",
    "- 인수가 `리스트/튜플/변수`일 경우 `*`기호를 사용하여 언패킹했지만, 인수가 `딕셔너리`인 경우 `**`기호를 사용하여 언패킹\n",
    "- 딕션너리의 `키의 이름과 갯수`가 함수 생성시의 `매개변수 이름과 갯수`와 같아야 함\n",
    "\n",
    "```python\n",
    "# 함수 사용\n",
    "함수이름(**인수)\n",
    "```"
   ]
  },
  {
   "cell_type": "code",
   "execution_count": 72,
   "metadata": {
    "ExecuteTime": {
     "end_time": "2022-07-14T17:23:36.114050Z",
     "start_time": "2022-07-14T17:23:36.100016Z"
    }
   },
   "outputs": [],
   "source": [
    "def personal_info(name, age, address):\n",
    "    print('이름: ', name)\n",
    "    print('나이: ', age)\n",
    "    print('주소: ', address)"
   ]
  },
  {
   "cell_type": "code",
   "execution_count": 73,
   "metadata": {
    "ExecuteTime": {
     "end_time": "2022-07-14T17:23:36.129047Z",
     "start_time": "2022-07-14T17:23:36.116018Z"
    }
   },
   "outputs": [
    {
     "name": "stdout",
     "output_type": "stream",
     "text": [
      "이름:  KK\n",
      "나이:  30\n",
      "주소:  서울시 용산구\n"
     ]
    }
   ],
   "source": [
    "personal_info(name='KK', address='서울시 용산구', age=30)"
   ]
  },
  {
   "cell_type": "code",
   "execution_count": 74,
   "metadata": {
    "ExecuteTime": {
     "end_time": "2022-07-14T17:23:36.144052Z",
     "start_time": "2022-07-14T17:23:36.130015Z"
    }
   },
   "outputs": [
    {
     "name": "stdout",
     "output_type": "stream",
     "text": [
      "이름:  KK\n",
      "나이:  30\n",
      "주소:  서울시 용산구\n"
     ]
    }
   ],
   "source": [
    "# 임의의 딕셔너리로 입력값을 반영 가능\n",
    "x = {'name': 'KK', \n",
    "     'age': 30, \n",
    "     'address': '서울시 용산구'}\n",
    "\n",
    "personal_info(**x)"
   ]
  },
  {
   "cell_type": "code",
   "execution_count": 75,
   "metadata": {
    "ExecuteTime": {
     "end_time": "2022-07-14T17:23:36.159048Z",
     "start_time": "2022-07-14T17:23:36.145018Z"
    }
   },
   "outputs": [],
   "source": [
    "# # 임의의 딕셔너리라도 입력값의 갯수는 함수의 입력 갯수와 같아야 함\n",
    "# x = {'name': 'KK', \n",
    "#      'age': 30, \n",
    "#      'address': '서울시 용산구',\n",
    "#      'temp': '블라블라'}\n",
    "\n",
    "# personal_info(**x)"
   ]
  },
  {
   "cell_type": "code",
   "execution_count": 76,
   "metadata": {
    "ExecuteTime": {
     "end_time": "2022-07-14T17:23:36.174015Z",
     "start_time": "2022-07-14T17:23:36.160017Z"
    }
   },
   "outputs": [
    {
     "name": "stdout",
     "output_type": "stream",
     "text": [
      "이름:  KK\n",
      "나이:  30\n",
      "주소:  서울시 용산구\n"
     ]
    }
   ],
   "source": [
    "# 다양하게 입력 가능\n",
    "personal_info(**{'name': 'KK', 'age': 30, 'address': '서울시 용산구'})"
   ]
  },
  {
   "cell_type": "code",
   "execution_count": 77,
   "metadata": {
    "ExecuteTime": {
     "end_time": "2022-07-14T17:23:36.189047Z",
     "start_time": "2022-07-14T17:23:36.175018Z"
    }
   },
   "outputs": [
    {
     "name": "stdout",
     "output_type": "stream",
     "text": [
      "이름:  name\n",
      "나이:  age\n",
      "주소:  address\n"
     ]
    }
   ],
   "source": [
    "# 일반 변수로 입력시 key만 인식\n",
    "personal_info(*x) # *기호를 1번만 사용하면 키값만 사용, 2번 사용하면 키와 값을 사용한다는 뜻"
   ]
  },
  {
   "cell_type": "markdown",
   "metadata": {},
   "source": [
    "- ****kwargs:** 매개변수 이름은 자유지만 관례적으로 `keyword arguments`를 줄여서 표현\n",
    "- `딕셔너리 언패킹 매개변수` 사용시, 인수 값의 `갯수 무관` (1개, 10개, 0개 모두 가능)\n",
    "\n",
    "```python\n",
    "# 함수 생성\n",
    "def 함수이름(**kwargs):\n",
    "    문장\n",
    "\n",
    "# 함수 사용    \n",
    "함수이름(**인수)    \n",
    "```"
   ]
  },
  {
   "cell_type": "code",
   "execution_count": 78,
   "metadata": {
    "ExecuteTime": {
     "end_time": "2022-07-14T17:23:36.204047Z",
     "start_time": "2022-07-14T17:23:36.190017Z"
    }
   },
   "outputs": [
    {
     "data": {
      "text/plain": [
       "dict_items([('name', 'KK'), ('age', 30), ('address', '서울시 용산구')])"
      ]
     },
     "execution_count": 78,
     "metadata": {},
     "output_type": "execute_result"
    }
   ],
   "source": [
    "x = {'name': 'KK', \n",
    "     'age': 30, \n",
    "     'address': '서울시 용산구'}\n",
    "x.items()"
   ]
  },
  {
   "cell_type": "code",
   "execution_count": 79,
   "metadata": {
    "ExecuteTime": {
     "end_time": "2022-07-14T17:23:36.219048Z",
     "start_time": "2022-07-14T17:23:36.206016Z"
    }
   },
   "outputs": [],
   "source": [
    "# 키워드 인수의 갯수에 무관하게 함수 구성 가능\n",
    "def personal_info(**kwargs):\n",
    "    for kw, arg in kwargs.items():\n",
    "        print(kw, ':', arg, sep='')"
   ]
  },
  {
   "cell_type": "code",
   "execution_count": 80,
   "metadata": {
    "ExecuteTime": {
     "end_time": "2022-07-14T17:23:36.234046Z",
     "start_time": "2022-07-14T17:23:36.220018Z"
    }
   },
   "outputs": [
    {
     "name": "stdout",
     "output_type": "stream",
     "text": [
      "name:KK\n"
     ]
    }
   ],
   "source": [
    "# 키워드 인수가 하나일 때 출력\n",
    "personal_info(name='KK')"
   ]
  },
  {
   "cell_type": "code",
   "execution_count": 81,
   "metadata": {
    "ExecuteTime": {
     "end_time": "2022-07-14T17:23:36.249047Z",
     "start_time": "2022-07-14T17:23:36.243018Z"
    }
   },
   "outputs": [
    {
     "name": "stdout",
     "output_type": "stream",
     "text": [
      "name:KK\n",
      "age:30\n",
      "address:서울시 용산구\n"
     ]
    }
   ],
   "source": [
    "# 키워드 인수가 세개일 때 출력\n",
    "personal_info(name='KK', age=30, address='서울시 용산구')"
   ]
  },
  {
   "cell_type": "code",
   "execution_count": 82,
   "metadata": {
    "ExecuteTime": {
     "end_time": "2022-07-14T17:23:36.264048Z",
     "start_time": "2022-07-14T17:23:36.250015Z"
    }
   },
   "outputs": [
    {
     "name": "stdout",
     "output_type": "stream",
     "text": [
      "name:KK\n",
      "age:30\n",
      "address:서울시 용산구\n"
     ]
    }
   ],
   "source": [
    "# 다양하게 입력 가능\n",
    "y = {'name': 'KK', 'age': 30, 'address': '서울시 용산구'}\n",
    "\n",
    "personal_info(**y)"
   ]
  },
  {
   "cell_type": "code",
   "execution_count": 83,
   "metadata": {
    "ExecuteTime": {
     "end_time": "2022-07-14T17:23:36.279046Z",
     "start_time": "2022-07-14T17:23:36.265017Z"
    }
   },
   "outputs": [
    {
     "name": "stdout",
     "output_type": "stream",
     "text": [
      "name:KK\n",
      "age:30\n",
      "address:서울시 용산구\n",
      "temp:블라블라\n"
     ]
    }
   ],
   "source": [
    "# 다양하게 입력 가능\n",
    "y = {'name': 'KK', \n",
    "     'age': 30, \n",
    "     'address': '서울시 용산구',\n",
    "     'temp': '블라블라'}\n",
    "\n",
    "personal_info(**y)"
   ]
  },
  {
   "cell_type": "code",
   "execution_count": 84,
   "metadata": {
    "ExecuteTime": {
     "end_time": "2022-07-14T17:23:36.294046Z",
     "start_time": "2022-07-14T17:23:36.280018Z"
    }
   },
   "outputs": [],
   "source": [
    "# 조건문이 포함된 함수에 키워드 인수 활용 가능\n",
    "def personal_info(**kwargs):\n",
    "    if 'name' in kwargs:    # in으로 딕셔너리 안에 특정 키가 있는지 확인\n",
    "        print('이름: ', kwargs['name'])\n",
    "    if 'age' in kwargs:\n",
    "        print('나이: ', kwargs['age'])\n",
    "    if 'address' in kwargs:\n",
    "        print('주소: ', kwargs['address'])"
   ]
  },
  {
   "cell_type": "code",
   "execution_count": 85,
   "metadata": {
    "ExecuteTime": {
     "end_time": "2022-07-14T17:23:36.309046Z",
     "start_time": "2022-07-14T17:23:36.295018Z"
    }
   },
   "outputs": [
    {
     "name": "stdout",
     "output_type": "stream",
     "text": [
      "이름:  KK\n",
      "나이:  30\n",
      "주소:  서울시 용산구\n"
     ]
    }
   ],
   "source": [
    "# 세개의 키워드 인수 활용 가능\n",
    "y = {'name': 'KK', 'age': 30, 'address': '서울시 용산구'}\n",
    "\n",
    "personal_info(**y)"
   ]
  },
  {
   "cell_type": "code",
   "execution_count": 86,
   "metadata": {
    "ExecuteTime": {
     "end_time": "2022-07-14T17:23:36.324016Z",
     "start_time": "2022-07-14T17:23:36.310018Z"
    }
   },
   "outputs": [
    {
     "name": "stdout",
     "output_type": "stream",
     "text": [
      "이름:  KK\n",
      "나이:  30\n",
      "주소:  서울시 용산구\n"
     ]
    }
   ],
   "source": [
    "# 네개의 키워드 인수 활용 가능\n",
    "y = {'name': 'KK', \n",
    "     'age': 30, \n",
    "     'address': '서울시 용산구',\n",
    "     'temp': '블라블라'}\n",
    "\n",
    "personal_info(**y)"
   ]
  },
  {
   "cell_type": "code",
   "execution_count": 87,
   "metadata": {
    "ExecuteTime": {
     "end_time": "2022-07-14T17:23:36.339046Z",
     "start_time": "2022-07-14T17:23:36.325017Z"
    }
   },
   "outputs": [
    {
     "name": "stdout",
     "output_type": "stream",
     "text": [
      "{'name': 'KK'}\n"
     ]
    }
   ],
   "source": [
    "# 입력을 자동으로 dictionary로 인식\n",
    "def personal_info(**kwargs):\n",
    "    print(kwargs)\n",
    "    \n",
    "personal_info(name='KK')"
   ]
  },
  {
   "cell_type": "code",
   "execution_count": 88,
   "metadata": {
    "ExecuteTime": {
     "end_time": "2022-07-14T17:23:36.354047Z",
     "start_time": "2022-07-14T17:23:36.340018Z"
    }
   },
   "outputs": [
    {
     "name": "stdout",
     "output_type": "stream",
     "text": [
      "{'name': 'KK', 'age': 30}\n"
     ]
    }
   ],
   "source": [
    "# 입력을 자동으로 dictionary로 인식\n",
    "personal_info(name='KK', age=30)"
   ]
  },
  {
   "cell_type": "code",
   "execution_count": 89,
   "metadata": {
    "ExecuteTime": {
     "end_time": "2022-07-14T17:23:36.369051Z",
     "start_time": "2022-07-14T17:23:36.355018Z"
    }
   },
   "outputs": [],
   "source": [
    "# 위치인수와 키워드인수를 함께 사용 가능\n",
    "def personal_info(name, **kwargs):\n",
    "    print(name)\n",
    "    print(kwargs)"
   ]
  },
  {
   "cell_type": "code",
   "execution_count": 90,
   "metadata": {
    "ExecuteTime": {
     "end_time": "2022-07-14T17:23:36.384047Z",
     "start_time": "2022-07-14T17:23:36.370018Z"
    }
   },
   "outputs": [
    {
     "name": "stdout",
     "output_type": "stream",
     "text": [
      "KK\n",
      "{}\n"
     ]
    }
   ],
   "source": [
    "personal_info('KK')"
   ]
  },
  {
   "cell_type": "code",
   "execution_count": 91,
   "metadata": {
    "ExecuteTime": {
     "end_time": "2022-07-14T17:23:36.399048Z",
     "start_time": "2022-07-14T17:23:36.385017Z"
    }
   },
   "outputs": [
    {
     "name": "stdout",
     "output_type": "stream",
     "text": [
      "KK\n",
      "{'age': 30, 'address': '서울시 용산구'}\n"
     ]
    }
   ],
   "source": [
    "# 입력 갯수에 따라 위치 인수와 키워드 인수로 자동 인식\n",
    "personal_info('KK', age=30, address='서울시 용산구')"
   ]
  },
  {
   "cell_type": "code",
   "execution_count": 92,
   "metadata": {
    "ExecuteTime": {
     "end_time": "2022-07-14T17:23:36.414046Z",
     "start_time": "2022-07-14T17:23:36.401019Z"
    }
   },
   "outputs": [
    {
     "name": "stdout",
     "output_type": "stream",
     "text": [
      "KK\n",
      "{'age': 30, 'address': '서울시 용산구'}\n"
     ]
    }
   ],
   "source": [
    "# 다양하게 입력 가능\n",
    "personal_info(**{'name': 'KK', 'age': 30, 'address': '서울시 용산구'})"
   ]
  },
  {
   "cell_type": "markdown",
   "metadata": {},
   "source": [
    "## 함수 내 위치/아규먼트/키워드/딕셔너리 인수 동시 활용\n",
    "\n",
    "- 내장함수들은 보통 `위치인수`와 `키워드인수`을 함께 사용하는 편\n",
    "- 복잡한 함수의 경우 `위치/아규먼트/키워드/딕셔너리 인수` 모두 사용\n",
    "- 대응되는 매개변수 입력 순서에는 `위치`, `*args`, `**kwargs` 순서대로 사용해야 함\n",
    "- `*args`는 리스트를 사용하고, `**kwargs`는 딕셔너리를 사용\n",
    "\n",
    "```python\n",
    "# 함수 생성\n",
    "def 함수이름(arg, *args, **kwargs):\n",
    "    문장\n",
    "```\n",
    "\n",
    "![Description_Print](Image/Basic/Description_Print.png)"
   ]
  },
  {
   "cell_type": "code",
   "execution_count": 93,
   "metadata": {
    "ExecuteTime": {
     "end_time": "2022-07-14T17:23:36.429048Z",
     "start_time": "2022-07-14T17:23:36.415020Z"
    }
   },
   "outputs": [
    {
     "name": "stdout",
     "output_type": "stream",
     "text": [
      "1:2:3"
     ]
    }
   ],
   "source": [
    "# 다양한 입력 결합 가능\n",
    "def custum_print(*args, **kwargs):\n",
    "    print(*args, **kwargs)\n",
    "    \n",
    "custum_print(1, 2, 3, sep=':', end='')"
   ]
  },
  {
   "cell_type": "code",
   "execution_count": 94,
   "metadata": {
    "ExecuteTime": {
     "end_time": "2022-07-14T17:23:36.444016Z",
     "start_time": "2022-07-14T17:23:36.430018Z"
    }
   },
   "outputs": [
    {
     "name": "stdout",
     "output_type": "stream",
     "text": [
      "1:2:3"
     ]
    }
   ],
   "source": [
    "# 다양한 입력 결합 가능\n",
    "def custum_print(value, *args, **kwargs):\n",
    "    print(value, *args, **kwargs)\n",
    "    \n",
    "custum_print(1, 2, 3, sep=':', end='')"
   ]
  },
  {
   "cell_type": "code",
   "execution_count": 95,
   "metadata": {
    "ExecuteTime": {
     "end_time": "2022-07-14T17:23:36.459047Z",
     "start_time": "2022-07-14T17:23:36.446017Z"
    }
   },
   "outputs": [
    {
     "name": "stdout",
     "output_type": "stream",
     "text": [
      "1 2 3\n"
     ]
    }
   ],
   "source": [
    "custum_print(1, 2, 3)"
   ]
  },
  {
   "cell_type": "markdown",
   "metadata": {},
   "source": [
    "## 함수 내 미입력 인수값의 매개변수 자동반영\n",
    "\n",
    "- 함수 만들 때 매개변수에 `초깃값`을 할당하면 생략 가능\n",
    "- 여러개의 입력 중 특정 입력값이 입력되지 않으면 함수내부에서 지정한 값으로 사용\n",
    "- 초깃값으로 고정된 입력은 함수입력 표현에서 `가장 뒤에 배치`해야 함\n",
    "- 초깃값으로 고정되더라도 함수 활용시 `인수에 값을 할당하면 할당값 우선` 적용\n",
    "\n",
    "```python\n",
    "# 함수 생성\n",
    "def 함수이름(매개변수=값):\n",
    "    문장\n",
    "```"
   ]
  },
  {
   "cell_type": "code",
   "execution_count": 96,
   "metadata": {
    "ExecuteTime": {
     "end_time": "2022-07-14T17:23:36.474048Z",
     "start_time": "2022-07-14T17:23:36.460016Z"
    }
   },
   "outputs": [
    {
     "name": "stdout",
     "output_type": "stream",
     "text": [
      "이름:  KK\n",
      "나이:  30\n",
      "주소:  서울시 용산구\n"
     ]
    }
   ],
   "source": [
    "def personal_info(name, age, address):\n",
    "    print('이름: ', name)\n",
    "    print('나이: ', age)\n",
    "    print('주소: ', address)\n",
    "    \n",
    "personal_info('KK', 30, '서울시 용산구')"
   ]
  },
  {
   "cell_type": "code",
   "execution_count": 97,
   "metadata": {
    "ExecuteTime": {
     "end_time": "2022-07-14T17:23:36.489046Z",
     "start_time": "2022-07-14T17:23:36.475016Z"
    }
   },
   "outputs": [],
   "source": [
    "# # 입력의 갯수가 맞지 않으면 에러 출력\n",
    "# def personal_info(name, age, address):\n",
    "#     print('이름: ', name)\n",
    "#     print('나이: ', age)\n",
    "#     print('주소: ', address)\n",
    "    \n",
    "# personal_info('KK', 30)"
   ]
  },
  {
   "cell_type": "code",
   "execution_count": 98,
   "metadata": {
    "ExecuteTime": {
     "end_time": "2022-07-14T17:23:36.504050Z",
     "start_time": "2022-07-14T17:23:36.491017Z"
    }
   },
   "outputs": [],
   "source": [
    "# 특정 입력값을 고정 가능\n",
    "def personal_info(name, age, address='비공개'):\n",
    "    print('이름: ', name)\n",
    "    print('나이: ', age)\n",
    "    print('주소: ', address)"
   ]
  },
  {
   "cell_type": "code",
   "execution_count": 99,
   "metadata": {
    "ExecuteTime": {
     "end_time": "2022-07-14T17:23:36.519046Z",
     "start_time": "2022-07-14T17:23:36.506017Z"
    }
   },
   "outputs": [
    {
     "name": "stdout",
     "output_type": "stream",
     "text": [
      "이름:  KK\n",
      "나이:  30\n",
      "주소:  비공개\n"
     ]
    }
   ],
   "source": [
    "# 고정된 입력값은 별도 입력하지 않아도 됨\n",
    "personal_info('KK', 30)"
   ]
  },
  {
   "cell_type": "code",
   "execution_count": 100,
   "metadata": {
    "ExecuteTime": {
     "end_time": "2022-07-14T17:23:36.534050Z",
     "start_time": "2022-07-14T17:23:36.520017Z"
    }
   },
   "outputs": [
    {
     "name": "stdout",
     "output_type": "stream",
     "text": [
      "이름:  KK\n",
      "나이:  30\n",
      "주소:  서울시 용산구\n"
     ]
    }
   ],
   "source": [
    "# 고정 입력값이 있더라도 별도 입력시 별도 입력값을 우선함\n",
    "personal_info('KK', 30, '서울시 용산구')"
   ]
  },
  {
   "cell_type": "code",
   "execution_count": 101,
   "metadata": {
    "ExecuteTime": {
     "end_time": "2022-07-14T17:23:36.549046Z",
     "start_time": "2022-07-14T17:23:36.535020Z"
    }
   },
   "outputs": [],
   "source": [
    "# # 고정입력값은 마지막에 와야만 함\n",
    "# def personal_info(name, address='비공개', age):\n",
    "#     print('이름: ', name)\n",
    "#     print('나이: ', age)\n",
    "#     print('주소: ', address)"
   ]
  },
  {
   "cell_type": "markdown",
   "metadata": {
    "ExecuteTime": {
     "end_time": "2021-10-02T12:44:43.217177Z",
     "start_time": "2021-10-02T12:44:43.208237Z"
    }
   },
   "source": [
    "```python\n",
    "def personal_info(name, age, address='비공개'):\n",
    "def personal_info(name, age=0, address='비공개'):\n",
    "def personal_info(name='비공개', age=0, address='비공개'):\n",
    "```"
   ]
  },
  {
   "cell_type": "markdown",
   "metadata": {},
   "source": [
    "## 함수 내 조건문 사용\n",
    "\n",
    "- 생각하는 조건이 `참(True)`이면 명령을 실행하고 `거짓(False)`이면 명령을 실행하지 않음"
   ]
  },
  {
   "cell_type": "code",
   "execution_count": 102,
   "metadata": {
    "ExecuteTime": {
     "end_time": "2022-07-14T17:23:36.564016Z",
     "start_time": "2022-07-14T17:23:36.550018Z"
    }
   },
   "outputs": [
    {
     "name": "stdout",
     "output_type": "stream",
     "text": [
      "짝수입니다!\n",
      "2의 배수입니다!\n"
     ]
    }
   ],
   "source": [
    "# if ~: 특정 조건을 만족하는 상황 반영\n",
    "a = 4\n",
    "\n",
    "if a % 2 == 0:\n",
    "    print('짝수입니다!')\n",
    "    print('2의 배수입니다!')"
   ]
  },
  {
   "cell_type": "code",
   "execution_count": 103,
   "metadata": {
    "ExecuteTime": {
     "end_time": "2022-07-14T17:23:36.579046Z",
     "start_time": "2022-07-14T17:23:36.565019Z"
    }
   },
   "outputs": [],
   "source": [
    "# 예시 출력 확인\n",
    "a = 5\n",
    "\n",
    "if a % 2 == 0:\n",
    "    print('짝수입니다!')\n",
    "    print('2의 배수입니다!')"
   ]
  },
  {
   "cell_type": "code",
   "execution_count": 104,
   "metadata": {
    "ExecuteTime": {
     "end_time": "2022-07-14T17:23:36.594018Z",
     "start_time": "2022-07-14T17:23:36.580019Z"
    }
   },
   "outputs": [
    {
     "name": "stdout",
     "output_type": "stream",
     "text": [
      "홀수입니다!\n"
     ]
    }
   ],
   "source": [
    "# if ~ else: 특정 조건을 만족하는 경우와 그렇지 않은 경우를 모두 반영\n",
    "a = 5\n",
    "\n",
    "if a % 2 == 0:\n",
    "    print('짝수입니다!')\n",
    "else:\n",
    "    print('홀수입니다!')"
   ]
  },
  {
   "cell_type": "code",
   "execution_count": 105,
   "metadata": {
    "ExecuteTime": {
     "end_time": "2022-07-14T17:23:36.609015Z",
     "start_time": "2022-07-14T17:23:36.595017Z"
    }
   },
   "outputs": [
    {
     "name": "stdout",
     "output_type": "stream",
     "text": [
      "짝수입니다!\n"
     ]
    }
   ],
   "source": [
    "# 예시 출력 확인\n",
    "a = 4\n",
    "\n",
    "if a % 2 == 0:\n",
    "    print('짝수입니다!')\n",
    "else:\n",
    "    print('홀수입니다!')"
   ]
  },
  {
   "cell_type": "code",
   "execution_count": 106,
   "metadata": {
    "ExecuteTime": {
     "end_time": "2022-07-14T17:23:36.624050Z",
     "start_time": "2022-07-14T17:23:36.610033Z"
    }
   },
   "outputs": [
    {
     "name": "stdout",
     "output_type": "stream",
     "text": [
      "적당한 양수\n"
     ]
    }
   ],
   "source": [
    "# if ~ elif ~ else: 여러가지 조건을 중첩하는 경우 반영\n",
    "a = 10\n",
    "\n",
    "if a >= 100:\n",
    "    print('큰 양수')\n",
    "elif a >= 10:\n",
    "    print('적당한 양수')\n",
    "elif a < 0:\n",
    "    print('음수')\n",
    "else:\n",
    "    print('0에 가깝구만유!')"
   ]
  },
  {
   "cell_type": "code",
   "execution_count": 107,
   "metadata": {
    "ExecuteTime": {
     "end_time": "2022-07-14T17:23:36.639016Z",
     "start_time": "2022-07-14T17:23:36.625016Z"
    }
   },
   "outputs": [
    {
     "name": "stdout",
     "output_type": "stream",
     "text": [
      "큰 양수\n"
     ]
    }
   ],
   "source": [
    "# 예시 출력 확인\n",
    "a = 1000\n",
    "\n",
    "if a >= 100:\n",
    "    print('큰 양수')\n",
    "elif a >= 10:\n",
    "    print('적당한 양수')\n",
    "elif a < 0:\n",
    "    print('음수')\n",
    "else:\n",
    "    print('0에 가깝구만유!')"
   ]
  },
  {
   "cell_type": "code",
   "execution_count": 108,
   "metadata": {
    "ExecuteTime": {
     "end_time": "2022-07-14T17:23:36.654047Z",
     "start_time": "2022-07-14T17:23:36.640017Z"
    }
   },
   "outputs": [
    {
     "name": "stdout",
     "output_type": "stream",
     "text": [
      "음수\n"
     ]
    }
   ],
   "source": [
    "# 예시 출력 확인\n",
    "a = -1000\n",
    "\n",
    "if a >= 100:\n",
    "    print('큰 양수')\n",
    "elif a >= 10:\n",
    "    print('적당한 양수')\n",
    "elif a < 0:\n",
    "    print('음수')\n",
    "else:\n",
    "    print('0에 가깝구만유!')"
   ]
  },
  {
   "cell_type": "code",
   "execution_count": 109,
   "metadata": {
    "ExecuteTime": {
     "end_time": "2022-07-14T17:23:36.669016Z",
     "start_time": "2022-07-14T17:23:36.655017Z"
    }
   },
   "outputs": [
    {
     "name": "stdout",
     "output_type": "stream",
     "text": [
      "0에 가깝구만유!\n"
     ]
    }
   ],
   "source": [
    "# 예시 출력 확인\n",
    "a = 5\n",
    "\n",
    "if a >= 100:\n",
    "    print('큰 양수')\n",
    "elif a >= 10:\n",
    "    print('적당한 양수')\n",
    "elif a < 0:\n",
    "    print('음수')\n",
    "else:\n",
    "    print('0에 가깝구만유!')"
   ]
  },
  {
   "cell_type": "code",
   "execution_count": 110,
   "metadata": {
    "ExecuteTime": {
     "end_time": "2022-07-14T17:23:36.684016Z",
     "start_time": "2022-07-14T17:23:36.670016Z"
    }
   },
   "outputs": [
    {
     "name": "stdout",
     "output_type": "stream",
     "text": [
      "0에 가깝구만유!\n"
     ]
    }
   ],
   "source": [
    "# 함수와 결합\n",
    "def num_spec(a):\n",
    "    if a >= 100:\n",
    "        print('큰 양수')\n",
    "    elif a >= 10:\n",
    "        print('적당한 양수')\n",
    "    elif a < 0:\n",
    "        print('음수')\n",
    "    else:\n",
    "        print('0에 가깝구만유!')\n",
    "        \n",
    "y = num_spec(5)\n",
    "y"
   ]
  },
  {
   "cell_type": "code",
   "execution_count": 111,
   "metadata": {
    "ExecuteTime": {
     "end_time": "2022-07-14T17:23:36.699015Z",
     "start_time": "2022-07-14T17:23:36.686017Z"
    }
   },
   "outputs": [
    {
     "name": "stdout",
     "output_type": "stream",
     "text": [
      "큰 양수\n"
     ]
    }
   ],
   "source": [
    "# 1000 입력 후 결과 확인\n",
    "num_spec(1000)"
   ]
  },
  {
   "cell_type": "code",
   "execution_count": 112,
   "metadata": {
    "ExecuteTime": {
     "end_time": "2022-07-14T17:23:36.714016Z",
     "start_time": "2022-07-14T17:23:36.701017Z"
    }
   },
   "outputs": [
    {
     "name": "stdout",
     "output_type": "stream",
     "text": [
      "음수\n"
     ]
    }
   ],
   "source": [
    "# -1000 입력 후 결과 확인\n",
    "num_spec(-1000)"
   ]
  },
  {
   "cell_type": "code",
   "execution_count": 113,
   "metadata": {
    "ExecuteTime": {
     "end_time": "2022-07-14T17:23:36.730015Z",
     "start_time": "2022-07-14T17:23:36.716019Z"
    }
   },
   "outputs": [
    {
     "name": "stdout",
     "output_type": "stream",
     "text": [
      "0에 가깝구만유!\n"
     ]
    }
   ],
   "source": [
    "# 5 입력 후 결과 확인\n",
    "num_spec(5)"
   ]
  },
  {
   "cell_type": "markdown",
   "metadata": {
    "ExecuteTime": {
     "end_time": "2022-04-05T16:40:29.300479Z",
     "start_time": "2022-04-05T16:40:29.286477Z"
    }
   },
   "source": [
    "- **Question:** 가격이 100만원인 스마트폰을 구매하려고 하는데 `현재 가지고 있는 돈이 80만원`이다. 출생년도가 2000년까지는 10%를 그리고 2001년부터 출생하였으면 30%를 학생할인가격으로 구매할 수 있는데, `본인의 생년월일 6자리와 현재 가지고 있는 돈 80만원 총 2가지`를 입력받아 구매가 가능하면 `구매가 완료되었습니다 축하합니다!`를 그렇지 않으면 `잔액이 부족합니다...`를 출력하는 매장비서 프로그램을 만들어 `본인의 결과`를 출력하시오\n",
    "\n",
    "```python\n",
    "# 프로그램(함수) 작성\n",
    "\n",
    "\n",
    "# 본인 생년월일 6가지와 80만원 입력받아 결과 출력\n",
    "# 입력예시: 함수명(201104, 800000)\n",
    "# 출력예시: '구매가 완료되었습니다 축하합니다!'\n",
    "\n",
    "\n",
    "```"
   ]
  },
  {
   "cell_type": "code",
   "execution_count": 114,
   "metadata": {
    "ExecuteTime": {
     "end_time": "2022-07-14T17:23:36.760017Z",
     "start_time": "2022-07-14T17:23:36.756016Z"
    }
   },
   "outputs": [],
   "source": [
    "# 프로그램(함수) 작성\n",
    "\n",
    "\n",
    "# 본인 생년월일 6가지와 80만원 입력받아 결과 출력\n",
    "# 입력예시: 함수명(201104, 800000)\n",
    "# 출력예시: '구매가 완료되었습니다 축하합니다!'\n",
    "\n"
   ]
  },
  {
   "cell_type": "markdown",
   "metadata": {},
   "source": [
    "## 함수 내 반복문 사용\n",
    "\n",
    "- 반복 횟수는 상용화 프로그램이 아닌 이상, 보통 유한개의 원소 개수만큼만 반복"
   ]
  },
  {
   "cell_type": "code",
   "execution_count": 115,
   "metadata": {
    "ExecuteTime": {
     "end_time": "2022-07-14T17:23:36.775016Z",
     "start_time": "2022-07-14T17:23:36.762017Z"
    }
   },
   "outputs": [
    {
     "name": "stdout",
     "output_type": "stream",
     "text": [
      "1\n",
      "2\n",
      "3\n",
      "5\n",
      "7\n",
      "10\n"
     ]
    }
   ],
   "source": [
    "# for문으로 숫자 출력\n",
    "num_list = [1,2,3,5,7,10]\n",
    "\n",
    "for num in num_list:\n",
    "    print(num)"
   ]
  },
  {
   "cell_type": "code",
   "execution_count": 116,
   "metadata": {
    "ExecuteTime": {
     "end_time": "2022-07-14T17:23:36.790015Z",
     "start_time": "2022-07-14T17:23:36.776016Z"
    }
   },
   "outputs": [
    {
     "name": "stdout",
     "output_type": "stream",
     "text": [
      "5\n",
      "7\n",
      "10\n"
     ]
    }
   ],
   "source": [
    "# if문과의 결합\n",
    "num_list = [1,2,3,5,7,10]\n",
    "\n",
    "for num in num_list:\n",
    "    if num >= 5:\n",
    "        print(num)"
   ]
  },
  {
   "cell_type": "code",
   "execution_count": 117,
   "metadata": {
    "ExecuteTime": {
     "end_time": "2022-07-14T17:23:36.805015Z",
     "start_time": "2022-07-14T17:23:36.791016Z"
    }
   },
   "outputs": [
    {
     "name": "stdout",
     "output_type": "stream",
     "text": [
      "5\n",
      "10\n",
      "125\n",
      "\n",
      "\n",
      "7\n",
      "14\n",
      "343\n",
      "\n",
      "\n",
      "10\n",
      "20\n",
      "1000\n",
      "\n",
      "\n"
     ]
    }
   ],
   "source": [
    "# if문과의 결합\n",
    "num_list = [1,2,3,5,7,10]\n",
    "\n",
    "for num in num_list:\n",
    "    if num >= 5:\n",
    "        print(num)\n",
    "        print(num*2)\n",
    "        print(num**3)\n",
    "        print('\\n')"
   ]
  },
  {
   "cell_type": "code",
   "execution_count": 118,
   "metadata": {
    "ExecuteTime": {
     "end_time": "2022-07-14T17:23:36.820016Z",
     "start_time": "2022-07-14T17:23:36.806017Z"
    }
   },
   "outputs": [
    {
     "name": "stdout",
     "output_type": "stream",
     "text": [
      "5\n",
      "7\n",
      "10\n"
     ]
    },
    {
     "data": {
      "text/plain": [
       "[10, 14, 20]"
      ]
     },
     "execution_count": 118,
     "metadata": {},
     "output_type": "execute_result"
    }
   ],
   "source": [
    "# 값의 저장\n",
    "blank = []\n",
    "for num in num_list:\n",
    "    if num >= 5:\n",
    "        print(num)\n",
    "        blank.append(num*2) \n",
    "\n",
    "blank"
   ]
  },
  {
   "cell_type": "code",
   "execution_count": 119,
   "metadata": {
    "ExecuteTime": {
     "end_time": "2022-07-14T17:23:36.835017Z",
     "start_time": "2022-07-14T17:23:36.821015Z"
    }
   },
   "outputs": [
    {
     "data": {
      "text/plain": [
       "[10, 14, 20]"
      ]
     },
     "execution_count": 119,
     "metadata": {},
     "output_type": "execute_result"
    }
   ],
   "source": [
    "# 함수와 결합\n",
    "def multiple_list(num_list, criteria):\n",
    "    blank = []\n",
    "    for num in num_list:\n",
    "        if num >= criteria:\n",
    "            blank.append(num*2)\n",
    "    return blank\n",
    "\n",
    "multiple_list([1,2,3,5,7,10], 5)"
   ]
  },
  {
   "cell_type": "code",
   "execution_count": 120,
   "metadata": {
    "ExecuteTime": {
     "end_time": "2022-07-14T17:23:36.850015Z",
     "start_time": "2022-07-14T17:23:36.836016Z"
    }
   },
   "outputs": [
    {
     "data": {
      "text/plain": [
       "[6, 10, 14, 18, 22]"
      ]
     },
     "execution_count": 120,
     "metadata": {},
     "output_type": "execute_result"
    }
   ],
   "source": [
    "# 예시 결과 확인\n",
    "multiple_list([1,3,5,7,9,11], 3)"
   ]
  },
  {
   "cell_type": "code",
   "execution_count": 121,
   "metadata": {
    "ExecuteTime": {
     "end_time": "2022-07-14T17:23:36.865016Z",
     "start_time": "2022-07-14T17:23:36.851018Z"
    }
   },
   "outputs": [
    {
     "data": {
      "text/plain": [
       "[22]"
      ]
     },
     "execution_count": 121,
     "metadata": {},
     "output_type": "execute_result"
    }
   ],
   "source": [
    "# 예시 결과 확인\n",
    "multiple_list([1,3,5,7,9,11], 10)"
   ]
  },
  {
   "cell_type": "code",
   "execution_count": 122,
   "metadata": {
    "ExecuteTime": {
     "end_time": "2022-07-14T17:23:36.880015Z",
     "start_time": "2022-07-14T17:23:36.866016Z"
    }
   },
   "outputs": [
    {
     "data": {
      "text/plain": [
       "[10, 14, 20]"
      ]
     },
     "execution_count": 122,
     "metadata": {},
     "output_type": "execute_result"
    }
   ],
   "source": [
    "# 함수와 결합\n",
    "def multiple_list(num_list, criteria=5):\n",
    "    blank = []\n",
    "    for num in num_list:\n",
    "        if num >= criteria:\n",
    "            blank.append(num*2)\n",
    "    return blank\n",
    "\n",
    "multiple_list([1,2,3,5,7,10])"
   ]
  },
  {
   "cell_type": "code",
   "execution_count": 123,
   "metadata": {
    "ExecuteTime": {
     "end_time": "2022-07-14T17:23:36.895016Z",
     "start_time": "2022-07-14T17:23:36.882017Z"
    }
   },
   "outputs": [
    {
     "data": {
      "text/plain": [
       "[14, 20]"
      ]
     },
     "execution_count": 123,
     "metadata": {},
     "output_type": "execute_result"
    }
   ],
   "source": [
    "# 예시 결과 확인\n",
    "multiple_list([1,2,3,5,7,10], 7)"
   ]
  },
  {
   "cell_type": "code",
   "execution_count": 124,
   "metadata": {
    "ExecuteTime": {
     "end_time": "2022-07-14T17:23:36.910017Z",
     "start_time": "2022-07-14T17:23:36.897016Z"
    }
   },
   "outputs": [
    {
     "name": "stdout",
     "output_type": "stream",
     "text": [
      "1\n",
      "2\n",
      "3\n",
      "4\n"
     ]
    }
   ],
   "source": [
    "# while ~\n",
    "num = 1\n",
    "\n",
    "while num < 5:\n",
    "    print(num)\n",
    "    num = num + 1\n",
    "    "
   ]
  },
  {
   "cell_type": "code",
   "execution_count": 125,
   "metadata": {
    "ExecuteTime": {
     "end_time": "2022-07-14T17:23:36.926014Z",
     "start_time": "2022-07-14T17:23:36.912017Z"
    }
   },
   "outputs": [
    {
     "name": "stdout",
     "output_type": "stream",
     "text": [
      "1\n",
      "2\n",
      "3\n",
      "4\n"
     ]
    }
   ],
   "source": [
    "# for + if 를 결합하여 결과 복제\n",
    "for num in [1,2,3,4,5,6,7,8,9]:\n",
    "    if num < 5:\n",
    "        print(num)"
   ]
  },
  {
   "cell_type": "code",
   "execution_count": 126,
   "metadata": {
    "ExecuteTime": {
     "end_time": "2022-07-14T17:23:36.941016Z",
     "start_time": "2022-07-14T17:23:36.927016Z"
    }
   },
   "outputs": [
    {
     "name": "stdout",
     "output_type": "stream",
     "text": [
      "before:  1\n",
      "after:  2\n",
      "\n",
      "\n",
      "before:  2\n",
      "after:  4\n",
      "\n",
      "\n",
      "before:  3\n",
      "after:  6\n",
      "\n",
      "\n",
      "before:  4\n",
      "after:  8\n",
      "\n",
      "\n"
     ]
    }
   ],
   "source": [
    "num = 1\n",
    "\n",
    "while num < 5:\n",
    "    print('before: ', num)\n",
    "    print('after: ', num*2)\n",
    "    print('\\n')\n",
    "    num = num + 1"
   ]
  },
  {
   "cell_type": "code",
   "execution_count": 127,
   "metadata": {
    "ExecuteTime": {
     "end_time": "2022-07-14T17:23:36.956015Z",
     "start_time": "2022-07-14T17:23:36.942017Z"
    }
   },
   "outputs": [
    {
     "name": "stdout",
     "output_type": "stream",
     "text": [
      "before:  1\n",
      "after:  2\n",
      "\n",
      "\n",
      "before:  2\n",
      "after:  4\n",
      "\n",
      "\n",
      "before:  3\n",
      "after:  6\n",
      "\n",
      "\n",
      "before:  4\n",
      "after:  8\n",
      "\n",
      "\n"
     ]
    }
   ],
   "source": [
    "# 함수와의 결합\n",
    "def num2(num):\n",
    "    while num < 5:\n",
    "        print('before: ', num)\n",
    "        print('after: ', num*2)\n",
    "        print('\\n')\n",
    "        num = num + 1\n",
    "\n",
    "num2(1)"
   ]
  },
  {
   "cell_type": "code",
   "execution_count": 128,
   "metadata": {
    "ExecuteTime": {
     "end_time": "2022-07-14T17:23:36.971015Z",
     "start_time": "2022-07-14T17:23:36.957017Z"
    }
   },
   "outputs": [
    {
     "name": "stdout",
     "output_type": "stream",
     "text": [
      "before:  2\n",
      "after:  4\n",
      "\n",
      "\n",
      "before:  3\n",
      "after:  6\n",
      "\n",
      "\n",
      "before:  4\n",
      "after:  8\n",
      "\n",
      "\n"
     ]
    }
   ],
   "source": [
    "# 예시 결과 확인\n",
    "num2(2)"
   ]
  },
  {
   "cell_type": "code",
   "execution_count": 129,
   "metadata": {
    "ExecuteTime": {
     "end_time": "2022-07-14T17:23:36.986016Z",
     "start_time": "2022-07-14T17:23:36.972016Z"
    }
   },
   "outputs": [
    {
     "name": "stdout",
     "output_type": "stream",
     "text": [
      "[2]\n",
      "[2, 4]\n",
      "[2, 4, 6]\n",
      "[2, 4, 6, 8]\n",
      "[2, 4, 6, 8, 10]\n"
     ]
    }
   ],
   "source": [
    "# while ~ break: 특정 상황에서 조건문을 빠져나오기 위해 break 명령을 사용\n",
    "num = 1\n",
    "\n",
    "blank = []\n",
    "while True:\n",
    "    blank.append(num*2)\n",
    "    print(blank)\n",
    "    if len(blank) == 5:\n",
    "        break\n",
    "    num = num + 1"
   ]
  },
  {
   "cell_type": "code",
   "execution_count": 130,
   "metadata": {
    "ExecuteTime": {
     "end_time": "2022-07-14T17:23:37.001015Z",
     "start_time": "2022-07-14T17:23:36.987016Z"
    }
   },
   "outputs": [
    {
     "name": "stdout",
     "output_type": "stream",
     "text": [
      "[2]\n",
      "[2, 4]\n",
      "[2, 4, 6]\n",
      "[2, 4, 6, 8]\n",
      "[2, 4, 6, 8, 10]\n"
     ]
    }
   ],
   "source": [
    "# 함수와의 결합\n",
    "def numseq2(num):\n",
    "    blank = []\n",
    "    while True:\n",
    "        blank.append(num*2)\n",
    "        print(blank)\n",
    "        if len(blank) == 5:\n",
    "            break\n",
    "        num = num + 1    \n",
    "        \n",
    "numseq2(1)"
   ]
  },
  {
   "cell_type": "code",
   "execution_count": 131,
   "metadata": {
    "ExecuteTime": {
     "end_time": "2022-07-14T17:23:37.016016Z",
     "start_time": "2022-07-14T17:23:37.002016Z"
    }
   },
   "outputs": [
    {
     "name": "stdout",
     "output_type": "stream",
     "text": [
      "[6]\n",
      "[6, 8]\n",
      "[6, 8, 10]\n",
      "[6, 8, 10, 12]\n",
      "[6, 8, 10, 12, 14]\n"
     ]
    }
   ],
   "source": [
    "# 예시 결과 확인\n",
    "numseq2(3)"
   ]
  },
  {
   "cell_type": "code",
   "execution_count": 132,
   "metadata": {
    "ExecuteTime": {
     "end_time": "2022-07-14T17:23:37.031017Z",
     "start_time": "2022-07-14T17:23:37.017017Z"
    }
   },
   "outputs": [
    {
     "name": "stdout",
     "output_type": "stream",
     "text": [
      "[1, 2, 3, 4, 5, 6, 7, 8, 9, 10, 11, 12, 13, 14, 15, 16, 17, 18, 19, 20, 21, 22, 23, 24, 25, 26, 27, 28, 29, 30, 31, 32, 33, 34, 35, 36, 37, 38, 39, 40, 41, 42, 43, 44, 45]\n",
      "[29, 2, 38, 17, 14, 10, 11, 35, 18, 19, 45, 24, 43, 4, 33, 6, 28, 15, 30, 22, 5, 42, 1, 40, 3, 37, 39, 12, 27, 41, 26, 36, 8, 16, 9, 20, 44, 21, 25, 32, 13, 23, 7, 34, 31]\n"
     ]
    }
   ],
   "source": [
    "# 랜덤 값 생성 내장함수 사용하여 임의 값 출력\n",
    "import random\n",
    "\n",
    "samples = list(range(1,46))\n",
    "print(samples)\n",
    "random.shuffle(samples)\n",
    "print(samples)"
   ]
  },
  {
   "cell_type": "code",
   "execution_count": 133,
   "metadata": {
    "ExecuteTime": {
     "end_time": "2022-07-14T17:23:37.046015Z",
     "start_time": "2022-07-14T17:23:37.032019Z"
    }
   },
   "outputs": [
    {
     "name": "stdout",
     "output_type": "stream",
     "text": [
      "None\n"
     ]
    }
   ],
   "source": [
    "# 계산값을 random.shuffle에 바로 사용시 사용 불가\n",
    "samples_test = random.shuffle(list(range(1,46)))\n",
    "print(samples_test)"
   ]
  },
  {
   "cell_type": "code",
   "execution_count": 134,
   "metadata": {
    "ExecuteTime": {
     "end_time": "2022-07-14T17:23:37.061015Z",
     "start_time": "2022-07-14T17:23:37.048017Z"
    }
   },
   "outputs": [
    {
     "name": "stdout",
     "output_type": "stream",
     "text": [
      "1\n",
      "8\n",
      "4\n",
      "7\n",
      "7\n",
      "5\n",
      "[1, 8, 4, 7, 7, 5]\n"
     ]
    }
   ],
   "source": [
    "# 중복된 값이 가능한 로또 번호 6개 출력\n",
    "samples = list(range(1,10))\n",
    "\n",
    "lotto = []\n",
    "while len(lotto) < 6:\n",
    "    random.shuffle(samples)\n",
    "    num_selected = samples[0]\n",
    "    \n",
    "    print(num_selected)\n",
    "    lotto.append(num_selected)\n",
    "print(lotto)"
   ]
  },
  {
   "cell_type": "markdown",
   "metadata": {},
   "source": [
    "- **Question:** 위 로또번호 생성기에, 1) `continue/break` 문을 사용하여 중복되지 않는 번호 6개를 출력하는 프로그램(함수)을 `lotto`라는 이름으로 만들고, 2) 아래 코드 실행시 45이내의 정수 중 중복되지 않는 로또번호가 6개를 출력하시오\n",
    "\n",
    "```python\n",
    "# 프로그램\n",
    "\n",
    "# 로또번호 생성\n",
    "y = lotto(45)\n",
    "y\n",
    "```"
   ]
  },
  {
   "cell_type": "code",
   "execution_count": 135,
   "metadata": {
    "ExecuteTime": {
     "end_time": "2022-07-14T17:23:37.076015Z",
     "start_time": "2022-07-14T17:23:37.062018Z"
    }
   },
   "outputs": [],
   "source": [
    "# 로또 프로그램 작성\n",
    "import random\n",
    "\n",
    "\n",
    "\n",
    "\n",
    "# 로또번호 생성\n",
    "y = lotto(45)\n",
    "y"
   ]
  },
  {
   "cell_type": "markdown",
   "metadata": {},
   "source": [
    "## 다양한 내장함수 사용\n",
    "\n",
    "- `anaconda` 설치시 파이썬이 함께 설치가 되고, 그 파이썬 **`내부`** 에 포함되어 있는 함수"
   ]
  },
  {
   "cell_type": "code",
   "execution_count": 136,
   "metadata": {
    "ExecuteTime": {
     "end_time": "2022-07-14T17:23:37.091015Z",
     "start_time": "2022-07-14T17:23:37.077016Z"
    }
   },
   "outputs": [
    {
     "data": {
      "text/plain": [
       "55"
      ]
     },
     "execution_count": 136,
     "metadata": {},
     "output_type": "execute_result"
    }
   ],
   "source": [
    "# 합계\n",
    "samples = [1,2,3,4,5,6,7,8,9,10]\n",
    "sum(samples)"
   ]
  },
  {
   "cell_type": "code",
   "execution_count": 137,
   "metadata": {
    "ExecuteTime": {
     "end_time": "2022-07-14T17:23:37.106018Z",
     "start_time": "2022-07-14T17:23:37.092017Z"
    }
   },
   "outputs": [
    {
     "name": "stdout",
     "output_type": "stream",
     "text": [
      "[1, 2, 3, 4, 5, 6, 7, 8, 9, 10]\n",
      "55\n"
     ]
    }
   ],
   "source": [
    "# 합계 내장함수와 동일한 결과가 나오는 반복문 생성\n",
    "samples = list(range(1,11))\n",
    "print(samples)\n",
    "\n",
    "num_sum = 0\n",
    "for i in samples:\n",
    "    num_sum = num_sum + i\n",
    "print(num_sum)"
   ]
  },
  {
   "cell_type": "code",
   "execution_count": 138,
   "metadata": {
    "ExecuteTime": {
     "end_time": "2022-07-14T17:23:37.121047Z",
     "start_time": "2022-07-14T17:23:37.107017Z"
    }
   },
   "outputs": [
    {
     "data": {
      "text/plain": [
       "10"
      ]
     },
     "execution_count": 138,
     "metadata": {},
     "output_type": "execute_result"
    }
   ],
   "source": [
    "# 최대값\n",
    "max(samples)"
   ]
  },
  {
   "cell_type": "code",
   "execution_count": 139,
   "metadata": {
    "ExecuteTime": {
     "end_time": "2022-07-14T17:23:37.136015Z",
     "start_time": "2022-07-14T17:23:37.122017Z"
    }
   },
   "outputs": [
    {
     "data": {
      "text/plain": [
       "1"
      ]
     },
     "execution_count": 139,
     "metadata": {},
     "output_type": "execute_result"
    }
   ],
   "source": [
    "# 최소값\n",
    "min(samples)"
   ]
  },
  {
   "cell_type": "code",
   "execution_count": 140,
   "metadata": {
    "ExecuteTime": {
     "end_time": "2022-07-14T17:23:37.151044Z",
     "start_time": "2022-07-14T17:23:37.137016Z"
    }
   },
   "outputs": [
    {
     "data": {
      "text/plain": [
       "10"
      ]
     },
     "execution_count": 140,
     "metadata": {},
     "output_type": "execute_result"
    }
   ],
   "source": [
    "# 길이\n",
    "len(samples)"
   ]
  },
  {
   "cell_type": "code",
   "execution_count": 141,
   "metadata": {
    "ExecuteTime": {
     "end_time": "2022-07-14T17:23:37.166046Z",
     "start_time": "2022-07-14T17:23:37.152016Z"
    }
   },
   "outputs": [
    {
     "name": "stdout",
     "output_type": "stream",
     "text": [
      "10\n",
      "11\n",
      "12\n",
      "13\n",
      "14\n",
      "15\n",
      "16\n",
      "17\n",
      "18\n",
      "19\n"
     ]
    }
   ],
   "source": [
    "samples = list(range(10,20))\n",
    "\n",
    "for num in samples:\n",
    "    print(num)"
   ]
  },
  {
   "cell_type": "code",
   "execution_count": 142,
   "metadata": {
    "ExecuteTime": {
     "end_time": "2022-07-14T17:23:37.181015Z",
     "start_time": "2022-07-14T17:23:37.167018Z"
    }
   },
   "outputs": [
    {
     "name": "stdout",
     "output_type": "stream",
     "text": [
      "0 10\n",
      "1 11\n",
      "2 12\n",
      "3 13\n",
      "4 14\n",
      "5 15\n",
      "6 16\n",
      "7 17\n",
      "8 18\n",
      "9 19\n"
     ]
    }
   ],
   "source": [
    "# 개별 순서와 값을 반환하는 함수 작성\n",
    "samples = list(range(10,20))\n",
    "\n",
    "for i, num in enumerate(samples):\n",
    "    print(i, num)"
   ]
  },
  {
   "cell_type": "code",
   "execution_count": 143,
   "metadata": {
    "ExecuteTime": {
     "end_time": "2022-07-14T17:23:37.196047Z",
     "start_time": "2022-07-14T17:23:37.182017Z"
    }
   },
   "outputs": [
    {
     "data": {
      "text/plain": [
       "range(0, 10)"
      ]
     },
     "execution_count": 143,
     "metadata": {},
     "output_type": "execute_result"
    }
   ],
   "source": [
    "# 특정 범위의 배열을 만드는 함수: range(시작, 끝)\n",
    "range(0,10)"
   ]
  },
  {
   "cell_type": "code",
   "execution_count": 144,
   "metadata": {
    "ExecuteTime": {
     "end_time": "2022-07-14T17:23:37.211048Z",
     "start_time": "2022-07-14T17:23:37.197018Z"
    }
   },
   "outputs": [
    {
     "name": "stdout",
     "output_type": "stream",
     "text": [
      "0\n",
      "1\n",
      "2\n",
      "3\n",
      "4\n",
      "5\n",
      "6\n",
      "7\n",
      "8\n",
      "9\n"
     ]
    }
   ],
   "source": [
    "# range 내장함수 사용 값 출력\n",
    "for i in range(0,10):\n",
    "    print(i)"
   ]
  },
  {
   "cell_type": "code",
   "execution_count": 145,
   "metadata": {
    "ExecuteTime": {
     "end_time": "2022-07-14T17:23:37.226049Z",
     "start_time": "2022-07-14T17:23:37.212016Z"
    }
   },
   "outputs": [
    {
     "data": {
      "text/plain": [
       "3"
      ]
     },
     "execution_count": 145,
     "metadata": {},
     "output_type": "execute_result"
    }
   ],
   "source": [
    "# 정수형으로 변환\n",
    "int(3.14)"
   ]
  },
  {
   "cell_type": "code",
   "execution_count": 146,
   "metadata": {
    "ExecuteTime": {
     "end_time": "2022-07-14T17:23:37.241046Z",
     "start_time": "2022-07-14T17:23:37.227015Z"
    }
   },
   "outputs": [
    {
     "data": {
      "text/plain": [
       "'3.14'"
      ]
     },
     "execution_count": 146,
     "metadata": {},
     "output_type": "execute_result"
    }
   ],
   "source": [
    "# 문자열로 변환\n",
    "str(3.14)"
   ]
  },
  {
   "cell_type": "code",
   "execution_count": 147,
   "metadata": {
    "ExecuteTime": {
     "end_time": "2022-07-14T17:23:37.256016Z",
     "start_time": "2022-07-14T17:23:37.242016Z"
    }
   },
   "outputs": [
    {
     "data": {
      "text/plain": [
       "3"
      ]
     },
     "execution_count": 147,
     "metadata": {},
     "output_type": "execute_result"
    }
   ],
   "source": [
    "# 반올림\n",
    "round(3.14)"
   ]
  },
  {
   "cell_type": "code",
   "execution_count": 148,
   "metadata": {
    "ExecuteTime": {
     "end_time": "2022-07-14T17:23:37.271016Z",
     "start_time": "2022-07-14T17:23:37.257017Z"
    }
   },
   "outputs": [
    {
     "name": "stdout",
     "output_type": "stream",
     "text": [
      "[1, 2, 3, 4, 5, 6, 7, 8, 9]\n",
      "[9, 8, 7, 6, 5, 4, 3, 2, 1]\n"
     ]
    }
   ],
   "source": [
    "# 값들의 순서를 바꿈\n",
    "samples = list(range(1,10))\n",
    "print(samples)\n",
    "reverse_samples = list(reversed(samples))\n",
    "print(reverse_samples)"
   ]
  },
  {
   "cell_type": "code",
   "execution_count": 149,
   "metadata": {
    "ExecuteTime": {
     "end_time": "2022-07-14T17:23:37.286016Z",
     "start_time": "2022-07-14T17:23:37.272016Z"
    }
   },
   "outputs": [
    {
     "data": {
      "text/plain": [
       "[1, 2, 3, 4, 5, 6, 7, 8, 9]"
      ]
     },
     "execution_count": 149,
     "metadata": {},
     "output_type": "execute_result"
    }
   ],
   "source": [
    "# 오름차순\n",
    "sorted(reverse_samples)"
   ]
  },
  {
   "cell_type": "code",
   "execution_count": 150,
   "metadata": {
    "ExecuteTime": {
     "end_time": "2022-07-14T17:23:37.301016Z",
     "start_time": "2022-07-14T17:23:37.287016Z"
    }
   },
   "outputs": [
    {
     "data": {
      "text/plain": [
       "<zip at 0x21fe27c1cc0>"
      ]
     },
     "execution_count": 150,
     "metadata": {},
     "output_type": "execute_result"
    }
   ],
   "source": [
    "# 값들의 짝을 이루게하여 반복문에 많이 사용됨\n",
    "# 짝을 이룰 값들의 길이는 서로 같아야 함\n",
    "chars = ['a','b','c']\n",
    "nums = [1,2,3]\n",
    "zip(chars, nums)"
   ]
  },
  {
   "cell_type": "code",
   "execution_count": 151,
   "metadata": {
    "ExecuteTime": {
     "end_time": "2022-07-14T17:23:37.316015Z",
     "start_time": "2022-07-14T17:23:37.302018Z"
    }
   },
   "outputs": [
    {
     "data": {
      "text/plain": [
       "[('a', 1), ('b', 2), ('c', 3)]"
      ]
     },
     "execution_count": 151,
     "metadata": {},
     "output_type": "execute_result"
    }
   ],
   "source": [
    "# 짝을 이룬 값들 출력\n",
    "list(zip(chars, nums))"
   ]
  },
  {
   "cell_type": "code",
   "execution_count": 152,
   "metadata": {
    "ExecuteTime": {
     "end_time": "2022-07-14T17:23:37.331015Z",
     "start_time": "2022-07-14T17:23:37.317018Z"
    }
   },
   "outputs": [
    {
     "data": {
      "text/plain": [
       "{'a': 1, 'b': 2, 'c': 3}"
      ]
     },
     "execution_count": 152,
     "metadata": {},
     "output_type": "execute_result"
    }
   ],
   "source": [
    "# 다양한 출력 가능\n",
    "dict(zip(chars, nums))"
   ]
  },
  {
   "cell_type": "markdown",
   "metadata": {},
   "source": [
    "## 사용자 정의 함수를 내장함수처럼 사용"
   ]
  },
  {
   "cell_type": "code",
   "execution_count": 153,
   "metadata": {
    "ExecuteTime": {
     "end_time": "2022-07-14T17:23:37.346017Z",
     "start_time": "2022-07-14T17:23:37.333016Z"
    }
   },
   "outputs": [
    {
     "data": {
      "text/plain": [
       "2"
      ]
     },
     "execution_count": 153,
     "metadata": {},
     "output_type": "execute_result"
    }
   ],
   "source": [
    "# 5 나누기 3의 나머지 출력 함수 작성\n",
    "def calculator(a, b):\n",
    "    result = a % b\n",
    "    return result\n",
    "\n",
    "calculator(5,3)"
   ]
  },
  {
   "cell_type": "code",
   "execution_count": 154,
   "metadata": {
    "ExecuteTime": {
     "end_time": "2022-07-14T17:23:37.361016Z",
     "start_time": "2022-07-14T17:23:37.347017Z"
    }
   },
   "outputs": [
    {
     "data": {
      "text/plain": [
       "0"
      ]
     },
     "execution_count": 154,
     "metadata": {},
     "output_type": "execute_result"
    }
   ],
   "source": [
    "# 예시 확인\n",
    "calculator(2,2)"
   ]
  },
  {
   "cell_type": "code",
   "execution_count": 155,
   "metadata": {
    "ExecuteTime": {
     "end_time": "2022-07-14T17:23:37.376018Z",
     "start_time": "2022-07-14T17:23:37.362016Z"
    }
   },
   "outputs": [
    {
     "data": {
      "text/plain": [
       "1"
      ]
     },
     "execution_count": 155,
     "metadata": {},
     "output_type": "execute_result"
    }
   ],
   "source": [
    "# 예시 확인\n",
    "calculator(10,3)"
   ]
  },
  {
   "cell_type": "code",
   "execution_count": 156,
   "metadata": {
    "ExecuteTime": {
     "end_time": "2022-07-14T17:23:37.391016Z",
     "start_time": "2022-07-14T17:23:37.378016Z"
    },
    "scrolled": true
   },
   "outputs": [
    {
     "name": "stdout",
     "output_type": "stream",
     "text": [
      "2\n",
      "0\n",
      "1\n"
     ]
    }
   ],
   "source": [
    "# 위 함수 활용 3가지 케이스 나머지 모두 출력\n",
    "pairs = [(5,3), (2,2), (10,3)]\n",
    "for a, b in pairs:\n",
    "    modulo = calculator(a,b)\n",
    "    print(modulo)"
   ]
  },
  {
   "cell_type": "code",
   "execution_count": 157,
   "metadata": {
    "ExecuteTime": {
     "end_time": "2022-07-14T17:23:37.406016Z",
     "start_time": "2022-07-14T17:23:37.392017Z"
    }
   },
   "outputs": [
    {
     "name": "stdout",
     "output_type": "stream",
     "text": [
      "30\n",
      "200\n"
     ]
    }
   ],
   "source": [
    "# 함수의 중첩\n",
    "def mul(a, b):\n",
    "    c = a * b\n",
    "    return c\n",
    " \n",
    "def add(a, b):\n",
    "    c = a + b\n",
    "    print(c)\n",
    "    d = mul(a, b)\n",
    "    print(d)\n",
    "    \n",
    "x = 10\n",
    "y = 20\n",
    "add(x, y)"
   ]
  },
  {
   "cell_type": "code",
   "execution_count": 158,
   "metadata": {
    "ExecuteTime": {
     "end_time": "2022-07-14T17:23:37.421015Z",
     "start_time": "2022-07-14T17:23:37.407016Z"
    }
   },
   "outputs": [
    {
     "data": {
      "text/plain": [
       "{(5, 3): 2, (2, 2): 0, (10, 3): 1}"
      ]
     },
     "execution_count": 158,
     "metadata": {},
     "output_type": "execute_result"
    }
   ],
   "source": [
    "# 중첩 함수로 계산기 만들기\n",
    "def calculator(a, b):\n",
    "    result = a % b\n",
    "    return result\n",
    "\n",
    "def calculator_final(pairs):\n",
    "    result = dict()\n",
    "    for a, b in pairs:\n",
    "        modulo = calculator(a,b)\n",
    "        result[(a,b)] = modulo\n",
    "    return result\n",
    "\n",
    "pairs = [(5,3), (2,2), (10,3)]\n",
    "calculator_final(pairs)"
   ]
  },
  {
   "cell_type": "markdown",
   "metadata": {},
   "source": [
    "- **Question:** 아래 2개의 변수값을 입력받아 1) `몫`을 구하는 프로그램, 2) `나머지`를 구하는 프로그램, 3) 그리고 1)과2)를 중첩함수로 `한꺼번에 몫과 나머지`를 출력하는 프로그램을 작성하고, 4) 3)에서 만든 프로그램을 이용해 아래 `예시의 입력에 대한 몫과 나머지를 출력`하시오\n",
    "\n",
    "```python\n",
    "# 프로그램(함수)\n",
    "# 1) 몫을 출력하는 프로그램\n",
    "\n",
    "# 2) 나머지를 출력하는 프로그램\n",
    "\n",
    "# 3) 1)과 2) 함수를 사용하여 한꺼번에 몫과 나머지를 출력하는 프로그램\n",
    "\n",
    "\n",
    "# 입력\n",
    "# 3)에서 만든 프로그램 활용 몫과 나머지 출력\n",
    "x, y = 100, 33\n",
    "```"
   ]
  },
  {
   "cell_type": "code",
   "execution_count": 159,
   "metadata": {
    "ExecuteTime": {
     "end_time": "2022-07-14T17:23:37.436016Z",
     "start_time": "2022-07-14T17:23:37.423017Z"
    }
   },
   "outputs": [],
   "source": [
    "# 프로그램(함수)\n",
    "# 1) 몫을 출력하는 프로그램\n",
    "\n",
    "# 2) 나머지를 출력하는 프로그램\n",
    "\n",
    "# 3) 1)과 2) 함수를 사용하여 한꺼번에 몫과 나머지를 출력하는 프로그램\n",
    "\n",
    "\n",
    "# 입력\n",
    "# 3)에서 만든 프로그램 활용 몫과 나머지 출력\n",
    "x, y = 100, 33\n",
    "\n",
    "# 출력\n",
    "\n"
   ]
  },
  {
   "cell_type": "markdown",
   "metadata": {},
   "source": [
    "## 사용자 정의 함수를 내장함수처럼 설명\n",
    "\n",
    "- **독스트링(문서화 문자열, documentation strings, docstring):** 함수의 `콜론(:)` 다음줄에 `\"\"\" \"\"\"(큰따옴표 3개 묶음)`으로 문자열을 입력하면 함수에 대한 설명 반영\n",
    "- `' '(작은따옴표)`, `\" \"(큰따옴표)`, `''' '''(작은따옴표 3개)`로 만들어도 되지만, 파이썬 코딩 스타일 가이드(PEP 8)에서는 `\"\"\" \"\"\"(큰따옴표 3개)`를 권장\n",
    "\n",
    "```python\n",
    "# 함수 생성\n",
    "def 함수이름(매개변수):\n",
    "    \"\"\"독스트링\"\"\"\n",
    "    문장\n",
    " \n",
    "# 함수 생성\n",
    "def 함수이름(매개변수):\n",
    "    \"\"\"\n",
    "    여러 줄로 된 \n",
    "    독스트링\n",
    "    \"\"\"\n",
    "    문장\n",
    "```"
   ]
  },
  {
   "cell_type": "code",
   "execution_count": 160,
   "metadata": {
    "ExecuteTime": {
     "end_time": "2022-07-14T17:23:37.451016Z",
     "start_time": "2022-07-14T17:23:37.437018Z"
    }
   },
   "outputs": [
    {
     "data": {
      "text/plain": [
       "{(5, 3): 2, (2, 2): 0, (10, 3): 1}"
      ]
     },
     "execution_count": 160,
     "metadata": {},
     "output_type": "execute_result"
    }
   ],
   "source": [
    "# 위 계산기 중첩 함수에서 설명 추가 하기\n",
    "def calculator(a, b):\n",
    "    result = a % b\n",
    "    return result\n",
    "\n",
    "def calculator_final(pairs):\n",
    "    \"\"\"이 함수는 쌍의 값을 받아 각 쌍별 나머지를 출력하는 함수입니다.\"\"\"\n",
    "    result = dict()\n",
    "    for a, b in pairs:\n",
    "        modulo = calculator(a,b)\n",
    "        result[(a,b)] = modulo\n",
    "    return result\n",
    "\n",
    "pairs = [(5,3), (2,2), (10,3)]\n",
    "calculator_final(pairs)"
   ]
  },
  {
   "cell_type": "code",
   "execution_count": 161,
   "metadata": {
    "ExecuteTime": {
     "end_time": "2022-07-14T17:23:37.466053Z",
     "start_time": "2022-07-14T17:23:37.453015Z"
    }
   },
   "outputs": [
    {
     "data": {
      "text/plain": [
       "'이 함수는 쌍의 값을 받아 각 쌍별 나머지를 출력하는 함수입니다.'"
      ]
     },
     "execution_count": 161,
     "metadata": {},
     "output_type": "execute_result"
    }
   ],
   "source": [
    "# 함수 설명 확인하기\n",
    "calculator_final.__doc__"
   ]
  },
  {
   "cell_type": "code",
   "execution_count": 162,
   "metadata": {
    "ExecuteTime": {
     "end_time": "2022-07-14T17:23:37.481046Z",
     "start_time": "2022-07-14T17:23:37.467016Z"
    }
   },
   "outputs": [
    {
     "name": "stdout",
     "output_type": "stream",
     "text": [
      "Prints the values to a stream, or to sys.stdout by default.\n",
      "\n",
      "  sep\n",
      "    string inserted between values, default a space.\n",
      "  end\n",
      "    string appended after the last value, default a newline.\n",
      "  file\n",
      "    a file-like object (stream); defaults to the current sys.stdout.\n",
      "  flush\n",
      "    whether to forcibly flush the stream.\n"
     ]
    }
   ],
   "source": [
    "# 내장함수의 설명도 확인 가능\n",
    "print(print.__doc__)"
   ]
  },
  {
   "cell_type": "markdown",
   "metadata": {
    "ExecuteTime": {
     "end_time": "2022-04-05T16:54:18.975178Z",
     "start_time": "2022-04-05T16:54:18.968149Z"
    }
   },
   "source": [
    "- **Question:** 바로 위 문제에서 만든 3개의 프로그램(함수)에 내장함수처럼 설명을 반영하여 아래와 같은 설명을 출력하시오\n",
    "\n",
    "```python\n",
    "# 프로그램(함수)\n",
    "# 1) 몫을 출력하는 프로그램\n",
    "\n",
    "# 2) 나머지를 출력하는 프로그램\n",
    "\n",
    "# 3) 1)과 2) 함수 \"모두 사용\"하여 한꺼번에 몫과 나머지를 출력하는 프로그램\n",
    "\n",
    "\n",
    "# 출력\n",
    "# 1) '이 프로그램은 몫을 출력합니다.'\n",
    "\n",
    "# 2) '이 프로그램은 나머지를 출력합니다.'\n",
    "\n",
    "# 3) '이 프로그램은 몫과 나머지를 모두 출력합니다.'\n",
    "```"
   ]
  },
  {
   "cell_type": "code",
   "execution_count": null,
   "metadata": {},
   "outputs": [],
   "source": [
    "\n"
   ]
  },
  {
   "cell_type": "markdown",
   "metadata": {},
   "source": [
    "## **스코핑 룰(Scoping Rule):** 함수 내 변수의 인식 범위\n",
    "\n",
    "- 변수의 생존 범위에 관련된 규칙\n",
    "- 파이썬 함수는 변수들이 인식될수 있는 각자의 `공간 또는 범위` 존재\n",
    "> - **지역변수(Local Variable):** 함수 안에서 정의되어, 함수 내부에서만 인식되는 변수\n",
    "> - **전역변수(Global Variable):** 함수 밖에서 정의되어, 함수 외부에서도 인식되는 변수\n",
    "> - **내장변수(Built-in Variable):** 파이썬 자체에서 정의되어, 어디서든 인식되는 변수\n",
    "\n",
    "<center><img src='Image/Basic/Scoping_Rule.png' width='400'></center>"
   ]
  },
  {
   "cell_type": "code",
   "execution_count": 163,
   "metadata": {
    "ExecuteTime": {
     "end_time": "2022-07-14T17:23:37.496052Z",
     "start_time": "2022-07-14T17:23:37.482015Z"
    }
   },
   "outputs": [],
   "source": [
    "# def foo():\n",
    "#     xx = 10      # foo의 지역 변수\n",
    "#     print(xx)    # foo의 지역 변수 출력\n",
    " \n",
    "# foo()\n",
    "# print(xx)        # 에러. foo의 지역 변수는 출력할 수 없음"
   ]
  },
  {
   "cell_type": "code",
   "execution_count": 164,
   "metadata": {
    "ExecuteTime": {
     "end_time": "2022-07-14T17:23:37.511048Z",
     "start_time": "2022-07-14T17:23:37.497016Z"
    }
   },
   "outputs": [
    {
     "name": "stdout",
     "output_type": "stream",
     "text": [
      "10\n",
      "10\n"
     ]
    }
   ],
   "source": [
    "# 예시 결과 확인\n",
    "xx = 10          # 전역 변수\n",
    "def foo():\n",
    "    print(xx)    # 전역 변수 출력\n",
    " \n",
    "foo()\n",
    "print(xx)        # 전역 변수 출력"
   ]
  },
  {
   "cell_type": "code",
   "execution_count": 165,
   "metadata": {
    "ExecuteTime": {
     "end_time": "2022-07-14T17:23:37.526046Z",
     "start_time": "2022-07-14T17:23:37.512017Z"
    }
   },
   "outputs": [
    {
     "name": "stdout",
     "output_type": "stream",
     "text": [
      "20\n",
      "10\n"
     ]
    }
   ],
   "source": [
    "# 예시 결과 확인\n",
    "xx = 10          # 전역 변수\n",
    "def foo():\n",
    "    xx = 20      # x는 foo의 지역 변수\n",
    "    print(xx)    # foo의 지역 변수 출력\n",
    " \n",
    "foo()\n",
    "print(xx)        # 전역 변수 출력"
   ]
  },
  {
   "cell_type": "code",
   "execution_count": 166,
   "metadata": {
    "ExecuteTime": {
     "end_time": "2022-07-14T17:23:37.541048Z",
     "start_time": "2022-07-14T17:23:37.527017Z"
    }
   },
   "outputs": [
    {
     "name": "stdout",
     "output_type": "stream",
     "text": [
      "20\n",
      "20\n"
     ]
    }
   ],
   "source": [
    "# 예시 결과 확인\n",
    "xx = 10          # 전역 변수\n",
    "def foo():\n",
    "    global xx    # 전역 변수 x를 사용하겠다고 설정\n",
    "    xx = 20      # x는 전역 변수\n",
    "    print(xx)    # 전역 변수 출력\n",
    " \n",
    "foo()\n",
    "print(xx)        # 전역 변수 출력"
   ]
  },
  {
   "cell_type": "code",
   "execution_count": 167,
   "metadata": {
    "ExecuteTime": {
     "end_time": "2022-07-14T17:23:37.556016Z",
     "start_time": "2022-07-14T17:23:37.542016Z"
    }
   },
   "outputs": [
    {
     "name": "stdout",
     "output_type": "stream",
     "text": [
      "200\n",
      "200\n"
     ]
    }
   ],
   "source": [
    "# 예시 결과 확인\n",
    "# 전역 변수 x가 없는 상태\n",
    "def foo():\n",
    "    global xx    # x를 전역 변수로 만듦\n",
    "    xx = 200      # x는 전역 변수\n",
    "    print(xx)    # 전역 변수 출력\n",
    " \n",
    "foo()\n",
    "print(xx)        # 전역 변수 출력"
   ]
  },
  {
   "cell_type": "code",
   "execution_count": 168,
   "metadata": {
    "ExecuteTime": {
     "end_time": "2022-07-14T17:23:37.571046Z",
     "start_time": "2022-07-14T17:23:37.557019Z"
    }
   },
   "outputs": [
    {
     "name": "stdout",
     "output_type": "stream",
     "text": [
      "10\n"
     ]
    }
   ],
   "source": [
    "# 예시 결과 확인\n",
    "# 지역변수의 범위 확인\n",
    "def A():\n",
    "    x = 10        # A의 지역 변수 x\n",
    "    def B():\n",
    "        x = 20    # x에 20 할당\n",
    " \n",
    "    B()\n",
    "    print(x)      # A의 지역 변수 x 출력\n",
    " \n",
    "A()"
   ]
  },
  {
   "cell_type": "code",
   "execution_count": 169,
   "metadata": {
    "ExecuteTime": {
     "end_time": "2022-07-14T17:23:37.586015Z",
     "start_time": "2022-07-14T17:23:37.572016Z"
    }
   },
   "outputs": [
    {
     "name": "stdout",
     "output_type": "stream",
     "text": [
      "20\n"
     ]
    }
   ],
   "source": [
    "# 예시 결과 확인\n",
    "# nonlocal로 가장 가까운 지역변수까지 확장 가능\n",
    "def A():\n",
    "    x = 10        # A의 지역 변수 x\n",
    "    def B():\n",
    "        nonlocal x    # 현재 함수의 바깥쪽에 있는 지역 변수 사용\n",
    "        x = 20        # A의 지역 변수 x에 20 할당\n",
    " \n",
    "    B()\n",
    "    print(x)      # A의 지역 변수 x 출력\n",
    " \n",
    "A()"
   ]
  },
  {
   "cell_type": "code",
   "execution_count": 170,
   "metadata": {
    "ExecuteTime": {
     "end_time": "2022-07-14T17:23:37.601051Z",
     "start_time": "2022-07-14T17:23:37.587017Z"
    }
   },
   "outputs": [
    {
     "name": "stdout",
     "output_type": "stream",
     "text": [
      "20\n",
      "0\n"
     ]
    }
   ],
   "source": [
    "# 예시 결과 확인\n",
    "# nonlocal은 전역변수 범주는 관여하지 않음\n",
    "x = 0\n",
    "def A():\n",
    "    x = 10        # A의 지역 변수 x\n",
    "    def B():\n",
    "        nonlocal x    # 현재 함수의 바깥쪽에 있는 지역 변수 사용\n",
    "        x = 20        # A의 지역 변수 x에 20 할당\n",
    " \n",
    "    B()\n",
    "    print(x)      # A의 지역 변수 x 출력\n",
    "\n",
    "A()\n",
    "print(x)"
   ]
  },
  {
   "cell_type": "code",
   "execution_count": 171,
   "metadata": {
    "ExecuteTime": {
     "end_time": "2022-07-14T17:23:37.616047Z",
     "start_time": "2022-07-14T17:23:37.603016Z"
    }
   },
   "outputs": [
    {
     "name": "stdout",
     "output_type": "stream",
     "text": [
      "10\n",
      "20\n"
     ]
    }
   ],
   "source": [
    "# 예시 결과 확인\n",
    "# global 함수는 모든 함수 외부의 변수에 관여하며 함수내 지역변수는 관여하지 않음\n",
    "x = 0\n",
    "def A():\n",
    "    x = 10        # A의 지역 변수 x\n",
    "    def B():\n",
    "        global x    # 현재 함수의 바깥쪽에 있는 전역 변수 사용\n",
    "        x = 20        # A의 지역 변수 x에 20 할당\n",
    " \n",
    "    B()\n",
    "    print(x)      # A의 지역 변수 x 출력\n",
    "\n",
    "A()\n",
    "print(x)"
   ]
  },
  {
   "cell_type": "markdown",
   "metadata": {},
   "source": [
    "- `nonlocal`은 현재 함수의 바깥쪽에 있는 지역 변수 탐색시 가장 가까운 함수에서부터 탐색\n",
    "- 함수의 단계와 무관하게 `global` 키워드를 사용하면 무조건 전역변수로 적용\n",
    "- 전역변수는 가급적 사용하지 않고 `지역변수를 유지`하는게 오류를 줄이는 방법"
   ]
  },
  {
   "cell_type": "markdown",
   "metadata": {},
   "source": [
    "- **Question:** 아래의 코드의 출력결과를 이해하여 왜 50과 400이 출력되었는지 주석으로 작성하시오"
   ]
  },
  {
   "cell_type": "code",
   "execution_count": 172,
   "metadata": {
    "ExecuteTime": {
     "end_time": "2022-07-14T17:23:37.631048Z",
     "start_time": "2022-07-14T17:23:37.617017Z"
    }
   },
   "outputs": [
    {
     "name": "stdout",
     "output_type": "stream",
     "text": [
      "50\n",
      "400\n"
     ]
    }
   ],
   "source": [
    "def A():\n",
    "    x = 10\n",
    "    y = 100\n",
    "    def B():\n",
    "        x = 20\n",
    "        def C():\n",
    "            nonlocal x\n",
    "            nonlocal y\n",
    "            x = x + 30\n",
    "            y = y + 300\n",
    "            print(x)\n",
    "            print(y)\n",
    "        C()\n",
    "    B()\n",
    " \n",
    "A()"
   ]
  },
  {
   "cell_type": "code",
   "execution_count": 173,
   "metadata": {
    "ExecuteTime": {
     "end_time": "2022-07-14T17:23:37.646016Z",
     "start_time": "2022-07-14T17:23:37.632017Z"
    }
   },
   "outputs": [],
   "source": [
    "# 결과 설명\n",
    "#\n",
    "#"
   ]
  },
  {
   "cell_type": "markdown",
   "metadata": {},
   "source": [
    "- **Question:** 아래의 코드의 출력결과를 이해하여 왜 31이 출력되었는지 주석으로 작성하시오"
   ]
  },
  {
   "cell_type": "code",
   "execution_count": 174,
   "metadata": {
    "ExecuteTime": {
     "end_time": "2022-07-14T17:23:37.661015Z",
     "start_time": "2022-07-14T17:23:37.647017Z"
    }
   },
   "outputs": [
    {
     "name": "stdout",
     "output_type": "stream",
     "text": [
      "31\n"
     ]
    }
   ],
   "source": [
    "x = 1\n",
    "def A():\n",
    "    x = 10\n",
    "    def B():\n",
    "        x = 20\n",
    "        def C():\n",
    "            global x\n",
    "            x = x + 30\n",
    "            print(x)\n",
    "        C()\n",
    "    B()\n",
    " \n",
    "A()"
   ]
  },
  {
   "cell_type": "code",
   "execution_count": 175,
   "metadata": {
    "ExecuteTime": {
     "end_time": "2022-07-14T17:23:37.676015Z",
     "start_time": "2022-07-14T17:23:37.662016Z"
    }
   },
   "outputs": [],
   "source": [
    "# 결과 설명\n",
    "#\n",
    "#"
   ]
  },
  {
   "cell_type": "markdown",
   "metadata": {},
   "source": [
    "## **Others:** 경제적인 함수사용"
   ]
  },
  {
   "cell_type": "markdown",
   "metadata": {},
   "source": [
    "### **함수생성:** lambda\n",
    "\n",
    "- `lambda 입력:출력`\n",
    "- `lambda`는 함수를 생성하는 예약어 `def`와 동일한 역할이나 한줄로 간결하게 작성 가능\n",
    "- 주로 def를 사용해야 할 정도로 복잡하지 않거나 def를 사용할 수 없는 곳에 사용\n",
    "- 식의 형태로 되어 있어 `람다 표현식(Lambda Expression)`이라고도 하며 다른 함수의 인수로 주로 사용\n",
    "- 람다 표현식은 이름이 없는 익명함수라서 호출할 수 없고 사용후 메모리에서 사라지므로 경제적\n",
    "\n",
    "```python\n",
    "# 함수 생성\n",
    "함수이름 = lambda 매개변수1 입력, 매개변수2 입력, ...: 매개변수들 표현식의 연산값 출력\n",
    "```"
   ]
  },
  {
   "cell_type": "code",
   "execution_count": 176,
   "metadata": {
    "ExecuteTime": {
     "end_time": "2022-07-14T17:23:37.691016Z",
     "start_time": "2022-07-14T17:23:37.677017Z"
    }
   },
   "outputs": [
    {
     "data": {
      "text/plain": [
       "3"
      ]
     },
     "execution_count": 176,
     "metadata": {},
     "output_type": "execute_result"
    }
   ],
   "source": [
    "def add(a,b):\n",
    "    return a+b\n",
    "\n",
    "add(1,2)"
   ]
  },
  {
   "cell_type": "code",
   "execution_count": 177,
   "metadata": {
    "ExecuteTime": {
     "end_time": "2022-07-14T17:23:37.706017Z",
     "start_time": "2022-07-14T17:23:37.692016Z"
    }
   },
   "outputs": [
    {
     "data": {
      "text/plain": [
       "3"
      ]
     },
     "execution_count": 177,
     "metadata": {},
     "output_type": "execute_result"
    }
   ],
   "source": [
    "# 람다 기능으로 위 함수를 변환\n",
    "add_ld = lambda a,b:a+b\n",
    "\n",
    "add_ld(1,2)"
   ]
  },
  {
   "cell_type": "code",
   "execution_count": 178,
   "metadata": {
    "ExecuteTime": {
     "end_time": "2022-07-14T17:23:37.721015Z",
     "start_time": "2022-07-14T17:23:37.707017Z"
    }
   },
   "outputs": [
    {
     "data": {
      "text/plain": [
       "[2]"
      ]
     },
     "execution_count": 178,
     "metadata": {},
     "output_type": "execute_result"
    }
   ],
   "source": [
    "# 람다 함수 변수 저장 가능\n",
    "result = []\n",
    "add_func = lambda x:result.append(x+1)\n",
    "\n",
    "add_func(1)\n",
    "result"
   ]
  },
  {
   "cell_type": "code",
   "execution_count": 179,
   "metadata": {
    "ExecuteTime": {
     "end_time": "2022-07-14T17:23:37.736016Z",
     "start_time": "2022-07-14T17:23:37.722017Z"
    }
   },
   "outputs": [
    {
     "name": "stdout",
     "output_type": "stream",
     "text": [
      "[2]\n",
      "[2, 3]\n",
      "[2, 3, 4]\n",
      "[2, 3, 4, 5]\n",
      "[2, 3, 4, 5, 6]\n"
     ]
    }
   ],
   "source": [
    "# 람다 함수도 활용 가능\n",
    "result = []\n",
    "for x in [1,2,3,4,5]:\n",
    "    add_func(x)\n",
    "    print(result)"
   ]
  },
  {
   "cell_type": "markdown",
   "metadata": {},
   "source": [
    "- 람다 표현식 자체를 마치 `함수/처리/f` 처럼 사용할 수 있음\n",
    "\n",
    "```python\n",
    "# f(x)\n",
    "(lambda 매개변수 입력: 매개변수식 출력)(인수들)\n",
    "```"
   ]
  },
  {
   "cell_type": "code",
   "execution_count": 180,
   "metadata": {
    "ExecuteTime": {
     "end_time": "2022-07-14T17:23:37.751015Z",
     "start_time": "2022-07-14T17:23:37.737016Z"
    }
   },
   "outputs": [
    {
     "data": {
      "text/plain": [
       "11"
      ]
     },
     "execution_count": 180,
     "metadata": {},
     "output_type": "execute_result"
    }
   ],
   "source": [
    "# 다양한 활용 가능\n",
    "(lambda x: x+10)(1)    # f(x)"
   ]
  },
  {
   "cell_type": "code",
   "execution_count": 181,
   "metadata": {
    "ExecuteTime": {
     "end_time": "2022-07-14T17:23:37.766015Z",
     "start_time": "2022-07-14T17:23:37.753017Z"
    }
   },
   "outputs": [],
   "source": [
    "# 내부 변수 생성 불가\n",
    "# (lambda x: y=10; x+y)(1)"
   ]
  },
  {
   "cell_type": "code",
   "execution_count": 182,
   "metadata": {
    "ExecuteTime": {
     "end_time": "2022-07-14T17:23:37.781016Z",
     "start_time": "2022-07-14T17:23:37.768017Z"
    }
   },
   "outputs": [
    {
     "data": {
      "text/plain": [
       "11"
      ]
     },
     "execution_count": 182,
     "metadata": {},
     "output_type": "execute_result"
    }
   ],
   "source": [
    "# 다양한 활용 가능\n",
    "y = 10\n",
    "(lambda x: x+y)(1)"
   ]
  },
  {
   "cell_type": "markdown",
   "metadata": {},
   "source": [
    "- 특히 함수의 `인수부분을 간단하게 함수로 반영`할 때 많이 사용"
   ]
  },
  {
   "cell_type": "code",
   "execution_count": 183,
   "metadata": {
    "ExecuteTime": {
     "end_time": "2022-07-14T17:23:37.797016Z",
     "start_time": "2022-07-14T17:23:37.783017Z"
    }
   },
   "outputs": [
    {
     "data": {
      "text/plain": [
       "[11, 12, 13]"
      ]
     },
     "execution_count": 183,
     "metadata": {},
     "output_type": "execute_result"
    }
   ],
   "source": [
    "# 예시 결과 확인\n",
    "def plus_ten(x):\n",
    "    return x + 10\n",
    "\n",
    "list(map(plus_ten, [1,2,3]))"
   ]
  },
  {
   "cell_type": "code",
   "execution_count": 184,
   "metadata": {
    "ExecuteTime": {
     "end_time": "2022-07-14T17:23:37.812017Z",
     "start_time": "2022-07-14T17:23:37.798019Z"
    }
   },
   "outputs": [
    {
     "data": {
      "text/plain": [
       "[11, 12, 13]"
      ]
     },
     "execution_count": 184,
     "metadata": {},
     "output_type": "execute_result"
    }
   ],
   "source": [
    "# 예시 결과 확인\n",
    "list(map(lambda x:x+10, [1,2,3]))"
   ]
  },
  {
   "cell_type": "markdown",
   "metadata": {},
   "source": [
    "- **Question:** `람다 표현식`을 사용하여 아래 파일 명 중 확장자가 `.jpg, .png`로 끝나는 이미지 파일만 리스트로 뽑아내는 프로그램을 작성하시오\n",
    "\n",
    "```python\n",
    "# 프로그램(함수) 작성\n",
    "\n",
    "\n",
    "# 입력\n",
    "files = ['font', '1.png', '10.jpg', '11.gif', '2.jpg', '3.png', 'table.xslx', 'spec.docx']\n",
    "\n",
    "# 출력\n",
    "\n",
    "```"
   ]
  },
  {
   "cell_type": "code",
   "execution_count": 185,
   "metadata": {
    "ExecuteTime": {
     "end_time": "2022-07-14T17:23:37.827016Z",
     "start_time": "2022-07-14T17:23:37.813016Z"
    }
   },
   "outputs": [],
   "source": [
    "# 프로그램(함수) 작성\n",
    "\n",
    "\n",
    "# 입력\n",
    "files = ['font', '1.png', '10.jpg', '11.gif', '2.jpg', '3.png', 'table.xslx', 'spec.docx']\n",
    "\n",
    "# 출력\n",
    "\n"
   ]
  },
  {
   "cell_type": "markdown",
   "metadata": {},
   "source": [
    "### **중첩함수:** map\n",
    "\n",
    "- `map(function, input1, ...)`\n",
    "- 사용할 함수와 함수에 입력될 값들을 `map`함수의 인수로 받아, `입력될 값이 함수에 적용된 결과`를 출력"
   ]
  },
  {
   "cell_type": "code",
   "execution_count": 186,
   "metadata": {
    "ExecuteTime": {
     "end_time": "2022-07-14T17:23:37.842014Z",
     "start_time": "2022-07-14T17:23:37.828017Z"
    }
   },
   "outputs": [
    {
     "data": {
      "text/plain": [
       "[1, 2, 3, 4, 5, 6, 7, 8, 9, 10]"
      ]
     },
     "execution_count": 186,
     "metadata": {},
     "output_type": "execute_result"
    }
   ],
   "source": [
    "# 함수와 값의 결합 가능\n",
    "add_one = lambda x:x+1\n",
    "data = list(range(0,10))\n",
    "\n",
    "list(map(add_one, data))"
   ]
  },
  {
   "cell_type": "code",
   "execution_count": 187,
   "metadata": {
    "ExecuteTime": {
     "end_time": "2022-07-14T17:23:37.857015Z",
     "start_time": "2022-07-14T17:23:37.843016Z"
    }
   },
   "outputs": [
    {
     "data": {
      "text/plain": [
       "[6, 6, 6, 6, 6]"
      ]
     },
     "execution_count": 187,
     "metadata": {},
     "output_type": "execute_result"
    }
   ],
   "source": [
    "# 함수와 2개 이상의 값 결합 가능\n",
    "add = lambda x,y:x+y\n",
    "a = [1,2,3,4,5]\n",
    "b = [5,4,3,2,1]\n",
    "\n",
    "list(map(add, a,b))"
   ]
  },
  {
   "cell_type": "code",
   "execution_count": 188,
   "metadata": {
    "ExecuteTime": {
     "end_time": "2022-07-14T17:23:37.872016Z",
     "start_time": "2022-07-14T17:23:37.858017Z"
    }
   },
   "outputs": [
    {
     "data": {
      "text/plain": [
       "[6, 6, 6, 6, 6]"
      ]
     },
     "execution_count": 188,
     "metadata": {},
     "output_type": "execute_result"
    }
   ],
   "source": [
    "# 다양한 활용 가능\n",
    "a = [1,2,3,4,5]\n",
    "b = [5,4,3,2,1]\n",
    "list(map(lambda x,y:x+y, a,b))"
   ]
  },
  {
   "cell_type": "code",
   "execution_count": 189,
   "metadata": {
    "ExecuteTime": {
     "end_time": "2022-07-14T17:23:37.887015Z",
     "start_time": "2022-07-14T17:23:37.874017Z"
    }
   },
   "outputs": [
    {
     "data": {
      "text/plain": [
       "[6, 6, 6, 6, 6]"
      ]
     },
     "execution_count": 189,
     "metadata": {},
     "output_type": "execute_result"
    }
   ],
   "source": [
    "# 다양한 활용 가능\n",
    "list(map(lambda x,y:x+y, [1,2,3,4,5],[5,4,3,2,1]))"
   ]
  },
  {
   "cell_type": "markdown",
   "metadata": {},
   "source": [
    "- `조건문`을 lambda 함수나 map 함수와 결합가능\n",
    "- 조건문 표현식에 콜론(:) 사용하지 않음\n",
    "- if를 사용했다면 `반드시 else 사용`해야 함\n",
    "- `elif 사용 불가`하고 if를 연속적으로 사용해야 함\n",
    "\n",
    "```python\n",
    "lambda 매개변수들: 매개변수 식1(조건식 참일때) if 조건식 else 식2(조건식 거짓일때)\n",
    "lambda 매개변수들: 매개변수 식1 if 조건식1 else 식2 if 조건식2 else 식3\n",
    "```"
   ]
  },
  {
   "cell_type": "code",
   "execution_count": 190,
   "metadata": {
    "ExecuteTime": {
     "end_time": "2022-07-14T17:23:37.902017Z",
     "start_time": "2022-07-14T17:23:37.888017Z"
    }
   },
   "outputs": [
    {
     "data": {
      "text/plain": [
       "[1, 2, '3', 4, 5, '6', 7, 8, '9', 10]"
      ]
     },
     "execution_count": 190,
     "metadata": {},
     "output_type": "execute_result"
    }
   ],
   "source": [
    "# 조건문 결합 가능\n",
    "a = [1, 2, 3, 4, 5, 6, 7, 8, 9, 10]\n",
    "\n",
    "list(map(lambda x: str(x) if x % 3 == 0 else x, a))"
   ]
  },
  {
   "cell_type": "code",
   "execution_count": 191,
   "metadata": {
    "ExecuteTime": {
     "end_time": "2022-07-14T17:23:37.917047Z",
     "start_time": "2022-07-14T17:23:37.903018Z"
    }
   },
   "outputs": [],
   "source": [
    "# else가 포함된 완벽한 형태여야 오류 미발생\n",
    "# a = [1, 2, 3, 4, 5, 6, 7, 8, 9, 10]\n",
    "\n",
    "# list(map(lambda x: str(x) if x % 3 == 0, a))"
   ]
  },
  {
   "cell_type": "code",
   "execution_count": 192,
   "metadata": {
    "ExecuteTime": {
     "end_time": "2022-07-14T17:23:37.932046Z",
     "start_time": "2022-07-14T17:23:37.919016Z"
    }
   },
   "outputs": [
    {
     "data": {
      "text/plain": [
       "[11, 12, '3', 14, 5.0, '6', 17, 18, '9', 10.0]"
      ]
     },
     "execution_count": 192,
     "metadata": {},
     "output_type": "execute_result"
    }
   ],
   "source": [
    "# 조건문 여러개도 결합 가능\n",
    "a = [1, 2, 3, 4, 5, 6, 7, 8, 9, 10]\n",
    "\n",
    "list(map(lambda x: str(x) if x % 3 == 0 else float(x) if x % 5 == 0 else x+10, a))"
   ]
  },
  {
   "cell_type": "markdown",
   "metadata": {},
   "source": [
    "- **Question:** 위와 동일한 결과를 출력하기 위해, `def` 명령을 사용하여 함수 `f`를 작성하고 아래의 입력을 받아 동일한 결과를 출력하시오\n",
    "\n",
    "```python\n",
    "# 프로그램(함수) 작성\n",
    "\n",
    "\n",
    "# 입력\n",
    "a = [1, 2, 3, 4, 5, 6, 7, 8, 9, 10]\n",
    "\n",
    "# 예상출력: [11, 12, '3', 14, 5.0, '6', 17, 18, '9', 10.0]\n",
    "list(map(f, a))\n",
    "```"
   ]
  },
  {
   "cell_type": "code",
   "execution_count": 193,
   "metadata": {
    "ExecuteTime": {
     "end_time": "2022-07-14T17:23:37.947014Z",
     "start_time": "2022-07-14T17:23:37.933015Z"
    }
   },
   "outputs": [],
   "source": [
    "# 프로그램(함수) 작성\n",
    "\n",
    "\n",
    "# 입력\n",
    "a = [1, 2, 3, 4, 5, 6, 7, 8, 9, 10]\n",
    "\n",
    "# 예상출력: [11, 12, '3', 14, 5.0, '6', 17, 18, '9', 10.0]\n",
    "# list(map(f, a))"
   ]
  },
  {
   "cell_type": "markdown",
   "metadata": {},
   "source": [
    "### **조건반영 중첩함수:** filter\n",
    "\n",
    "- `filter(function, input1, ...)`\n",
    "- map과 동일한 구조지만 `조건식이 참인 입력값들만 출력`"
   ]
  },
  {
   "cell_type": "code",
   "execution_count": 194,
   "metadata": {
    "ExecuteTime": {
     "end_time": "2022-07-14T17:23:37.962015Z",
     "start_time": "2022-07-14T17:23:37.948016Z"
    }
   },
   "outputs": [
    {
     "data": {
      "text/plain": [
       "[0, 2, 4, 6, 8]"
      ]
     },
     "execution_count": 194,
     "metadata": {},
     "output_type": "execute_result"
    }
   ],
   "source": [
    "# 값의 필터링 기능 확인\n",
    "even_num = lambda x:x%2==0\n",
    "data = list(range(0,10))\n",
    "\n",
    "list(filter(even_num, data))"
   ]
  },
  {
   "cell_type": "code",
   "execution_count": 195,
   "metadata": {
    "ExecuteTime": {
     "end_time": "2022-07-14T17:23:37.977049Z",
     "start_time": "2022-07-14T17:23:37.964024Z"
    }
   },
   "outputs": [
    {
     "data": {
      "text/plain": [
       "[True, False, True, False, True, False, True, False, True, False]"
      ]
     },
     "execution_count": 195,
     "metadata": {},
     "output_type": "execute_result"
    }
   ],
   "source": [
    "# map 함수에서는 참/거짓의 로직만 출력됨\n",
    "list(map(even_num, data))"
   ]
  },
  {
   "cell_type": "code",
   "execution_count": 196,
   "metadata": {
    "ExecuteTime": {
     "end_time": "2022-07-14T17:23:37.992045Z",
     "start_time": "2022-07-14T17:23:37.978018Z"
    }
   },
   "outputs": [
    {
     "data": {
      "text/plain": [
       "[8, 7, 9]"
      ]
     },
     "execution_count": 196,
     "metadata": {},
     "output_type": "execute_result"
    }
   ],
   "source": [
    "# 예시 결과 확인\n",
    "f = lambda x: x>5 and x<10\n",
    "data = [8, 3, 2, 10, 15, 7, 1, 9, 0, 11]\n",
    "\n",
    "list(filter(f, data))"
   ]
  },
  {
   "cell_type": "markdown",
   "metadata": {},
   "source": [
    "- map, filter와 lambda 중첩보다 `리스트 표현식이 훨씬 가독성 좋고 속도도 빠름`"
   ]
  },
  {
   "cell_type": "code",
   "execution_count": 197,
   "metadata": {
    "ExecuteTime": {
     "end_time": "2022-07-14T17:23:38.007047Z",
     "start_time": "2022-07-14T17:23:37.993016Z"
    }
   },
   "outputs": [
    {
     "data": {
      "text/plain": [
       "[8, 7, 9]"
      ]
     },
     "execution_count": 197,
     "metadata": {},
     "output_type": "execute_result"
    }
   ],
   "source": [
    "# 리스트 표현식으로 동일 결과 작성 가능\n",
    "a = [8, 3, 2, 10, 15, 7, 1, 9, 0, 11]\n",
    "\n",
    "[i for i in a if i>5 and i<10]"
   ]
  },
  {
   "cell_type": "markdown",
   "metadata": {},
   "source": [
    "### **반복값 생성함수:** comprehension\n",
    "\n",
    "- 반복값을 생성하는 방법중 간편하고 유용한 기능으로 `list 외 tuple/set/dict`에서도 활용가능"
   ]
  },
  {
   "cell_type": "code",
   "execution_count": 198,
   "metadata": {
    "ExecuteTime": {
     "end_time": "2022-07-14T17:23:38.022047Z",
     "start_time": "2022-07-14T17:23:38.008016Z"
    }
   },
   "outputs": [
    {
     "data": {
      "text/plain": [
       "[0, 2, 4, 6, 8, 10, 12, 14, 16, 18, 20]"
      ]
     },
     "execution_count": 198,
     "metadata": {},
     "output_type": "execute_result"
    }
   ],
   "source": [
    "# List Type\n",
    "result = []\n",
    "for x in range(11):\n",
    "    result.append(x*2)\n",
    "result"
   ]
  },
  {
   "cell_type": "code",
   "execution_count": 199,
   "metadata": {
    "ExecuteTime": {
     "end_time": "2022-07-14T17:23:38.037016Z",
     "start_time": "2022-07-14T17:23:38.023016Z"
    }
   },
   "outputs": [
    {
     "data": {
      "text/plain": [
       "[0, 2, 4, 6, 8, 10, 12, 14, 16, 18, 20]"
      ]
     },
     "execution_count": 199,
     "metadata": {},
     "output_type": "execute_result"
    }
   ],
   "source": [
    "# 리스트 표현으로 위와 동일 결과 작성\n",
    "[x*2 for x in range(11)]"
   ]
  },
  {
   "cell_type": "code",
   "execution_count": 200,
   "metadata": {
    "ExecuteTime": {
     "end_time": "2022-07-14T17:23:38.052018Z",
     "start_time": "2022-07-14T17:23:38.039017Z"
    }
   },
   "outputs": [
    {
     "name": "stdout",
     "output_type": "stream",
     "text": [
      "75 [4, 6, 8, 10, 12, 14, 16, 18, 20, 22, 24, 26, 28, 30, 32, 34, 36, 38, 40, 42, 44, 46, 48, 6, 9, 12, 15, 18, 21, 24, 27, 30, 33, 36, 39, 42, 45, 48, 8, 12, 16, 20, 24, 28, 32, 36, 40, 44, 48, 10, 15, 20, 25, 30, 35, 40, 45, 12, 18, 24, 30, 36, 42, 48, 14, 21, 28, 35, 42, 49, 16, 24, 32, 40, 48]\n"
     ]
    }
   ],
   "source": [
    "result = []\n",
    "for i in range(2,9):\n",
    "    for j in range(i*2, 50, i):\n",
    "        result.append(j)\n",
    "print(len(result), result)"
   ]
  },
  {
   "cell_type": "code",
   "execution_count": 201,
   "metadata": {
    "ExecuteTime": {
     "end_time": "2022-07-14T17:23:38.067015Z",
     "start_time": "2022-07-14T17:23:38.053019Z"
    }
   },
   "outputs": [
    {
     "name": "stdout",
     "output_type": "stream",
     "text": [
      "75 [4, 6, 8, 10, 12, 14, 16, 18, 20, 22, 24, 26, 28, 30, 32, 34, 36, 38, 40, 42, 44, 46, 48, 6, 9, 12, 15, 18, 21, 24, 27, 30, 33, 36, 39, 42, 45, 48, 8, 12, 16, 20, 24, 28, 32, 36, 40, 44, 48, 10, 15, 20, 25, 30, 35, 40, 45, 12, 18, 24, 30, 36, 42, 48, 14, 21, 28, 35, 42, 49, 16, 24, 32, 40, 48]\n"
     ]
    }
   ],
   "source": [
    "# 리스트 표현으로 위와 동일 결과 작성\n",
    "result = [j for i in range(2,9) for j in range(i*2, 50, i)]\n",
    "print(len(result), result)"
   ]
  },
  {
   "cell_type": "code",
   "execution_count": 202,
   "metadata": {
    "ExecuteTime": {
     "end_time": "2022-07-14T17:23:38.082048Z",
     "start_time": "2022-07-14T17:23:38.068018Z"
    }
   },
   "outputs": [
    {
     "name": "stdout",
     "output_type": "stream",
     "text": [
      "33 {4, 6, 8, 9, 10, 12, 14, 15, 16, 18, 20, 21, 22, 24, 25, 26, 27, 28, 30, 32, 33, 34, 35, 36, 38, 39, 40, 42, 44, 45, 46, 48, 49}\n"
     ]
    }
   ],
   "source": [
    "# 집합으로 값을 정리하면 중복값들은 사라짐\n",
    "result = {j for i in range(2,9) for j in range(i*2, 50, i)}\n",
    "print(len(result), result)"
   ]
  },
  {
   "cell_type": "code",
   "execution_count": 203,
   "metadata": {
    "ExecuteTime": {
     "end_time": "2022-07-14T17:23:38.097015Z",
     "start_time": "2022-07-14T17:23:38.083017Z"
    }
   },
   "outputs": [
    {
     "data": {
      "text/plain": [
       "{'math': 90, 'history': 80, 'english': 95, 'computer engineering': 100}"
      ]
     },
     "execution_count": 203,
     "metadata": {},
     "output_type": "execute_result"
    }
   ],
   "source": [
    "# Dict Type\n",
    "subjects = ['math', 'history', 'english', 'computer engineering']\n",
    "scores = [90, 80, 95, 100]\n",
    "\n",
    "result = dict()\n",
    "for key, value in zip(subjects, scores):\n",
    "    result[key] = value\n",
    "result"
   ]
  },
  {
   "cell_type": "code",
   "execution_count": 204,
   "metadata": {
    "ExecuteTime": {
     "end_time": "2022-07-14T17:23:38.112014Z",
     "start_time": "2022-07-14T17:23:38.098018Z"
    }
   },
   "outputs": [
    {
     "data": {
      "text/plain": [
       "{'math': 90, 'history': 80, 'english': 95, 'computer engineering': 100}"
      ]
     },
     "execution_count": 204,
     "metadata": {},
     "output_type": "execute_result"
    }
   ],
   "source": [
    "# 리스트 표현으로 위와 동일 결과 작성\n",
    "{key:value for key, value in zip(subjects, scores)}"
   ]
  },
  {
   "cell_type": "code",
   "execution_count": 205,
   "metadata": {
    "ExecuteTime": {
     "end_time": "2022-07-14T17:23:38.127015Z",
     "start_time": "2022-07-14T17:23:38.114016Z"
    }
   },
   "outputs": [
    {
     "data": {
      "text/plain": [
       "{'math': 90, 'history': 80, 'english': 95, 'computer engineering': 100}"
      ]
     },
     "execution_count": 205,
     "metadata": {},
     "output_type": "execute_result"
    }
   ],
   "source": [
    "# zip 함수로 위와 동일 결과 작성\n",
    "dict(zip(subjects, scores))"
   ]
  },
  {
   "cell_type": "code",
   "execution_count": 206,
   "metadata": {
    "ExecuteTime": {
     "end_time": "2022-07-14T17:23:38.142015Z",
     "start_time": "2022-07-14T17:23:38.128016Z"
    }
   },
   "outputs": [
    {
     "data": {
      "text/plain": [
       "{'math': 90, 'history': 80, 'english': 95, 'computer engineering': 100}"
      ]
     },
     "execution_count": 206,
     "metadata": {},
     "output_type": "execute_result"
    }
   ],
   "source": [
    "# 리스트 표현으로 위와 동일 결과 작성\n",
    "score_tuples = [('math', 90), ('history', 80), ('english', 95), ('computer engineering', 100)]\n",
    "{t[0]: t[1] for t in score_tuples}"
   ]
  },
  {
   "cell_type": "code",
   "execution_count": 207,
   "metadata": {
    "ExecuteTime": {
     "end_time": "2022-07-14T17:23:38.157016Z",
     "start_time": "2022-07-14T17:23:38.143017Z"
    }
   },
   "outputs": [
    {
     "name": "stdout",
     "output_type": "stream",
     "text": [
      "('math', 90)\n",
      "('history', 80)\n",
      "('english', 95)\n",
      "('computer engineering', 100)\n"
     ]
    }
   ],
   "source": [
    "# dict 값은 key & value가 동시에 반복적 입력됨\n",
    "score_tuples = [('math', 90), ('history', 80), ('english', 95), ('computer engineering', 100)]\n",
    "for t in score_tuples:\n",
    "    print(t)"
   ]
  },
  {
   "cell_type": "markdown",
   "metadata": {},
   "source": [
    "# **파이썬 라이브러리(Library)란?**\n",
    "\n",
    "- 라이브러리는 특정 기능이 실행되도록 미리 만들어둔 프로그래밍 함수 모음\n",
    "- 라이브러리는 넓은 범위에서 상황에 따라 **`패키지, 모듈, 클래스, 함수`** 로 지칭\n",
    "- 좁은 범위에서 패키지와 같은 의미로도 쓰이고 패키지를 모아놓은 것이라는 의미로도 쓰임\n",
    "- **포함관계:** 라이브러리 $\\geq$ 패키지 $\\geq$ 모듈 $>$ 클래스 $>$ 함수\n",
    "\n",
    "<center><img src='Image/Basic/Function_to_Package.png' width='600'>(https://thinkreen.github.io/_posts/2020-06-30-py-FunctionModuleClass/)</center>\n",
    "\n",
    "- **\"사회적 유사형태 비교\"** \n",
    "> - **기업들도 결국 함수를 정교하게 고도화시켜 플랫폼 비즈니스를 하고 수익을 극대화** \n",
    "\n",
    "| **Python <br>구성** | **일반적사회 <br>구성** | **비즈니스 <br>구성** | **Data Science <br>구성** |\n",
    "|:---:|:---:|:---:|:---:|\n",
    "| **Library** | - | - | C Library, Java Library, R Library, Python Library.. |\n",
    "| **Package** | 정치, 경제, 교육, 금융, 사회, 복지, 대한민국, 미국, 중국.. | 사업부1, 사업부2, 인재개발원, 연구소.. | Google Analytics, AWS Analytics, Tableau, SAP Reports, SAS BI, Microsoft   BI, IBM Cognos.. |\n",
    "| **Module** | 청와대, 대학교, 기업, 어린이집.. | 인사팀, 재무팀, 개발팀, 영업팀, 마케팅팀, 고객관리팀.. | 구매자예측플랫폼, 가격예측플랫폼, 고객관리플랫폼, 재고최소화플랫폼.. |\n",
    "| **Class** | 대통령, 정치인, 교수, 직장인, 사업가, 학생, 아기, 강아지, 고양이.. | 사원, 대리, 과장, 차장, 부장, 임원.. | 마케팅구매자예측, 광고가격예측, 고객불만예측, 재고율낮추기.. |\n",
    "| **Function** | ex1) 교수: 수업하기, 연구하기, 졸기..<br>ex2) 학생: 수업듣기, 졸기..  | 대화하기, 차마시기, 컴퓨터설치하기, 다른사람만나기, 문서작성하기, 사원증만들기, 배달하기, 주문하기, 자리정리하기, 청소하기.. | 데이터수집, 문제정의, 해결대안협의, 데이터입력, 데이터전처리, 알고리즘적용, 비즈니스검증기획.. |\n",
    "\n",
    "---\n",
    "\n",
    "**1) 함수(Function):**\n",
    "- 하나의 기능을 가진 코드로 입력값을 처리하여 출력값을 반환\n",
    "- 함수를 사용한다는 것을 프로그래밍에선 함수를 호출한다고 함\n",
    "- **`내장함수, 외장함수, 사용자정의함수`** 가 있음\n",
    "- **사용법:** Jupyter Notebook에서\n",
    " \n",
    "```python\n",
    "min_value = min([1,2,3])    # 내장함수\n",
    "\n",
    "import numpy    # 외장함수\n",
    "mean_value = numpy.mean([1,2,3])    \n",
    "\n",
    "def 평균구하기(입력):    # 사용자 정의함수\n",
    "    return 총합/갯수\n",
    "\n",
    "출력 = 평균구하기(입력)\n",
    "```\n",
    "\n",
    "**2) 모듈(Module):**\n",
    "- **사용법:** Jupyter Notebook에서\n",
    "> - `import 모듈` (기본 설치되었거나 다른 패키지와 이름이 중복되지 않을시)\n",
    "> - `import 모듈 as 축약어` (모듈 이름이 길거나 중복우려서 별도 축약어로 사용)\n",
    "> - `from 모듈 import 함수` (모듈 내부의 특정 함수만 로딩 가능)\n",
    "> - `from 축약어 import 함수` (모듈 내부의 특정 함수만 로딩 가능)\n",
    "> - `import 모듈.함수` (모듈 내부의 특정 함수만 로딩 가능)\n",
    "- 변수, 여러 함수들을 묶어 모듈을 정의한 후, `.py` 확장자의 파일로 저장하면 `외장함수` 처럼 `import` 명령어로 불러와 사용 가능\n",
    "\n",
    "```python\n",
    "import numpy  \n",
    "import numpy as np   \n",
    "from numpy import mean\n",
    "from np import mean\n",
    "import numpy.mean\n",
    "import custom_module    # 사용자 정의모듈 로딩\n",
    "import custom_module as cm    # 사용자 정의모듈을 로딩하고, cm이라는 이름으로 사용\n",
    "from custom_module import 평균구하기    # 사용자 정의모듈에서 '평균구하기'라는 이름의 함수만 로딩\n",
    "from cm import 평균구하기    # 사용자 정의모듈에서 '평균구하기'라는 이름의 함수만 로딩\n",
    "import custom_module.평균구하기    # 사용자 정의모듈에서 '평균구하기'라는 이름의 함수만 로딩\n",
    "```\n",
    "\n",
    "**3) 클래스(Class):**\n",
    "- 클래스는 **`속성(변수)`** 과 **`함수`** 를 포함하여 객체/완제품으로 작동되도록 구성된 **`실체/객체`**\n",
    "- **`자동차, 휴대폰, 마우스, 게임케릭터 등`** 자동차가 휴대폰이 될 수 없고 마우스가 게임케릭터로 될 순 없지만, 각각 자체적으로 특정 기능만 수행하도록 구성된 것은 모두 클래스 형태\n",
    "- **사용법:** Jupyter Notebook에서\n",
    "\n",
    "```python\n",
    "class 학생(): \n",
    "    def 인사하기()\n",
    "        print(\"하이\")\n",
    "    def 공부하기()\n",
    "        print(\"무념무상\")\n",
    "    def 물마시기()\n",
    "        print(\"벌컥벌컥)\n",
    "\n",
    "KK = 학생()\n",
    "KK.공부하기()\n",
    "```\n",
    "\n",
    "**4) 패키지(Package):**\n",
    "- **`라이브러리`** 라고도 불리며 특정 기능과 관련된 **`여러 모듈을 하나로 묶어 둔 응용 프로그램 수준`** 을 의미\n",
    "- **설치방법:** **`pip, conda`** 라는 라이브러리 설치 및 관리 프로그램으로 간편하게 가능\n",
    "\n",
    "| **설치도구** | **pip install** | **conda install** |\n",
    "|:---:|:---:|:---:|\n",
    "| **특징** | `Python의 정식 지원을 받은 패키지`만 설치 및 관리 | `Anaconda의 정식 지원을 받은 패키지`만 설치 및 관리 |\n",
    "| **장점** | 최근 만들어진 패키지 사용 가능 | 플랫폼에 맞는 라이브러리와 연결된 패키지를 함께 설치 및 업데이트 |\n",
    "| **단점** | 최신 버전인 만큼 안정적 사용을 보장하기 어려움<br>     설치하는 라이브러리와 연결된 패키지는 별도 업데이트 필요 | 안정적 설치 및 사용이 가능한 편<br>     최신 버전을 빠르게 포함하지 못함 |\n",
    "\n",
    "> - **설치도구 활용추천:** 빠른 기술 변화에 대응하기 위해 `pip install을 우선 사용하고 오류나 이슈가 발생시 conda install을 사용하여 해결`\n",
    ">\n",
    "> - Anaconda Prompt:\n",
    ">> - `pip install 패키지명`\n",
    ">> - `conda install 패키지명`\n",
    ">> - (ex) `pip install numpy`\n",
    "> - Jupyter Notebook:\n",
    ">> - `!pip install 패키지명`\n",
    ">> - `!conda install 패키지명`\n",
    ">> - (ex) `!pip install numpy`\n",
    "\n",
    "- **사용방법:** Jupyter Notebook에서\n",
    "> - `import 패키지` \n",
    "> - `import 패키지 as 축약어` (별도 축약어로 사용 가능)\n",
    "> - `from 패키지 import 모듈` (패키지 내부의 특정 모듈만 로딩 가능)\n",
    "> - `from 패키지 import 함수` (패키지 내부의 특정 함수만 로딩 가능)\n",
    "> - `from 축약어 import 모듈` (축약어 패키지로부터 특정 모듈만 로딩 가능)\n",
    "> - `from 축약어 import 함수` (축약어 패키지로부터 특정 함수만 로딩 가능)\n",
    "> - `import 패키지.모듈.함수` (패키지 내부 모듈의 특정 함수만 로딩 가능)\n",
    "> - `import 패키지.함수` (패키지 내부 특정 함수만 로딩 가능)\n"
   ]
  },
  {
   "cell_type": "code",
   "execution_count": 208,
   "metadata": {
    "ExecuteTime": {
     "end_time": "2022-07-14T17:23:42.937047Z",
     "start_time": "2022-07-14T17:23:38.158016Z"
    }
   },
   "outputs": [
    {
     "name": "stdout",
     "output_type": "stream",
     "text": [
      "Requirement already satisfied: numpy in c:\\users\\kk\\anaconda3\\lib\\site-packages (1.24.3)\n"
     ]
    }
   ],
   "source": [
    "# 패키지 설치\n",
    "!pip install numpy"
   ]
  },
  {
   "cell_type": "code",
   "execution_count": 209,
   "metadata": {
    "ExecuteTime": {
     "end_time": "2022-07-14T17:23:46.968045Z",
     "start_time": "2022-07-14T17:23:42.939018Z"
    }
   },
   "outputs": [
    {
     "name": "stdout",
     "output_type": "stream",
     "text": [
      "Requirement already satisfied: pandas in c:\\users\\kk\\anaconda3\\lib\\site-packages (1.5.3)\n",
      "Requirement already satisfied: python-dateutil>=2.8.1 in c:\\users\\kk\\anaconda3\\lib\\site-packages (from pandas) (2.8.2)\n",
      "Requirement already satisfied: pytz>=2020.1 in c:\\users\\kk\\anaconda3\\lib\\site-packages (from pandas) (2022.7)\n",
      "Requirement already satisfied: numpy>=1.21.0 in c:\\users\\kk\\anaconda3\\lib\\site-packages (from pandas) (1.24.3)\n",
      "Requirement already satisfied: six>=1.5 in c:\\users\\kk\\anaconda3\\lib\\site-packages (from python-dateutil>=2.8.1->pandas) (1.16.0)\n"
     ]
    }
   ],
   "source": [
    "# 패키지 설치\n",
    "!pip install pandas"
   ]
  }
 ],
 "metadata": {
  "hide_input": false,
  "kernelspec": {
   "display_name": "Python 3 (ipykernel)",
   "language": "python",
   "name": "python3"
  },
  "language_info": {
   "codemirror_mode": {
    "name": "ipython",
    "version": 3
   },
   "file_extension": ".py",
   "mimetype": "text/x-python",
   "name": "python",
   "nbconvert_exporter": "python",
   "pygments_lexer": "ipython3",
   "version": "3.12.3"
  },
  "latex_envs": {
   "LaTeX_envs_menu_present": true,
   "autoclose": false,
   "autocomplete": true,
   "bibliofile": "biblio.bib",
   "cite_by": "apalike",
   "current_citInitial": 1,
   "eqLabelWithNumbers": true,
   "eqNumInitial": 1,
   "hotkeys": {
    "equation": "Ctrl-E",
    "itemize": "Ctrl-I"
   },
   "labels_anchors": false,
   "latex_user_defs": false,
   "report_style_numbering": false,
   "user_envs_cfg": false
  },
  "toc": {
   "base_numbering": 1,
   "nav_menu": {},
   "number_sections": true,
   "sideBar": true,
   "skip_h1_title": false,
   "title_cell": "Table of Contents",
   "title_sidebar": "Contents",
   "toc_cell": false,
   "toc_position": {
    "height": "1147px",
    "left": "103px",
    "top": "167.125px",
    "width": "392.26px"
   },
   "toc_section_display": true,
   "toc_window_display": true
  },
  "varInspector": {
   "cols": {
    "lenName": 16,
    "lenType": 16,
    "lenVar": 40
   },
   "kernels_config": {
    "python": {
     "delete_cmd_postfix": "",
     "delete_cmd_prefix": "del ",
     "library": "var_list.py",
     "varRefreshCmd": "print(var_dic_list())"
    },
    "r": {
     "delete_cmd_postfix": ") ",
     "delete_cmd_prefix": "rm(",
     "library": "var_list.r",
     "varRefreshCmd": "cat(var_dic_list()) "
    }
   },
   "position": {
    "height": "144.667px",
    "left": "1346.67px",
    "right": "20px",
    "top": "141px",
    "width": "350px"
   },
   "types_to_exclude": [
    "module",
    "function",
    "builtin_function_or_method",
    "instance",
    "_Feature"
   ],
   "window_display": false
  }
 },
 "nbformat": 4,
 "nbformat_minor": 4
}
