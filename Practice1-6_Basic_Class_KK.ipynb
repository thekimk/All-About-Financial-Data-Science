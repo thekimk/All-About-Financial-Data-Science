{
 "cells": [
  {
   "cell_type": "markdown",
   "metadata": {},
   "source": [
    "# **파이썬클래스: 데이터와 함수를 묶여 사람처럼 구현하다**\n",
    "\n",
    "[![Open in Colab](http://colab.research.google.com/assets/colab-badge.svg)](https://colab.research.google.com/github/thekimk/Tutorial-Python-Programming/blob/main/Practice1-6_Basic_Class_KK.ipynb)\n",
    "\n",
    "> - 클래스는 **`속성(변수)`** 과 **`기능(함수)`** 를 포함하여 객체/완제품으로 작동되도록 구성된 **`실체/객체`**\n",
    "> - **`자동차, 휴대폰, 마우스, 게임케릭터 등`** 자동차가 휴대폰이 될 수 없고 마우스가 게임케릭터로 될 순 없지만, 각각 자체적으로 특정 기능만 수행하도록 구성된 것은 모두 클래스 형태\n",
    "\n",
    "---\n",
    "\n",
    "**0) 객체:** `실체`를 `객관적 측면`으로 나타낸 것으로, 데이터를 활용하는 `특정 함수(기능)의 묶음`\n",
    "\n",
    "- 실체의 일차원적 정의는 `진짜로 존재하는 그 무엇`이다.\n",
    "- 실체는 `속성(변수)`과 `기능(함수)`을 가지고 있다.\n",
    "- `속성(변수)`과 `기능(함수)`을 통해 각 실체를 `구별하거나 인식하거나 이해`할 수 있다.\n",
    "> - 집, 자동차, 나무, 버튼, 박스, 궁수, 기사, 마법사 등 \n",
    "> - `특정 개념이나 모양으로 존재하는 것`을 객체라고 함\n",
    "\n",
    "<center><img src='Image/Basic/Game_Character.png' width='500'></center>\n",
    "\n",
    "---\n",
    "\n",
    "**1) 클래스(Class):** \n",
    "\n",
    "> - `프로그래밍으로 객체를 표현`해내기 위한 `문법/형식/도구`\n",
    "> - 현실 세계에 있는 개념/대상들을 `컴퓨터 언어로 구현`\n",
    ">\n",
    "> - **객체지향 프로그래밍:** `복잡한 문제`를 잘게 나누어 `객체로 생성` 후 객체를 `조합하여 문제를 해결`\n",
    ">\n",
    ">> - `현실 세계`의 복잡한 문제를 처리하는데 유용\n",
    ">> - 세부 기능만 수정해도 `전체 기능이 개선/발전` 되기에 `유지보수`에도 효율적\n",
    ">\n",
    "> <center><img src='Image/Basic/Class_Structure.png' width='500'>(https://dojang.io/mod/page/view.php?id=2372)</center>\n",
    ">\n",
    "> - 보통 파이썬에서 `클래스 이름은 대문자`로 시작\n",
    "> - `매서드`는 클래스 안에 들어있는 함수로 `첫번째 매개변수는 반드시 self`를 지정\n",
    ">\n",
    "> ```python\n",
    "class 클래스이름:\n",
    "    def 메서드(self, ... , ... ):\n",
    "        명령\n",
    ">```\n",
    "\n",
    "---\n",
    "\n",
    "**2) 클래스 프로그래밍:**\n",
    "\n",
    "| **클래스(Class)** | **객체(Object)** | **인스턴스(Instance)** |\n",
    "|:---|:---|:---|\n",
    "| 설계도 | 설계도로 구현된 모든 대상 |  |\n",
    "|  | 클래스로 선언되었을 때 | 객체가 메모리에 할당되어 실제 사용될 때 |\n",
    "|  | 현실 세계에 가까운 표현 | 소프트웨어 세계에 가까운 표현 |\n",
    "\n",
    "> - `클래스`는 객체를 만드는 하나의 틀과 같음(뽑기틀: class, 뽑기과자: object)\n",
    "> - 클래스는 특정 개념일 뿐, `사용/실존`하려면 틀을 사용해 만들어진 내용 필요 $\\rightarrow$ `인스턴스 생성`\n",
    "> - 동일한 클래스로 만든 `객체들은 서로 전혀 영향을 주지 않음`\n",
    "> - 클래스 개념은 쉽지 않으며, 전통적 프로그래밍 언어인 C언어에는 클래스 개념이 없음\n",
    "> - 클래스 없이 프로그래밍에 지장은 없으나 잘 사용하면 분석이 복잡해지고 방대해져도 `코드 효율성`이나 `운영/관리에 이익`\n"
   ]
  },
  {
   "cell_type": "code",
   "execution_count": 1,
   "metadata": {
    "ExecuteTime": {
     "end_time": "2022-07-17T16:16:20.951110Z",
     "start_time": "2022-07-17T16:16:20.936904Z"
    }
   },
   "outputs": [],
   "source": [
    "# 클래스 객체 및 인스턴스 생성\n",
    "class Person:\n",
    "    def greeting(self):\n",
    "        print('Hello')\n",
    "        \n",
    "KK = Person()"
   ]
  },
  {
   "cell_type": "code",
   "execution_count": 2,
   "metadata": {
    "ExecuteTime": {
     "end_time": "2022-07-17T16:16:20.966113Z",
     "start_time": "2022-07-17T16:16:20.952112Z"
    }
   },
   "outputs": [
    {
     "data": {
      "text/plain": [
       "__main__.Person"
      ]
     },
     "execution_count": 2,
     "metadata": {},
     "output_type": "execute_result"
    }
   ],
   "source": [
    "# 인스턴스 타입 확인\n",
    "type(KK)"
   ]
  },
  {
   "cell_type": "code",
   "execution_count": 3,
   "metadata": {
    "ExecuteTime": {
     "end_time": "2022-07-17T16:16:20.981111Z",
     "start_time": "2022-07-17T16:16:20.968111Z"
    }
   },
   "outputs": [
    {
     "name": "stdout",
     "output_type": "stream",
     "text": [
      "Hello\n"
     ]
    }
   ],
   "source": [
    "# 인스턴스 기능 확인\n",
    "KK.greeting()"
   ]
  },
  {
   "cell_type": "code",
   "execution_count": 4,
   "metadata": {
    "ExecuteTime": {
     "end_time": "2022-07-17T16:16:20.996110Z",
     "start_time": "2022-07-17T16:16:20.982112Z"
    }
   },
   "outputs": [
    {
     "name": "stdout",
     "output_type": "stream",
     "text": [
      "Hello\n"
     ]
    }
   ],
   "source": [
    "# 새로운 인스턴스 생성 후 기능 확인\n",
    "YY = Person()\n",
    "YY.greeting()"
   ]
  },
  {
   "cell_type": "code",
   "execution_count": 5,
   "metadata": {
    "ExecuteTime": {
     "end_time": "2022-07-17T16:16:21.011141Z",
     "start_time": "2022-07-17T16:16:20.998114Z"
    }
   },
   "outputs": [
    {
     "data": {
      "text/plain": [
       "False"
      ]
     },
     "execution_count": 5,
     "metadata": {},
     "output_type": "execute_result"
    }
   ],
   "source": [
    "# 객체들은 서로 전혀 영향을 주지 않음\n",
    "KK == YY"
   ]
  },
  {
   "cell_type": "code",
   "execution_count": 6,
   "metadata": {
    "ExecuteTime": {
     "end_time": "2022-07-17T16:16:21.026110Z",
     "start_time": "2022-07-17T16:16:21.013110Z"
    }
   },
   "outputs": [],
   "source": [
    "# 숫자 지정 함수를 포함하는 계산기 클래스 객체 생성\n",
    "class Calculator:\n",
    "    def setdata(self, first, second):\n",
    "        self.first = first\n",
    "        self.second = second"
   ]
  },
  {
   "cell_type": "code",
   "execution_count": 7,
   "metadata": {
    "ExecuteTime": {
     "end_time": "2022-07-17T16:16:21.041112Z",
     "start_time": "2022-07-17T16:16:21.028111Z"
    }
   },
   "outputs": [
    {
     "name": "stdout",
     "output_type": "stream",
     "text": [
      "4\n"
     ]
    }
   ],
   "source": [
    "# 계산기 인스턴스 생성 + 기능 실행 + 저장값 출력\n",
    "a = Calculator()\n",
    "a.setdata(4, 2)\n",
    "print(a.first)"
   ]
  },
  {
   "cell_type": "code",
   "execution_count": 8,
   "metadata": {
    "ExecuteTime": {
     "end_time": "2022-07-17T16:16:21.056110Z",
     "start_time": "2022-07-17T16:16:21.042111Z"
    }
   },
   "outputs": [
    {
     "name": "stdout",
     "output_type": "stream",
     "text": [
      "3\n"
     ]
    }
   ],
   "source": [
    "# 계산기 인스턴스 생성 + 기능 실행 + 저장값 출력\n",
    "b = Calculator()\n",
    "b.setdata(3, 7)\n",
    "print(b.first)"
   ]
  },
  {
   "cell_type": "code",
   "execution_count": 9,
   "metadata": {
    "ExecuteTime": {
     "end_time": "2022-07-17T16:16:21.071109Z",
     "start_time": "2022-07-17T16:16:21.058110Z"
    }
   },
   "outputs": [
    {
     "name": "stdout",
     "output_type": "stream",
     "text": [
      "4\n"
     ]
    }
   ],
   "source": [
    "# 객체들은 서로 전혀 영향을 주지 않음\n",
    "print(a.first)"
   ]
  },
  {
   "cell_type": "markdown",
   "metadata": {
    "ExecuteTime": {
     "end_time": "2021-03-09T14:07:26.171806Z",
     "start_time": "2021-03-09T14:07:26.161810Z"
    }
   },
   "source": [
    "## 메서드(함수) 사용하기"
   ]
  },
  {
   "cell_type": "code",
   "execution_count": 10,
   "metadata": {
    "ExecuteTime": {
     "end_time": "2022-07-17T16:16:21.086110Z",
     "start_time": "2022-07-17T16:16:21.073110Z"
    }
   },
   "outputs": [
    {
     "name": "stdout",
     "output_type": "stream",
     "text": [
      "Hello\n"
     ]
    }
   ],
   "source": [
    "# 클래스 객체 및 인스턴스 생성\n",
    "# 기능 실행\n",
    "class Person:\n",
    "    def greeting(self):\n",
    "        print('Hello')\n",
    "\n",
    "KK = Person()\n",
    "KK.greeting()    #  호출된 메서드를 인스턴스 메서드 라고 부름"
   ]
  },
  {
   "cell_type": "markdown",
   "metadata": {},
   "source": [
    "- `내장 함수`들도 사실 클래스의 메서드처럼 사용되고, 우리는 이 클래스로 인스턴스를 만들고 `메서드 사용` 가능\n",
    "- 다시 말하면, 이제 우리는 직접 만든 클래스도 `내장 함수처럼` 클래스 인스턴스로 직접 `사용 가능`"
   ]
  },
  {
   "cell_type": "code",
   "execution_count": 11,
   "metadata": {
    "ExecuteTime": {
     "end_time": "2022-07-17T16:16:21.101110Z",
     "start_time": "2022-07-17T16:16:21.087112Z"
    }
   },
   "outputs": [
    {
     "data": {
      "text/plain": [
       "10"
      ]
     },
     "execution_count": 11,
     "metadata": {},
     "output_type": "execute_result"
    }
   ],
   "source": [
    "a = int(10)\n",
    "a"
   ]
  },
  {
   "cell_type": "code",
   "execution_count": 12,
   "metadata": {
    "ExecuteTime": {
     "end_time": "2022-07-17T16:16:21.116109Z",
     "start_time": "2022-07-17T16:16:21.102110Z"
    }
   },
   "outputs": [
    {
     "data": {
      "text/plain": [
       "{'x': 10, 'y': 20}"
      ]
     },
     "execution_count": 12,
     "metadata": {},
     "output_type": "execute_result"
    }
   ],
   "source": [
    "c = dict(x=10, y=20)\n",
    "c"
   ]
  },
  {
   "cell_type": "code",
   "execution_count": 13,
   "metadata": {
    "ExecuteTime": {
     "end_time": "2022-07-17T16:16:21.131113Z",
     "start_time": "2022-07-17T16:16:21.118110Z"
    }
   },
   "outputs": [
    {
     "data": {
      "text/plain": [
       "dict"
      ]
     },
     "execution_count": 13,
     "metadata": {},
     "output_type": "execute_result"
    }
   ],
   "source": [
    "type(c)"
   ]
  },
  {
   "cell_type": "code",
   "execution_count": 14,
   "metadata": {
    "ExecuteTime": {
     "end_time": "2022-07-17T16:16:21.147108Z",
     "start_time": "2022-07-17T16:16:21.133113Z"
    }
   },
   "outputs": [
    {
     "data": {
      "text/plain": [
       "[0, 1, 2, 3, 4, 5, 6, 7, 8, 9]"
      ]
     },
     "execution_count": 14,
     "metadata": {},
     "output_type": "execute_result"
    }
   ],
   "source": [
    "b = list(range(10))\n",
    "b"
   ]
  },
  {
   "cell_type": "code",
   "execution_count": 15,
   "metadata": {
    "ExecuteTime": {
     "end_time": "2022-07-17T16:16:21.162110Z",
     "start_time": "2022-07-17T16:16:21.149111Z"
    }
   },
   "outputs": [
    {
     "data": {
      "text/plain": [
       "[0, 1, 2, 3, 4, 5, 6, 7, 8, 9, 20]"
      ]
     },
     "execution_count": 15,
     "metadata": {},
     "output_type": "execute_result"
    }
   ],
   "source": [
    "b.append(20)    # 메서드 사용\n",
    "b"
   ]
  },
  {
   "cell_type": "code",
   "execution_count": 16,
   "metadata": {
    "ExecuteTime": {
     "end_time": "2022-07-17T16:16:21.177110Z",
     "start_time": "2022-07-17T16:16:21.164118Z"
    }
   },
   "outputs": [],
   "source": [
    "# 빈 클래스 만들기\n",
    "class Person:\n",
    "    pass"
   ]
  },
  {
   "cell_type": "code",
   "execution_count": 17,
   "metadata": {
    "ExecuteTime": {
     "end_time": "2022-07-17T16:16:21.192109Z",
     "start_time": "2022-07-17T16:16:21.179111Z"
    }
   },
   "outputs": [
    {
     "name": "stdout",
     "output_type": "stream",
     "text": [
      "Hello\n"
     ]
    }
   ],
   "source": [
    "# 클래스 안에서 메서드 호출하기\n",
    "class Person:\n",
    "    def greeting(self):\n",
    "        print('Hello')\n",
    " \n",
    "    def hello(self):\n",
    "        self.greeting()    # self.메서드() 형식으로 클래스 안의 메서드 호출\n",
    "        \n",
    "KK = Person()\n",
    "KK.hello()"
   ]
  },
  {
   "cell_type": "code",
   "execution_count": 18,
   "metadata": {
    "ExecuteTime": {
     "end_time": "2022-07-17T16:16:21.207110Z",
     "start_time": "2022-07-17T16:16:21.194112Z"
    }
   },
   "outputs": [
    {
     "name": "stdout",
     "output_type": "stream",
     "text": [
      "hello!!!\n"
     ]
    }
   ],
   "source": [
    "# 클래스 안에서 메서드 호출하기\n",
    "# self없이 메서드를 호출하면 클래스 바깥쪽에 있는 함수를 호출한다는 뜻\n",
    "def greeting_out():\n",
    "    print('hello!!!')\n",
    "    \n",
    "class Person:\n",
    "    def greeting(self):\n",
    "        print('Hello')\n",
    " \n",
    "    def hello(self):\n",
    "        greeting_out()   \n",
    "        \n",
    "KK = Person()\n",
    "KK.hello()"
   ]
  },
  {
   "cell_type": "code",
   "execution_count": 19,
   "metadata": {
    "ExecuteTime": {
     "end_time": "2022-07-17T16:16:21.222108Z",
     "start_time": "2022-07-17T16:16:21.208111Z"
    }
   },
   "outputs": [
    {
     "data": {
      "text/plain": [
       "True"
      ]
     },
     "execution_count": 19,
     "metadata": {},
     "output_type": "execute_result"
    }
   ],
   "source": [
    "# 인스턴스가 여러개일때 인스턴스가 특정 클래스인지 여부 확인\n",
    "isinstance(KK, Person)"
   ]
  },
  {
   "cell_type": "markdown",
   "metadata": {},
   "source": [
    "## 클래스 속성과 인스턴스 속성\n",
    "\n",
    "```python\n",
    "# 클래스 속성\n",
    "class 클래스이름:\n",
    "    속성 = 값\n",
    "```\n",
    "```python\n",
    "# 인스턴스 속성\n",
    "class 클래스이름:\n",
    "    def __init__(self):\n",
    "        self.속성 = 값\n",
    "```\n",
    "\n",
    "| **클래스 속성** | **인스턴스 속성** |\n",
    "|:---|:---|\n",
    "| 클래스이름.변수 | self.변수 |\n",
    "| 모든 인스턴스에 공유 | 인스턴스별로 별도 저장 |\n",
    "| 모든 인스턴스가 사용해야 하는 경우 사용 | 각 인스턴스가 다른 값을 저장해야할 경우 사용 |\n",
    "\n",
    "- `클래스 속성`은 클래스 내부에 클래스 `속성이름을 직접 사용`하여 생성\n",
    "- 클래스 속성은 인스턴스 속성과 달리 `클래스에 속한 모든 인스턴스에 공유`\n",
    "- `self`는 `사용될 인스턴스`를 가리키는 것으로 `자기 자신`을 의미\n",
    "- `self`를 명시적으로 반영하는 것은 `파이썬만의 독특한 특징`\n",
    "- 클래스 내 정의된 메서드 호출 시, 자동으로 `인스턴스가 매개변수 self에 반영`\n",
    "- `실무`에선 클래스 속성보다 `인스턴스 속성`을 주로 사용"
   ]
  },
  {
   "cell_type": "code",
   "execution_count": 20,
   "metadata": {
    "ExecuteTime": {
     "end_time": "2022-07-17T16:16:21.237110Z",
     "start_time": "2022-07-17T16:16:21.223110Z"
    }
   },
   "outputs": [
    {
     "name": "stdout",
     "output_type": "stream",
     "text": [
      "['책', '열쇠']\n",
      "['책', '열쇠']\n"
     ]
    }
   ],
   "source": [
    "# 사람 클래스 객체 생성\n",
    "# bag 속성 생성\n",
    "# put_bag 메서드 생성\n",
    "class Person:\n",
    "    bag = []\n",
    " \n",
    "    def put_bag(self, stuff):\n",
    "        Person.bag.append(stuff)    # 클래스 속성 사용\n",
    " \n",
    "KK = Person()\n",
    "KK.put_bag('책')\n",
    " \n",
    "YY = Person()\n",
    "YY.put_bag('열쇠')\n",
    " \n",
    "print(KK.bag)\n",
    "print(YY.bag)"
   ]
  },
  {
   "cell_type": "code",
   "execution_count": 21,
   "metadata": {
    "ExecuteTime": {
     "end_time": "2022-07-17T16:16:21.253110Z",
     "start_time": "2022-07-17T16:16:21.238111Z"
    }
   },
   "outputs": [
    {
     "data": {
      "text/plain": [
       "{}"
      ]
     },
     "execution_count": 21,
     "metadata": {},
     "output_type": "execute_result"
    }
   ],
   "source": [
    "# 인스턴스와 객체에서 __dict__ 를 사용해서 속성을 딕셔너리 형태로 확인 가능\n",
    "# 속성, 메서드 이름을 찾을 때 인스턴스>클래스 순으로 탐색\n",
    "KK.__dict__"
   ]
  },
  {
   "cell_type": "code",
   "execution_count": 22,
   "metadata": {
    "ExecuteTime": {
     "end_time": "2022-07-17T16:16:21.268109Z",
     "start_time": "2022-07-17T16:16:21.254110Z"
    }
   },
   "outputs": [
    {
     "data": {
      "text/plain": [
       "mappingproxy({'__module__': '__main__',\n",
       "              'bag': ['책', '열쇠'],\n",
       "              'put_bag': <function __main__.Person.put_bag(self, stuff)>,\n",
       "              '__dict__': <attribute '__dict__' of 'Person' objects>,\n",
       "              '__weakref__': <attribute '__weakref__' of 'Person' objects>,\n",
       "              '__doc__': None})"
      ]
     },
     "execution_count": 22,
     "metadata": {},
     "output_type": "execute_result"
    }
   ],
   "source": [
    "# 인스턴스와 객체에서 __dict__ 를 사용해서 속성을 딕셔너리 형태로 확인 가능\n",
    "Person.__dict__"
   ]
  },
  {
   "cell_type": "code",
   "execution_count": 23,
   "metadata": {
    "ExecuteTime": {
     "end_time": "2022-07-17T16:16:21.283108Z",
     "start_time": "2022-07-17T16:16:21.269111Z"
    }
   },
   "outputs": [
    {
     "name": "stdout",
     "output_type": "stream",
     "text": [
      "['책', '열쇠']\n",
      "['책', '열쇠']\n"
     ]
    }
   ],
   "source": [
    "# 사람 클래스 객체 생성\n",
    "# bag 속성 생성\n",
    "# put_bag 메서드 생성\n",
    "class Person:\n",
    "    bag = []\n",
    " \n",
    "    def put_bag(self, stuff):\n",
    "        self.bag.append(stuff)    # 인스턴스 속성 사용\n",
    " \n",
    "KK = Person()\n",
    "KK.put_bag('책')\n",
    " \n",
    "YY = Person()\n",
    "YY.put_bag('열쇠')\n",
    " \n",
    "print(KK.bag)\n",
    "print(YY.bag)"
   ]
  },
  {
   "cell_type": "code",
   "execution_count": 24,
   "metadata": {
    "ExecuteTime": {
     "end_time": "2022-07-17T16:16:21.298114Z",
     "start_time": "2022-07-17T16:16:21.284111Z"
    }
   },
   "outputs": [
    {
     "data": {
      "text/plain": [
       "{}"
      ]
     },
     "execution_count": 24,
     "metadata": {},
     "output_type": "execute_result"
    }
   ],
   "source": [
    "# 인스턴스와 객체에서 __dict__ 를 사용해서 속성을 딕셔너리 형태로 확인 가능\n",
    "# 속성, 메서드 이름을 찾을 때 인스턴스>클래스 순으로 탐색\n",
    "KK.__dict__"
   ]
  },
  {
   "cell_type": "code",
   "execution_count": 25,
   "metadata": {
    "ExecuteTime": {
     "end_time": "2022-07-17T16:16:21.313109Z",
     "start_time": "2022-07-17T16:16:21.300110Z"
    }
   },
   "outputs": [
    {
     "data": {
      "text/plain": [
       "mappingproxy({'__module__': '__main__',\n",
       "              'bag': ['책', '열쇠'],\n",
       "              'put_bag': <function __main__.Person.put_bag(self, stuff)>,\n",
       "              '__dict__': <attribute '__dict__' of 'Person' objects>,\n",
       "              '__weakref__': <attribute '__weakref__' of 'Person' objects>,\n",
       "              '__doc__': None})"
      ]
     },
     "execution_count": 25,
     "metadata": {},
     "output_type": "execute_result"
    }
   ],
   "source": [
    "# 인스턴스와 객체에서 __dict__ 를 사용해서 속성을 딕셔너리 형태로 확인 가능\n",
    "# 겉보기에는 인스턴스 속성을 사용하는 것 같지만 실제로는 클래스 속성\n",
    "Person.__dict__"
   ]
  },
  {
   "cell_type": "code",
   "execution_count": 26,
   "metadata": {
    "ExecuteTime": {
     "end_time": "2022-07-17T16:16:21.328110Z",
     "start_time": "2022-07-17T16:16:21.314110Z"
    }
   },
   "outputs": [
    {
     "name": "stdout",
     "output_type": "stream",
     "text": [
      "['책']\n",
      "['열쇠']\n"
     ]
    }
   ],
   "source": [
    "# 사람 클래스 객체 생성\n",
    "# self.bag 속성 생성\n",
    "# pub_bag 메서드 생성\n",
    "class Person:\n",
    "    def __init__(self):\n",
    "        self.bag = []    # 인스턴스 속성 생성\n",
    " \n",
    "    def put_bag(self, stuff):    \n",
    "        self.bag.append(stuff)    # 인스턴스 속성 사용\n",
    " \n",
    "KK = Person()\n",
    "KK.put_bag('책')\n",
    " \n",
    "YY = Person()\n",
    "YY.put_bag('열쇠')\n",
    " \n",
    "print(KK.bag)\n",
    "print(YY.bag)"
   ]
  },
  {
   "cell_type": "code",
   "execution_count": 27,
   "metadata": {
    "ExecuteTime": {
     "end_time": "2022-07-17T16:16:21.343110Z",
     "start_time": "2022-07-17T16:16:21.333112Z"
    }
   },
   "outputs": [
    {
     "data": {
      "text/plain": [
       "{'bag': ['책']}"
      ]
     },
     "execution_count": 27,
     "metadata": {},
     "output_type": "execute_result"
    }
   ],
   "source": [
    "# 인스턴스와 객체에서 __dict__ 를 사용해서 속성을 딕셔너리 형태로 확인 가능\n",
    "# 속성, 메서드 이름을 찾을 때 인스턴스>클래스 순으로 탐색\n",
    "KK.__dict__"
   ]
  },
  {
   "cell_type": "code",
   "execution_count": 28,
   "metadata": {
    "ExecuteTime": {
     "end_time": "2022-07-17T16:16:21.358110Z",
     "start_time": "2022-07-17T16:16:21.345111Z"
    }
   },
   "outputs": [
    {
     "data": {
      "text/plain": [
       "mappingproxy({'__module__': '__main__',\n",
       "              '__init__': <function __main__.Person.__init__(self)>,\n",
       "              'put_bag': <function __main__.Person.put_bag(self, stuff)>,\n",
       "              '__dict__': <attribute '__dict__' of 'Person' objects>,\n",
       "              '__weakref__': <attribute '__weakref__' of 'Person' objects>,\n",
       "              '__doc__': None})"
      ]
     },
     "execution_count": 28,
     "metadata": {},
     "output_type": "execute_result"
    }
   ],
   "source": [
    "# 인스턴스와 객체에서 __dict__ 를 사용해서 속성을 딕셔너리 형태로 확인 가능\n",
    "Person.__dict__"
   ]
  },
  {
   "cell_type": "markdown",
   "metadata": {},
   "source": [
    "## 생성자/소멸자와 매직 메서드\n",
    "\n",
    "- **생성자(Constructor):** \n",
    "\n",
    "> - `인스턴스 생성`할때 자동으로 호출되어 실행\n",
    "> - `인스턴스의 초깃값`을 설정해야 할 필요가 있을때 사용\n",
    "> - 인스턴스 생성후 초깃값을 별도 생성하기 보다 `생성자를 구현`하는 것이 `효율적이고 안전한 방법`\n",
    "> - 파이썬에선 생성자가 `__init__` 이라는 이름으로 정의하고 사용\n",
    "> - 생성자 이외에 소멸자 등 이름 앞뒤로 `__ 기호`로 결합된 메서드가 존재하며 총칭하여 `매직메서드/스페셜메서드` 라고도 함\n",
    "\n",
    "```python\n",
    "class 클래스이름:\n",
    "    def __init__(self):\n",
    "        self.속성 = 값\n",
    "```"
   ]
  },
  {
   "cell_type": "code",
   "execution_count": 29,
   "metadata": {
    "ExecuteTime": {
     "end_time": "2022-07-17T16:16:21.373108Z",
     "start_time": "2022-07-17T16:16:21.359111Z"
    }
   },
   "outputs": [
    {
     "name": "stdout",
     "output_type": "stream",
     "text": [
      "['책', '열쇠']\n",
      "['책', '열쇠']\n"
     ]
    }
   ],
   "source": [
    "# 인스턴스 속성을 사용해도 속성 생성이 `클래스 속성`이면 클래스 속성으로 사용됨\n",
    "# 가방을 여러 사람에게 공유하게 됨\n",
    "class Person:\n",
    "    bag = []\n",
    " \n",
    "    def put_bag(self, stuff):    \n",
    "        self.bag.append(stuff)    # 인스턴스 속성 사용\n",
    " \n",
    "KK = Person()\n",
    "KK.put_bag('책')\n",
    " \n",
    "YY = Person()\n",
    "YY.put_bag('열쇠')\n",
    " \n",
    "print(KK.bag)\n",
    "print(YY.bag)"
   ]
  },
  {
   "cell_type": "code",
   "execution_count": 30,
   "metadata": {
    "ExecuteTime": {
     "end_time": "2022-07-17T16:16:21.388110Z",
     "start_time": "2022-07-17T16:16:21.375110Z"
    }
   },
   "outputs": [
    {
     "name": "stdout",
     "output_type": "stream",
     "text": [
      "['책']\n",
      "['열쇠']\n"
     ]
    }
   ],
   "source": [
    "# 가방을 여러 사람에게 공유하지 않으려면 \"인트턴스 속성\" 사용\n",
    "class Person:\n",
    "    def __init__(self):\n",
    "        self.bag = []\n",
    " \n",
    "    def put_bag(self, stuff):\n",
    "        self.bag.append(stuff)\n",
    " \n",
    "KK = Person()\n",
    "KK.put_bag('책')\n",
    " \n",
    "YY = Person()\n",
    "YY.put_bag('열쇠')\n",
    " \n",
    "print(KK.bag)\n",
    "print(YY.bag)"
   ]
  },
  {
   "cell_type": "code",
   "execution_count": 31,
   "metadata": {
    "ExecuteTime": {
     "end_time": "2022-07-17T16:16:21.403109Z",
     "start_time": "2022-07-17T16:16:21.389111Z"
    }
   },
   "outputs": [
    {
     "name": "stdout",
     "output_type": "stream",
     "text": [
      "[]\n",
      "['책']\n",
      "[]\n",
      "['열쇠']\n"
     ]
    }
   ],
   "source": [
    "# 가방을 여러 사람에게 공유하지 않으려면 \"인트턴스 속성\" 사용\n",
    "class Person:\n",
    "    def __init__(self):\n",
    "        self.bag = []\n",
    " \n",
    "    def put_bag(self, stuff):\n",
    "        self.bag.append(stuff)\n",
    " \n",
    "KK = Person()\n",
    "print(KK.bag)\n",
    "KK.put_bag('책')\n",
    "print(KK.bag)\n",
    " \n",
    "YY = Person()\n",
    "print(YY.bag)\n",
    "YY.put_bag('열쇠')\n",
    "print(YY.bag)"
   ]
  },
  {
   "cell_type": "code",
   "execution_count": 32,
   "metadata": {
    "ExecuteTime": {
     "end_time": "2022-07-17T16:16:21.418109Z",
     "start_time": "2022-07-17T16:16:21.405111Z"
    }
   },
   "outputs": [
    {
     "name": "stdout",
     "output_type": "stream",
     "text": [
      "인스턴스 속성이 생성되었습니다. 책의 이름은 희망 대한민국입니다.\n",
      "희망 대한민국\n"
     ]
    }
   ],
   "source": [
    "# 책 클래스 객체 정의\n",
    "class Book: \n",
    "    def __init__(self, bookName): \n",
    "        self.name = bookName \n",
    "        print(\"인스턴스 속성이 생성되었습니다. 책의 이름은 \" + self.name + \"입니다.\")\n",
    "\n",
    "KK = Book('희망 대한민국')    \n",
    "print(KK.name)\n",
    "# 1) 입력받은 bookname 인자를 클래스 내 KK.name으로 초기화\n",
    "# 2) 인스턴스가 생성되었음을 알리면서 입력받은 책의 이름을 출력"
   ]
  },
  {
   "cell_type": "code",
   "execution_count": 33,
   "metadata": {
    "ExecuteTime": {
     "end_time": "2022-07-17T16:16:21.433111Z",
     "start_time": "2022-07-17T16:16:21.419110Z"
    }
   },
   "outputs": [],
   "source": [
    "# 학생 클래스 객체 정의\n",
    "class Student: \n",
    "    def __init__(self, name, age): \n",
    "        self.name = name \n",
    "        self.age = age \n",
    "    def aboutMe(self): \n",
    "        print(\"제 이름은 \" + self.name + \"이며, 제 나이는 \" + str(self.age) + \"살입니다.\")"
   ]
  },
  {
   "cell_type": "code",
   "execution_count": 34,
   "metadata": {
    "ExecuteTime": {
     "end_time": "2022-07-17T16:16:21.448139Z",
     "start_time": "2022-07-17T16:16:21.434110Z"
    }
   },
   "outputs": [],
   "source": [
    "# 인스턴스 생성\n",
    "KK = Student('김경원', 30)"
   ]
  },
  {
   "cell_type": "code",
   "execution_count": 35,
   "metadata": {
    "ExecuteTime": {
     "end_time": "2022-07-17T16:16:21.463110Z",
     "start_time": "2022-07-17T16:16:21.449110Z"
    }
   },
   "outputs": [
    {
     "name": "stdout",
     "output_type": "stream",
     "text": [
      "김경원 30\n"
     ]
    }
   ],
   "source": [
    "# 인스턴스의 이름과 나이 출력\n",
    "print(KK.name, KK.age)"
   ]
  },
  {
   "cell_type": "code",
   "execution_count": 36,
   "metadata": {
    "ExecuteTime": {
     "end_time": "2022-07-17T16:16:21.479112Z",
     "start_time": "2022-07-17T16:16:21.465114Z"
    }
   },
   "outputs": [
    {
     "name": "stdout",
     "output_type": "stream",
     "text": [
      "제 이름은 김경원이며, 제 나이는 30살입니다.\n"
     ]
    }
   ],
   "source": [
    "# 인스턴스의 소개 출력\n",
    "KK.aboutMe()"
   ]
  },
  {
   "cell_type": "markdown",
   "metadata": {},
   "source": [
    "- **소멸자(Destructor):** `객체를 소멸`시킬 때 사용하는 함수로 `종료 작업`에 주로 사용\n",
    "\n",
    "```python\n",
    "class 클래스이름:\n",
    "    ...\n",
    "    def __del__(self):\n",
    "        명령\n",
    "```"
   ]
  },
  {
   "cell_type": "code",
   "execution_count": 37,
   "metadata": {
    "ExecuteTime": {
     "end_time": "2022-07-17T16:16:21.510109Z",
     "start_time": "2022-07-17T16:16:21.499117Z"
    }
   },
   "outputs": [],
   "source": [
    "# 아이스크림 객체 정의\n",
    "class IceCream: \n",
    "    def __init__(self, name, price): \n",
    "        self.name = name \n",
    "        self.price = price \n",
    "        print(self.name + \"의 가격은 \" + str(price) + \"원 입니다.\") \n",
    "    def __del__(self): \n",
    "        print(self.name + \" 객체가 소멸합니다.\")"
   ]
  },
  {
   "cell_type": "code",
   "execution_count": 38,
   "metadata": {
    "ExecuteTime": {
     "end_time": "2022-07-17T16:16:21.525109Z",
     "start_time": "2022-07-17T16:16:21.512112Z"
    }
   },
   "outputs": [
    {
     "name": "stdout",
     "output_type": "stream",
     "text": [
      "세계콘의 가격은 1000원 입니다.\n"
     ]
    }
   ],
   "source": [
    "# 아이스크림 이름과 가격을 반영하여 인스턴스 생성\n",
    "KKK = IceCream('세계콘', 1000)"
   ]
  },
  {
   "cell_type": "code",
   "execution_count": 39,
   "metadata": {
    "ExecuteTime": {
     "end_time": "2022-07-17T16:16:21.540109Z",
     "start_time": "2022-07-17T16:16:21.527111Z"
    }
   },
   "outputs": [
    {
     "name": "stdout",
     "output_type": "stream",
     "text": [
      "세계콘 1000\n"
     ]
    }
   ],
   "source": [
    "# 인스턴스의 이름과 가격 출력\n",
    "print(KKK.name, KKK.price)"
   ]
  },
  {
   "cell_type": "code",
   "execution_count": 40,
   "metadata": {
    "ExecuteTime": {
     "end_time": "2022-07-17T16:16:21.555109Z",
     "start_time": "2022-07-17T16:16:21.541111Z"
    }
   },
   "outputs": [
    {
     "name": "stdout",
     "output_type": "stream",
     "text": [
      "세계콘 객체가 소멸합니다.\n"
     ]
    }
   ],
   "source": [
    "# 인스턴스 삭제\n",
    "del KKK"
   ]
  },
  {
   "cell_type": "markdown",
   "metadata": {},
   "source": [
    "- [**매직 메소드:**](https://docs.python.org/ko/3.7/reference/datamodel.html#special-method-names) 클래스 안에서 정의할 수 있는 `__`로 시작해서 `__`로 끝나는 `특별한 메소드`\n"
   ]
  },
  {
   "cell_type": "markdown",
   "metadata": {},
   "source": [
    "## 인스턴스 속성 사용하기\n",
    "\n",
    "- `__init__` 메서드 안에 `self.속성`에 값을 할당\n",
    "- `__(밑줄2개)`가 붙은 메서드는 인스턴스 생성시 `파이썬이 자동으로 호출`\n",
    "- `self`는 자기 자신을 의미하며 메서드 호출 시, 자동으로 `인스턴스가 매개변수 self에 반영`\n",
    "\n",
    "```python\n",
    "# 속성을 임의 값으로 반영\n",
    "class 클래스이름:\n",
    "    def __init__(self):\n",
    "        self.속성 = 값\n",
    "```\n",
    "\n",
    "```python\n",
    "# 여러개의 속성을 입력 인수로 반영\n",
    "class 클래스이름:\n",
    "    def __init__(self, 매개변수1, 매개변수2):\n",
    "        self.속성1 = 매개변수1\n",
    "        self.속성2 = 매개변수2\n",
    "```"
   ]
  },
  {
   "cell_type": "code",
   "execution_count": 41,
   "metadata": {
    "ExecuteTime": {
     "end_time": "2022-07-17T16:16:21.570110Z",
     "start_time": "2022-07-17T16:16:21.557110Z"
    }
   },
   "outputs": [
    {
     "name": "stdout",
     "output_type": "stream",
     "text": [
      "안녕하세요.\n"
     ]
    }
   ],
   "source": [
    "# 인사하는 사람 클래스 객체 정의 및 생성\n",
    "class Person:\n",
    "    def __init__(self):    # KK = Person()이 생성되면 자동으로 호출되어 실행되고 self = KK\n",
    "        self.hello = '안녕하세요.'\n",
    " \n",
    "    def greeting(self):    # KK.greeting()이 호출되면 self = KK\n",
    "        print(self.hello)\n",
    "        \n",
    "KK = Person()\n",
    "KK.greeting()"
   ]
  },
  {
   "cell_type": "code",
   "execution_count": 42,
   "metadata": {
    "ExecuteTime": {
     "end_time": "2022-07-17T16:16:21.585108Z",
     "start_time": "2022-07-17T16:16:21.571112Z"
    }
   },
   "outputs": [],
   "source": [
    "# 이름, 나이, 주소가 있는 인사하는 사람 클래스 객체 정의 및 생성\n",
    "class Person:\n",
    "    def __init__(self, name, age, address):\n",
    "        self.hello = '안녕하세요.'\n",
    "        self.name = name\n",
    "        self.age = age\n",
    "        self.address = address\n",
    " \n",
    "    def greeting(self):\n",
    "        print('{0} 저는 {1}입니다.'.format(self.hello, self.name))\n",
    "        \n",
    "KK = Person('KK', 30, '서울시 용산구')"
   ]
  },
  {
   "cell_type": "code",
   "execution_count": 43,
   "metadata": {
    "ExecuteTime": {
     "end_time": "2022-07-17T16:16:21.600110Z",
     "start_time": "2022-07-17T16:16:21.586111Z"
    }
   },
   "outputs": [
    {
     "name": "stdout",
     "output_type": "stream",
     "text": [
      "인사: 안녕하세요.\n",
      "이름: KK\n",
      "나이: 30\n",
      "주소: 서울시 용산구\n"
     ]
    }
   ],
   "source": [
    "# KK의 인사, 이름, 나이, 주소 출력\n",
    "print('인사:', KK.hello)    \n",
    "print('이름:', KK.name)      \n",
    "print('나이:', KK.age)       \n",
    "print('주소:', KK.address)   "
   ]
  },
  {
   "cell_type": "code",
   "execution_count": 44,
   "metadata": {
    "ExecuteTime": {
     "end_time": "2022-07-17T16:16:21.615111Z",
     "start_time": "2022-07-17T16:16:21.602110Z"
    }
   },
   "outputs": [
    {
     "name": "stdout",
     "output_type": "stream",
     "text": [
      "안녕하세요. 저는 KK입니다.\n"
     ]
    }
   ],
   "source": [
    "# KK가 인사를 한다\n",
    "KK.greeting()"
   ]
  },
  {
   "cell_type": "code",
   "execution_count": 1,
   "metadata": {
    "ExecuteTime": {
     "end_time": "2022-07-18T05:22:00.108829Z",
     "start_time": "2022-07-18T05:22:00.085799Z"
    }
   },
   "outputs": [
    {
     "data": {
      "text/plain": [
       "'My name is KK'"
      ]
     },
     "execution_count": 1,
     "metadata": {},
     "output_type": "execute_result"
    }
   ],
   "source": [
    "# 클래스 외부에서 속성 추가하기\n",
    "class Person:\n",
    "    pass\n",
    "\n",
    "KK = Person()\n",
    "KK.name = \"My name is KK\"\n",
    "KK.name"
   ]
  },
  {
   "cell_type": "code",
   "execution_count": 3,
   "metadata": {
    "ExecuteTime": {
     "end_time": "2022-07-18T05:22:05.464601Z",
     "start_time": "2022-07-18T05:22:05.018574Z"
    }
   },
   "outputs": [
    {
     "ename": "AttributeError",
     "evalue": "'Person' object has no attribute 'name'",
     "output_type": "error",
     "traceback": [
      "\u001b[1;31m---------------------------------------------------------------------------\u001b[0m",
      "\u001b[1;31mAttributeError\u001b[0m                            Traceback (most recent call last)",
      "Input \u001b[1;32mIn [3]\u001b[0m, in \u001b[0;36m<cell line: 3>\u001b[1;34m()\u001b[0m\n\u001b[0;32m      1\u001b[0m \u001b[38;5;66;03m# __init__ 메서드로 생성된 속성이 아니라 클래스 밖에서 생성된 속성은 해당 인스턴스에만 적용\u001b[39;00m\n\u001b[0;32m      2\u001b[0m You \u001b[38;5;241m=\u001b[39m Person()\n\u001b[1;32m----> 3\u001b[0m \u001b[43mYou\u001b[49m\u001b[38;5;241;43m.\u001b[39;49m\u001b[43mname\u001b[49m\n",
      "\u001b[1;31mAttributeError\u001b[0m: 'Person' object has no attribute 'name'"
     ]
    }
   ],
   "source": [
    "# # __init__ 메서드로 생성된 속성이 아니라 클래스 밖에서 생성된 속성은 해당 인스턴스에만 적용\n",
    "# You = Person()\n",
    "# You.name"
   ]
  },
  {
   "cell_type": "code",
   "execution_count": 4,
   "metadata": {
    "ExecuteTime": {
     "end_time": "2022-07-18T05:23:35.454587Z",
     "start_time": "2022-07-18T05:23:35.426587Z"
    }
   },
   "outputs": [
    {
     "ename": "AttributeError",
     "evalue": "'Person' object has no attribute 'hello'",
     "output_type": "error",
     "traceback": [
      "\u001b[1;31m---------------------------------------------------------------------------\u001b[0m",
      "\u001b[1;31mAttributeError\u001b[0m                            Traceback (most recent call last)",
      "Input \u001b[1;32mIn [4]\u001b[0m, in \u001b[0;36m<cell line: 7>\u001b[1;34m()\u001b[0m\n\u001b[0;32m      4\u001b[0m         \u001b[38;5;28mself\u001b[39m\u001b[38;5;241m.\u001b[39mhello \u001b[38;5;241m=\u001b[39m \u001b[38;5;124m'\u001b[39m\u001b[38;5;124m안녕하세요\u001b[39m\u001b[38;5;124m'\u001b[39m    \u001b[38;5;66;03m# greeting 메서드에서 hello 속성 추가\u001b[39;00m\n\u001b[0;32m      6\u001b[0m KK \u001b[38;5;241m=\u001b[39m Person()\n\u001b[1;32m----> 7\u001b[0m \u001b[43mKK\u001b[49m\u001b[38;5;241;43m.\u001b[39;49m\u001b[43mhello\u001b[49m\n",
      "\u001b[1;31mAttributeError\u001b[0m: 'Person' object has no attribute 'hello'"
     ]
    }
   ],
   "source": [
    "# # __init__ 메서드 외 다른 메서드에서 속성 추가 가능\n",
    "# class Person:\n",
    "#     def greeting(self):\n",
    "#         self.hello = '안녕하세요'    # greeting 메서드에서 hello 속성 추가\n",
    "        \n",
    "# KK = Person()\n",
    "# KK.hello"
   ]
  },
  {
   "cell_type": "code",
   "execution_count": 48,
   "metadata": {
    "ExecuteTime": {
     "end_time": "2022-07-17T16:16:21.676109Z",
     "start_time": "2022-07-17T16:16:21.663112Z"
    }
   },
   "outputs": [
    {
     "data": {
      "text/plain": [
       "'안녕하세요'"
      ]
     },
     "execution_count": 48,
     "metadata": {},
     "output_type": "execute_result"
    }
   ],
   "source": [
    "# __init__ 메서드 외 다른 메서드에서 속성 추가 가능\n",
    "# 다른 메서드를 실행하고 나서야 속성 사용 가능\n",
    "class Person:\n",
    "    def greeting(self):\n",
    "        self.hello = '안녕하세요'    # greeting 메서드에서 hello 속성 추가\n",
    "        \n",
    "KK = Person()\n",
    "KK.greeting()\n",
    "KK.hello"
   ]
  },
  {
   "cell_type": "markdown",
   "metadata": {},
   "source": [
    "- 클래스 외부에서 무분별한 속성 생성을 막기 위해, `__slots__`에 허용할 `문자열 속성 이름`을 리스트로 반영\n",
    "\n",
    "```python\n",
    "__slots__ = ['속성이름1', '속성이름2', ...]\n",
    "```"
   ]
  },
  {
   "cell_type": "code",
   "execution_count": 6,
   "metadata": {
    "ExecuteTime": {
     "end_time": "2022-07-18T05:27:58.450484Z",
     "start_time": "2022-07-18T05:27:58.387477Z"
    }
   },
   "outputs": [
    {
     "ename": "AttributeError",
     "evalue": "'Person' object has no attribute 'address'",
     "output_type": "error",
     "traceback": [
      "\u001b[1;31m---------------------------------------------------------------------------\u001b[0m",
      "\u001b[1;31mAttributeError\u001b[0m                            Traceback (most recent call last)",
      "Input \u001b[1;32mIn [6]\u001b[0m, in \u001b[0;36m<cell line: 8>\u001b[1;34m()\u001b[0m\n\u001b[0;32m      6\u001b[0m KK\u001b[38;5;241m.\u001b[39mname \u001b[38;5;241m=\u001b[39m \u001b[38;5;124m\"\u001b[39m\u001b[38;5;124mKyungwon Kim\u001b[39m\u001b[38;5;124m\"\u001b[39m\n\u001b[0;32m      7\u001b[0m KK\u001b[38;5;241m.\u001b[39mage \u001b[38;5;241m=\u001b[39m \u001b[38;5;241m30\u001b[39m\n\u001b[1;32m----> 8\u001b[0m KK\u001b[38;5;241m.\u001b[39maddress \u001b[38;5;241m=\u001b[39m \u001b[38;5;124m\"\u001b[39m\u001b[38;5;124m써어울!\u001b[39m\u001b[38;5;124m\"\u001b[39m\n",
      "\u001b[1;31mAttributeError\u001b[0m: 'Person' object has no attribute 'address'"
     ]
    }
   ],
   "source": [
    "# 제한된 속성만 가진 사람 클래스 객체 정의 및 생성\n",
    "class Person:\n",
    "    __slots__ = ['name', 'age']    # name, age만 허용(다른 속성은 생성 제한)\n",
    "    \n",
    "KK = Person()\n",
    "KK.name = \"Kyungwon Kim\"\n",
    "KK.age = 30\n",
    "KK.address = \"써어울!\""
   ]
  },
  {
   "cell_type": "markdown",
   "metadata": {},
   "source": [
    "## 위치 인수와 키워드 인수"
   ]
  },
  {
   "cell_type": "code",
   "execution_count": 50,
   "metadata": {
    "ExecuteTime": {
     "end_time": "2022-07-17T16:16:21.706110Z",
     "start_time": "2022-07-17T16:16:21.692111Z"
    }
   },
   "outputs": [],
   "source": [
    "# 위치인수와 키워드인수 기반으로,\n",
    "# 마치 아규먼트 언패킹과 딕셔너리 언패킹 방식처럼,\n",
    "# 여러개의 값을 가진 시퀀스를 인수로 받아 속성을 생성하는 사람 클래스 객체 생성\n",
    "class Person:\n",
    "    def __init__(self, *args):    # 위치 인수\n",
    "        self.name = args[0]\n",
    "        self.age = args[1]\n",
    "        self.address = args[2]\n",
    " \n",
    "KK = Person(*['KKK', 20, '서울시'])"
   ]
  },
  {
   "cell_type": "code",
   "execution_count": 51,
   "metadata": {
    "ExecuteTime": {
     "end_time": "2022-07-17T16:16:21.721140Z",
     "start_time": "2022-07-17T16:16:21.707110Z"
    }
   },
   "outputs": [
    {
     "name": "stdout",
     "output_type": "stream",
     "text": [
      "KKK 20 서울시\n"
     ]
    }
   ],
   "source": [
    "# 생성된 인스턴스의 이름 나이 주소 출력\n",
    "print(KK.name, KK.age, KK.address)"
   ]
  },
  {
   "cell_type": "code",
   "execution_count": 52,
   "metadata": {
    "ExecuteTime": {
     "end_time": "2022-07-17T16:16:21.736140Z",
     "start_time": "2022-07-17T16:16:21.722110Z"
    }
   },
   "outputs": [],
   "source": [
    "# 여러개의 키워드 값을 가진 시퀀스를 인수로 받아 속성을 생성하는 사람 클래스 객체 생성\n",
    "class Person:\n",
    "    def __init__(self, **kwargs):    # 키워드 인수\n",
    "        self.name = kwargs['name']    # 매개변수에서 값을 가져올때 dict[key] 형식으로 로딩\n",
    "        self.age = kwargs['age']\n",
    "        self.address = kwargs['address']"
   ]
  },
  {
   "cell_type": "code",
   "execution_count": 53,
   "metadata": {
    "ExecuteTime": {
     "end_time": "2022-07-17T16:16:21.751140Z",
     "start_time": "2022-07-17T16:16:21.737112Z"
    }
   },
   "outputs": [],
   "source": [
    "# 생성된 인스턴스의 이름 나이 주소 입력\n",
    "KK = Person(name='KKKK', age='10', address='서울서울서울')"
   ]
  },
  {
   "cell_type": "code",
   "execution_count": 54,
   "metadata": {
    "ExecuteTime": {
     "end_time": "2022-07-17T16:16:21.766134Z",
     "start_time": "2022-07-17T16:16:21.752110Z"
    }
   },
   "outputs": [
    {
     "name": "stdout",
     "output_type": "stream",
     "text": [
      "KKKK 10 서울서울서울\n"
     ]
    }
   ],
   "source": [
    "# 생성된 인스턴스의 이름 나이 주소 출력\n",
    "print(KK.name, KK.age, KK.address)"
   ]
  },
  {
   "cell_type": "code",
   "execution_count": 55,
   "metadata": {
    "ExecuteTime": {
     "end_time": "2022-07-17T16:16:21.781140Z",
     "start_time": "2022-07-17T16:16:21.770115Z"
    }
   },
   "outputs": [],
   "source": [
    "# 생성된 인스턴스의 이름 나이 주소를 딕셔너리 형태로 입력\n",
    "KK = Person(**{'name': 'K', 'age': 15, 'address': '서~~~울'})"
   ]
  },
  {
   "cell_type": "code",
   "execution_count": 56,
   "metadata": {
    "ExecuteTime": {
     "end_time": "2022-07-17T16:16:21.796137Z",
     "start_time": "2022-07-17T16:16:21.782111Z"
    }
   },
   "outputs": [
    {
     "name": "stdout",
     "output_type": "stream",
     "text": [
      "K 15 서~~~울\n"
     ]
    }
   ],
   "source": [
    "# 생성된 인스턴스의 이름 나이 주소 출력\n",
    "print(KK.name, KK.age, KK.address)"
   ]
  },
  {
   "cell_type": "markdown",
   "metadata": {},
   "source": [
    "## 비공개 인스턴스/클래스/메서드 속성\n",
    "\n",
    "- **공개 속성(Public Attribute):** `클래스 밖에서 접근`할 수 있는 속성\n",
    "- **비공개 속성(Private Attribute):** `클래스 안에서만 접근`할 수 있는 속성\n",
    "> - 중요한 값이라서 클래스 밖에서 `쉽게 바뀌면 안되는 속성`일 때 주로 사용\n",
    "> - 시작은 __(밑줄2개)이지만, `끝은 __(밑줄2개)가 아니어야 함`\n",
    "> - 비공개 `속성의 사용/변경`은 클래스의 `메서드에서만 가능`\n",
    "\n",
    "```python\n",
    "class 클래스이름:\n",
    "    def __init__(self, 매개변수)\n",
    "        self.__속성 = 값\n",
    "```"
   ]
  },
  {
   "cell_type": "code",
   "execution_count": 7,
   "metadata": {
    "ExecuteTime": {
     "end_time": "2022-07-18T06:12:48.173507Z",
     "start_time": "2022-07-18T06:12:48.160507Z"
    }
   },
   "outputs": [],
   "source": [
    "# 이름 나이 주소 지갑을 가진 사람 객체 정의 및 인스턴스 생성\n",
    "# 지갑은 비공개 속성으로 생성\n",
    "class Person:\n",
    "    def __init__(self, name, age, address, wallet):\n",
    "        self.name = name\n",
    "        self.age = age\n",
    "        self.address = address\n",
    "        self.__wallet = wallet    # 변수 앞에 __를 붙여서 `비공개 속성`으로 만듦\n",
    "        \n",
    "KK = Person('KWK', 30, '서~~~울', 10000)"
   ]
  },
  {
   "cell_type": "code",
   "execution_count": 58,
   "metadata": {
    "ExecuteTime": {
     "end_time": "2022-07-17T16:16:21.826111Z",
     "start_time": "2022-07-17T16:16:21.812111Z"
    }
   },
   "outputs": [],
   "source": [
    "# 비공개 속성은 외부에서 호출 및 사용 불가\n",
    "# KK.__wallet"
   ]
  },
  {
   "cell_type": "code",
   "execution_count": 13,
   "metadata": {
    "ExecuteTime": {
     "end_time": "2022-07-18T06:15:10.399575Z",
     "start_time": "2022-07-18T06:15:10.386609Z"
    }
   },
   "outputs": [],
   "source": [
    "# 비공개 속성은 마치 지역변수처럼 클래스 내부 메서드에서만 사용 가능\n",
    "class Person:\n",
    "    def __init__(self, name, age, address, wallet):\n",
    "        self.name = name\n",
    "        self.age = age\n",
    "        self.address = address\n",
    "        self.__wallet = wallet   \n",
    " \n",
    "    def pay(self, amount):\n",
    "        self.__wallet = self.__wallet - amount   # 비공개 속성의 사용\n",
    "        print('이제 {0}원 남았네요.'.format(self.__wallet))"
   ]
  },
  {
   "cell_type": "code",
   "execution_count": 14,
   "metadata": {
    "ExecuteTime": {
     "end_time": "2022-07-18T06:15:23.734333Z",
     "start_time": "2022-07-18T06:15:23.720303Z"
    }
   },
   "outputs": [
    {
     "name": "stdout",
     "output_type": "stream",
     "text": [
      "이제 9000원 남았네요.\n"
     ]
    }
   ],
   "source": [
    "# 인스턴스의 메서드를 사용하여 비공개 속성 출력 가능\n",
    "# KK 인스턴스 생성 및 1000원 지불 후 상태 출력\n",
    "KK = Person('KWK', 30, '서~~~울', 10000)\n",
    "KK.pay(1000)"
   ]
  },
  {
   "cell_type": "markdown",
   "metadata": {},
   "source": [
    "- `비공개 클래스 속성`도 사용 가능\n",
    "> - 마찬가지로 클래스 `외부로 드러내고 싶지 않은 값`에 사용\n",
    "> - 시작은 __(밑줄2개)이지만, `끝은 __(밑줄2개)가 아니어야 함`\n",
    "> - 비공개 `속성의 사용/변경`은 클래스의 `메서드에서만 가능`\n",
    "\n",
    "```python\n",
    "class 클래스이름:\n",
    "    __속성 = 값   \n",
    "```"
   ]
  },
  {
   "cell_type": "code",
   "execution_count": 15,
   "metadata": {
    "ExecuteTime": {
     "end_time": "2022-07-18T06:17:52.371696Z",
     "start_time": "2022-07-18T06:17:52.352665Z"
    }
   },
   "outputs": [],
   "source": [
    "# 보유 아이템 리스트를 출력하는 기사 클래스 객체 정의\n",
    "class Knight:\n",
    "    __item_limit = 10    # 비공개 클래스 속성\n",
    " \n",
    "    def print_item_limit(self):\n",
    "        print(Knight.__item_limit)    # 클래스 안에서만 접근할 수 있음"
   ]
  },
  {
   "cell_type": "code",
   "execution_count": 62,
   "metadata": {
    "ExecuteTime": {
     "end_time": "2022-07-17T16:16:21.886110Z",
     "start_time": "2022-07-17T16:16:21.872110Z"
    }
   },
   "outputs": [],
   "source": [
    "# 비공개 속성은 외부에서 호출 및 사용 불가\n",
    "# print(Knight.__item_limit)"
   ]
  },
  {
   "cell_type": "code",
   "execution_count": 63,
   "metadata": {
    "ExecuteTime": {
     "end_time": "2022-07-17T16:16:21.901117Z",
     "start_time": "2022-07-17T16:16:21.888113Z"
    }
   },
   "outputs": [
    {
     "name": "stdout",
     "output_type": "stream",
     "text": [
      "10\n"
     ]
    }
   ],
   "source": [
    "# 기사 인스턴스의 메서드를 사용하여 비공개 클래스 속성 출력 가능\n",
    "KK = Knight()\n",
    "KK.print_item_limit()"
   ]
  },
  {
   "cell_type": "markdown",
   "metadata": {},
   "source": [
    "- `비공개 메서드`도 메서드를 클래스 `외부로 드러내고 싶지 않을 때` 사용\n",
    "- `내부에서만 사용되어야 하는 메서드`를 비공개 메서드로 작성\n",
    "- 속성 외에 메서드도 이름이 `__(밑줄2개)로 시작`하면 비공개 메서드"
   ]
  },
  {
   "cell_type": "code",
   "execution_count": 18,
   "metadata": {
    "ExecuteTime": {
     "end_time": "2022-07-18T06:20:38.402108Z",
     "start_time": "2022-07-18T06:20:38.383077Z"
    }
   },
   "outputs": [
    {
     "ename": "AttributeError",
     "evalue": "'Person' object has no attribute '__greeting'",
     "output_type": "error",
     "traceback": [
      "\u001b[1;31m---------------------------------------------------------------------------\u001b[0m",
      "\u001b[1;31mAttributeError\u001b[0m                            Traceback (most recent call last)",
      "Input \u001b[1;32mIn [18]\u001b[0m, in \u001b[0;36m<cell line: 11>\u001b[1;34m()\u001b[0m\n\u001b[0;32m      8\u001b[0m         \u001b[38;5;28mself\u001b[39m\u001b[38;5;241m.\u001b[39m__greeting()    \u001b[38;5;66;03m# 클래스 안에서는 비공개 메서드를 호출할 수 있음\u001b[39;00m\n\u001b[0;32m     10\u001b[0m KK \u001b[38;5;241m=\u001b[39m Person()\n\u001b[1;32m---> 11\u001b[0m \u001b[43mKK\u001b[49m\u001b[38;5;241;43m.\u001b[39;49m\u001b[43m__greeting\u001b[49m()\n",
      "\u001b[1;31mAttributeError\u001b[0m: 'Person' object has no attribute '__greeting'"
     ]
    }
   ],
   "source": [
    "# # 인사하는 사람 객체 정의 및 인스턴스 생성\n",
    "# # 인스턴스의 비공개 메서드 호출하면?\n",
    "# class Person:\n",
    "#     def __greeting(self):\n",
    "#         print('Hello')\n",
    " \n",
    "#     def hello(self):\n",
    "#         self.__greeting()    # 클래스 안에서는 비공개 메서드를 호출할 수 있음\n",
    "        \n",
    "# KK = Person()\n",
    "# KK.__greeting()"
   ]
  },
  {
   "cell_type": "code",
   "execution_count": 19,
   "metadata": {
    "ExecuteTime": {
     "end_time": "2022-07-18T06:21:53.574071Z",
     "start_time": "2022-07-18T06:21:53.557041Z"
    }
   },
   "outputs": [
    {
     "name": "stdout",
     "output_type": "stream",
     "text": [
      "Hello\n"
     ]
    }
   ],
   "source": [
    "# 인사하는 사람 객체 정의 및 인스턴스 생성\n",
    "# 인스턴스의 메서드를 통해 비공개 메서드 호출 가능\n",
    "class Person:\n",
    "    def __greeting(self):\n",
    "        print('Hello')\n",
    " \n",
    "    def hello(self):\n",
    "        self.__greeting()    # 클래스 안에서는 비공개 메서드를 호출할 수 있음\n",
    "        \n",
    "KK = Person()\n",
    "KK.hello()"
   ]
  },
  {
   "cell_type": "markdown",
   "metadata": {},
   "source": [
    "- **Question:** (1) 아래와 같은 능력을 가진 `KK라는 이름의 게임 캐릭터를 생성`한 후, (2) 보유하고 있는 `능력치를 출력`하고, (3) 베기기능을 실행했을 때 `\"베기를 실행합니다\"`라는 문자가 출력되는 클래스를 만드시오\n",
    "\n",
    "```python\n",
    "# 클래스 생성\n",
    "\n",
    "\n",
    "# 인스턴스 생성 및 속성과 기능 출력\n",
    "KK = Knight(health=542.4, mana=210.3, armor=38)    # (1) 능력을 가진 KK라는 이름의 게임 캐릭터를 생성\n",
    "print(KK.health, KK.mana, KK.armor)    # (2) 보유하고 있는 능력치 확인\n",
    "                                       # 능력치 출력\n",
    "KK.slash()    # (3) 베기기능을 실행\n",
    "              # \"베기를 실행합니다\" 출력\n",
    "```"
   ]
  },
  {
   "cell_type": "code",
   "execution_count": null,
   "metadata": {
    "ExecuteTime": {
     "end_time": "2021-10-04T12:08:21.954768Z",
     "start_time": "2021-10-04T12:08:21.947812Z"
    }
   },
   "outputs": [],
   "source": []
  },
  {
   "cell_type": "markdown",
   "metadata": {},
   "source": [
    "## 클래스와 메서드의 독스트링\n",
    "\n",
    "- 함수와 마찬가지로 `클래스와 메서드도 독스트링을 사용` 가능\n",
    "- 클래스와 메서드를 만들 때 `다음줄에 들여쓰기` 후 `\"\"\" \"\"\"(큰따옴표 세 개)` 또는 `''' '''(작은따옴표 세 개)`로 독스트링을 입력\n",
    "- 클래스의 독스트링 `출력`은 `클래스.__doc__` 으로 가능\n",
    "- 메서드의 독스트링 `출력`은 `클래스.메서드.__doc__` 또는 `인스턴스.메서드.__doc__`으로 가능"
   ]
  },
  {
   "cell_type": "code",
   "execution_count": 66,
   "metadata": {
    "ExecuteTime": {
     "end_time": "2022-07-17T16:16:21.947110Z",
     "start_time": "2022-07-17T16:16:21.933110Z"
    }
   },
   "outputs": [],
   "source": [
    "# 인사기능을 가진 사람 클래스 객체 정의\n",
    "class Person:\n",
    "    '''사람 클래스입니다.'''\n",
    "    \n",
    "    def greeting(self):\n",
    "        '''인사 메서드입니다.'''\n",
    "        print('Hello')\n",
    " "
   ]
  },
  {
   "cell_type": "code",
   "execution_count": 67,
   "metadata": {
    "ExecuteTime": {
     "end_time": "2022-07-17T16:16:21.962110Z",
     "start_time": "2022-07-17T16:16:21.948110Z"
    }
   },
   "outputs": [
    {
     "name": "stdout",
     "output_type": "stream",
     "text": [
      "사람 클래스입니다.\n"
     ]
    }
   ],
   "source": [
    "# 클래스 독스트링 출력\n",
    "print(Person.__doc__) "
   ]
  },
  {
   "cell_type": "code",
   "execution_count": 68,
   "metadata": {
    "ExecuteTime": {
     "end_time": "2022-07-17T16:16:21.977110Z",
     "start_time": "2022-07-17T16:16:21.964111Z"
    }
   },
   "outputs": [
    {
     "name": "stdout",
     "output_type": "stream",
     "text": [
      "인사 메서드입니다.\n"
     ]
    }
   ],
   "source": [
    "# 메서드 독스트링 출력\n",
    "print(Person.greeting.__doc__)     "
   ]
  },
  {
   "cell_type": "code",
   "execution_count": 69,
   "metadata": {
    "ExecuteTime": {
     "end_time": "2022-07-17T16:16:21.992108Z",
     "start_time": "2022-07-17T16:16:21.979111Z"
    }
   },
   "outputs": [
    {
     "name": "stdout",
     "output_type": "stream",
     "text": [
      "사람 클래스입니다.\n"
     ]
    }
   ],
   "source": [
    "# 인스턴스를 사용하여 클래스 독스트링 출력\n",
    "KK = Person()\n",
    "print(KK.__doc__)   "
   ]
  },
  {
   "cell_type": "code",
   "execution_count": 70,
   "metadata": {
    "ExecuteTime": {
     "end_time": "2022-07-17T16:16:22.007110Z",
     "start_time": "2022-07-17T16:16:21.993111Z"
    }
   },
   "outputs": [
    {
     "name": "stdout",
     "output_type": "stream",
     "text": [
      "인사 메서드입니다.\n"
     ]
    }
   ],
   "source": [
    "# 인스턴스를 사용하여 메서드 독스트링 출력\n",
    "KK = Person()\n",
    "print(KK.greeting.__doc__)   "
   ]
  },
  {
   "cell_type": "markdown",
   "metadata": {},
   "source": [
    "## **예시:** 데이터분석 플랫폼 로봇 구축"
   ]
  },
  {
   "cell_type": "code",
   "execution_count": 71,
   "metadata": {
    "ExecuteTime": {
     "end_time": "2022-07-17T16:16:22.022109Z",
     "start_time": "2022-07-17T16:16:22.008111Z"
    }
   },
   "outputs": [],
   "source": [
    "# 예측문제 해결 플랫폼 구축\n",
    "class Prediction_Sales:\n",
    "    # 대상 제품 설정\n",
    "    def __init__(self, target_product, target_year):\n",
    "        self.pred_prod = target_product\n",
    "        self.pred_year = target_year\n",
    "    \n",
    "    # 데이터 로딩\n",
    "    def data_loading(self):\n",
    "        df = pd.read_csv('file_name.csv')\n",
    "        \n",
    "    # 데이터 전처리\n",
    "    def data_preprocessing(self):\n",
    "        train = df[df.year != self.pred_year]\n",
    "        test = df[df.year == self.pred_year]\n",
    "        self.Y_train = train[self.pred_prod]\n",
    "        self.X_train = train[[i for i in train.columns if i not in self.Y_train.columns]]\n",
    "        self.Y_test = test[self.pred_prod]\n",
    "        self.X_test = test[[i for i in test.columns if i not in self.Y_test.columns]]\n",
    "        \n",
    "    # 모델링\n",
    "    def modeling_sales(self):\n",
    "        self.model = sm.OLS(self.Y_train, self.X_train).fit()\n",
    "        self.Y_trpred = self.model.predict(self.X_train)\n",
    "        self.Y_tepred = self.model.predict(self.X_test)\n",
    "        \n",
    "    # 성능검증\n",
    "    def evaluation(self):\n",
    "        self.mse_train = mean_squared_error(Y_train, Y_trpred)\n",
    "        self.mse_test = mean_squared_error(Y_test, Y_tepred)    \n",
    "        \n",
    "    # 실제예측\n",
    "    def forecasting(self, X):\n",
    "        self.Y_pred = self.model.predict(X)"
   ]
  },
  {
   "cell_type": "markdown",
   "metadata": {},
   "source": [
    "```python\n",
    "# 매출 예측 플랫폼 인스턴스 생성\n",
    "pred_robot = Prediction_Sales('Prod_A', '2030')\n",
    "\n",
    "# 데이터 분석\n",
    "pred_robot.data_loading()\n",
    "pred_robot.data_preprocessing()\n",
    "pred_robot.modeling_sales()\n",
    "pred_robot.evaluation()\n",
    "\n",
    "# 성능확인 및 예측\n",
    "print(pred_robot.mse_train, pred_robot.mse_test)\n",
    "pred_robot.forecasting(X=[20, 40, 10, 2, 80])\n",
    "print(pred_robot.Y_pred)    # 200\n",
    "```"
   ]
  },
  {
   "cell_type": "markdown",
   "metadata": {},
   "source": [
    "# **파이썬클래스 활용**\n",
    "\n",
    "---\n",
    "\n",
    "- **\"사회적 유사형태 비교\"** \n",
    "> - **기업들도 결국 함수를 정교하게 고도화시켜 플랫폼 비즈니스를 하고 수익을 극대화** \n",
    "\n",
    "| **Python <br>구성** | **일반적사회 <br>구성** | **비즈니스 <br>구성** | **Data Science <br>구성** |\n",
    "|:---:|:---:|:---:|:---:|\n",
    "| **Library** | - | - | C Library, Java Library, R Library, Python Library.. |\n",
    "| **Package** | 정치, 경제, 교육, 금융, 사회, 복지, 대한민국, 미국, 중국.. | 사업부1, 사업부2, 인재개발원, 연구소.. | Google Analytics, AWS Analytics, Tableau, SAP Reports, SAS BI, Microsoft   BI, IBM Cognos.. |\n",
    "| **Module** | 청와대, 대학교, 기업, 어린이집.. | 인사팀, 재무팀, 개발팀, 영업팀, 마케팅팀, 고객관리팀.. | 구매자예측플랫폼, 가격예측플랫폼, 고객관리플랫폼, 재고최소화플랫폼.. |\n",
    "| **Class** | 대통령, 정치인, 교수, 직장인, 사업가, 학생, 아기, 강아지, 고양이.. | 사원, 대리, 과장, 차장, 부장, 임원.. | 마케팅구매자예측, 광고가격예측, 고객불만예측, 재고율낮추기.. |\n",
    "| **Function** | ex1) 교수: 수업하기, 연구하기, 졸기..<br>ex2) 학생: 수업듣기, 졸기..  | 대화하기, 차마시기, 컴퓨터설치하기, 다른사람만나기, 문서작성하기, 사원증만들기, 배달하기, 주문하기, 자리정리하기, 청소하기.. | 데이터수집, 문제정의, 해결대안협의, 데이터입력, 데이터전처리, 알고리즘적용, 비즈니스검증기획.. |"
   ]
  },
  {
   "cell_type": "markdown",
   "metadata": {},
   "source": [
    "## 클래스 메서드 상속하기(is-a)\n",
    "\n",
    "> **\"우리의 `상속이란` 일정한 친족적 관계가 있는 사람 사이에 한 쪽이 사망하는 `법률상 원인이 발생하였을 때 재산적 또는 친족적 권리와 의무를 계승`하는 제도\"**\n",
    ">\n",
    "> - 파이썬에도 `물려받은 기능을 유지`하거나 또는 `유지 및 다른 기능을 추가`할 때 상속기능을 사용\n",
    "> - **기반클래스(Base Class):** 기능을 물려주는 클래스로 `부모클래스/슈퍼클래스` 라고도 함\n",
    "> - **파생클래스(Derived Class):** `상속을 받아 새롭게 만드는 클래스`로 `자식클래스/서브클래스` 라고도 함\n",
    ">> - 부모 클래스를 변경/추가해서 사용해도 되지만, `부모클래스가 라이브러리 자체이거나 수정이 어려운 경우` 존재\n",
    ">> - 만약 `자식 클래스`를 부모의 기능을 포함시켜 `새로 만들면 중복되는 기능이기에 비효율적`\n",
    ">> - `같은 종류`이면서 `동등한 관계`일 때 상속 사용\n",
    ">> - 상속관계는 `is-a 관계`라고도 함 (Student `is a` Person)\n",
    "\n",
    "```python\n",
    "class 기반클래스이름:    # 부모클래스\n",
    "    명령\n",
    "    \n",
    "class 파생클래스이름(기반플래스이름):    # 자식클래스\n",
    "    명령\n",
    "```"
   ]
  },
  {
   "cell_type": "code",
   "execution_count": 72,
   "metadata": {
    "ExecuteTime": {
     "end_time": "2022-07-17T16:16:22.037112Z",
     "start_time": "2022-07-17T16:16:22.024112Z"
    }
   },
   "outputs": [],
   "source": [
    "# 사람 및 학생 클래스 객체 정의\n",
    "class Person:\n",
    "    def greeting(self):\n",
    "        print('안녕하세요.')\n",
    " \n",
    "class Student(Person):\n",
    "    def study(self):\n",
    "        print('공부하기')"
   ]
  },
  {
   "cell_type": "code",
   "execution_count": 73,
   "metadata": {
    "ExecuteTime": {
     "end_time": "2022-07-17T16:16:22.053109Z",
     "start_time": "2022-07-17T16:16:22.040112Z"
    }
   },
   "outputs": [
    {
     "name": "stdout",
     "output_type": "stream",
     "text": [
      "안녕하세요.\n"
     ]
    }
   ],
   "source": [
    "# 학생 인스턴스를 생성하지만 사람의 기능을 상속받음        \n",
    "KK = Student()\n",
    "KK.greeting()    # 부모클래스 메서드 사용 가능"
   ]
  },
  {
   "cell_type": "code",
   "execution_count": 74,
   "metadata": {
    "ExecuteTime": {
     "end_time": "2022-07-17T16:16:22.068110Z",
     "start_time": "2022-07-17T16:16:22.055111Z"
    }
   },
   "outputs": [
    {
     "name": "stdout",
     "output_type": "stream",
     "text": [
      "공부하기\n"
     ]
    }
   ],
   "source": [
    "# 자식클래스 메서드도 당연히 사용 가능\n",
    "KK.study() "
   ]
  },
  {
   "cell_type": "code",
   "execution_count": 75,
   "metadata": {
    "ExecuteTime": {
     "end_time": "2022-07-17T16:16:22.083110Z",
     "start_time": "2022-07-17T16:16:22.070112Z"
    }
   },
   "outputs": [
    {
     "data": {
      "text/plain": [
       "True"
      ]
     },
     "execution_count": 75,
     "metadata": {},
     "output_type": "execute_result"
    }
   ],
   "source": [
    "# issubclass 함수는 2개의 클래스가 부모와 자식클래스 관계인지 확인\n",
    "issubclass(Student, Person)"
   ]
  },
  {
   "cell_type": "markdown",
   "metadata": {},
   "source": [
    "- **Question:** (1) Person 클래스를 `상속`받은 회사원 클래스를 생성하며, (2) 직장에서의 목표가 `딴짓 적당히 하면서 일하기`를 출력하는 `기능(함수)을 포함`시키고, (3) 회사원 로봇(인스턴스)를 만들어 `인사하는 기능`과 `직장의 목표를 출력`하시오"
   ]
  },
  {
   "cell_type": "code",
   "execution_count": null,
   "metadata": {},
   "outputs": [],
   "source": []
  },
  {
   "cell_type": "markdown",
   "metadata": {},
   "source": [
    "## 클래스 메서드 포함하기(has-a)\n",
    "\n",
    "> - 클래스들이 동등한 관계가 아니라 `포함관계`일때 사용\n",
    "> - 포함관계는 `has-a 관계`라고도 함(Community `has a` Person)\n"
   ]
  },
  {
   "cell_type": "code",
   "execution_count": 76,
   "metadata": {
    "ExecuteTime": {
     "end_time": "2022-07-17T16:16:22.098114Z",
     "start_time": "2022-07-17T16:16:22.085111Z"
    }
   },
   "outputs": [],
   "source": [
    "# 사람과 사람들이 공존하는 커뮤니티 클래스 객체 정의\n",
    "class Community:\n",
    "    def __init__(self):\n",
    "        self.community_space = []    # Community 속성에 Person 인스턴스를 넣을 공간 생성\n",
    " \n",
    "    def append_someone(self, someone):    # Community 속성에 Person 인스턴스를 추가하는 메서드\n",
    "        self.community_space.append(someone)\n",
    "        print('누군가 소속되었습니다: ', self.community_space)\n",
    "        print(someone.greeting())\n",
    "        \n",
    "class Person:\n",
    "    def greeting(self):\n",
    "        print('안녕하세요.')"
   ]
  },
  {
   "cell_type": "code",
   "execution_count": 77,
   "metadata": {
    "ExecuteTime": {
     "end_time": "2022-07-17T16:16:22.113110Z",
     "start_time": "2022-07-17T16:16:22.100113Z"
    }
   },
   "outputs": [
    {
     "name": "stdout",
     "output_type": "stream",
     "text": [
      "누군가 소속되었습니다:  [<__main__.Person object at 0x0000027CD02642E0>]\n",
      "안녕하세요.\n",
      "None\n"
     ]
    }
   ],
   "source": [
    "Korea = Community()    # 커뮤니티 인스턴스 생성\n",
    "KK = Person()    # 사람 인스턴스 생성\n",
    "Korea.append_someone(KK)    # 커뮤니티는 새로운 구성원(사람)을 추가"
   ]
  },
  {
   "cell_type": "markdown",
   "metadata": {},
   "source": [
    "- **Question:** (1) 본인 이름의 이니셜로 `Person 인스턴스를 생성`하고 (2) `Korea 커뮤니티에 포함`시켜서 위와 같은 결과를 출력하시오"
   ]
  },
  {
   "cell_type": "code",
   "execution_count": null,
   "metadata": {
    "ExecuteTime": {
     "end_time": "2021-10-04T12:02:32.815608Z",
     "start_time": "2021-10-04T12:02:32.810622Z"
    }
   },
   "outputs": [],
   "source": []
  },
  {
   "cell_type": "markdown",
   "metadata": {},
   "source": [
    "## 부모클래스 속성 불러오기\n",
    "\n",
    "> **이슈:** 상속시, 부모클래스의 `메서드는 전달`이 되도 `속성은 바로 전달되지 않음`\n",
    ">\n",
    "> - **방법1:** `super()`로 부모클래스를 초기화(생성자 실행)\n",
    "> - **방법2:** `자식클래스에서 __init__ 생략`하면 `부모클래스의 __init__` 자동호출되어 초기화(생성자 실행)"
   ]
  },
  {
   "cell_type": "code",
   "execution_count": 78,
   "metadata": {
    "ExecuteTime": {
     "end_time": "2022-07-17T16:16:22.128110Z",
     "start_time": "2022-07-17T16:16:22.114110Z"
    }
   },
   "outputs": [
    {
     "name": "stdout",
     "output_type": "stream",
     "text": [
      "안녕하세요.\n",
      "공부하기\n"
     ]
    },
    {
     "data": {
      "text/plain": [
       "'Study'"
      ]
     },
     "execution_count": 78,
     "metadata": {},
     "output_type": "execute_result"
    }
   ],
   "source": [
    "# 자식클래스에서 부모클래스의 메서드 사용은 가능했음\n",
    "class Person:\n",
    "    def greeting(self):\n",
    "        print('안녕하세요.')\n",
    "        self.hello = 'Hi'\n",
    " \n",
    "class Student(Person):\n",
    "    def study(self):\n",
    "        print('공부하기')\n",
    "        self.study = 'Study'\n",
    "                \n",
    "KK = Student()\n",
    "KK.greeting()    # 부모클래스 메서드 출력\n",
    "KK.study()    # 자식클래스 메서드 출력\n",
    "KK.study"
   ]
  },
  {
   "cell_type": "code",
   "execution_count": 21,
   "metadata": {
    "ExecuteTime": {
     "end_time": "2022-07-18T08:35:39.516631Z",
     "start_time": "2022-07-18T08:35:39.497661Z"
    }
   },
   "outputs": [
    {
     "name": "stdout",
     "output_type": "stream",
     "text": [
      "공부하기\n",
      "Study\n"
     ]
    },
    {
     "ename": "AttributeError",
     "evalue": "'Student' object has no attribute 'hello'",
     "output_type": "error",
     "traceback": [
      "\u001b[1;31m---------------------------------------------------------------------------\u001b[0m",
      "\u001b[1;31mAttributeError\u001b[0m                            Traceback (most recent call last)",
      "Input \u001b[1;32mIn [21]\u001b[0m, in \u001b[0;36m<cell line: 14>\u001b[1;34m()\u001b[0m\n\u001b[0;32m     12\u001b[0m KK \u001b[38;5;241m=\u001b[39m Student()\n\u001b[0;32m     13\u001b[0m \u001b[38;5;28mprint\u001b[39m(KK\u001b[38;5;241m.\u001b[39mstudy)\n\u001b[1;32m---> 14\u001b[0m \u001b[43mKK\u001b[49m\u001b[38;5;241;43m.\u001b[39;49m\u001b[43mhello\u001b[49m\n",
      "\u001b[1;31mAttributeError\u001b[0m: 'Student' object has no attribute 'hello'"
     ]
    }
   ],
   "source": [
    "# 자식클래스에서 부모클래스의 속성은 사용불가\n",
    "class Person:\n",
    "    def __init__(self):    # 메서드 대신 속성 생성\n",
    "        print('안녕하세요.')\n",
    "        self.hello = 'Hi'\n",
    " \n",
    "class Student(Person):\n",
    "    def __init__(self):    # 메서드 대신 속성 생성\n",
    "        print('공부하기')\n",
    "        self.study = 'Study'\n",
    "        \n",
    "KK = Student()\n",
    "print(KK.study)\n",
    "# KK.hello"
   ]
  },
  {
   "cell_type": "code",
   "execution_count": 22,
   "metadata": {
    "ExecuteTime": {
     "end_time": "2022-07-18T08:37:41.815353Z",
     "start_time": "2022-07-18T08:37:41.794304Z"
    }
   },
   "outputs": [
    {
     "name": "stdout",
     "output_type": "stream",
     "text": [
      "안녕하세요.\n",
      "공부하기\n",
      "Study\n"
     ]
    },
    {
     "data": {
      "text/plain": [
       "'Hi'"
      ]
     },
     "execution_count": 22,
     "metadata": {},
     "output_type": "execute_result"
    }
   ],
   "source": [
    "# 방법1: super()로 부모클래스를 초기화\n",
    "class Person:\n",
    "    def __init__(self):\n",
    "        print('안녕하세요.')\n",
    "        self.hello = 'Hi'\n",
    " \n",
    "class Student(Person):\n",
    "    def __init__(self):\n",
    "        super().__init__()    # super()로 부모클래스의 __init__ 실행\n",
    "        print('공부하기')\n",
    "        self.study = 'Study'\n",
    "        \n",
    "KK = Student()\n",
    "print(KK.study)\n",
    "KK.hello"
   ]
  },
  {
   "cell_type": "code",
   "execution_count": 36,
   "metadata": {
    "ExecuteTime": {
     "end_time": "2022-07-18T08:44:28.885428Z",
     "start_time": "2022-07-18T08:44:28.864427Z"
    }
   },
   "outputs": [
    {
     "name": "stdout",
     "output_type": "stream",
     "text": [
      "안녕하세요.\n",
      "<bound method Student.study of <__main__.Student object at 0x000002A11D0450D0>>\n"
     ]
    },
    {
     "data": {
      "text/plain": [
       "'Hi'"
      ]
     },
     "execution_count": 36,
     "metadata": {},
     "output_type": "execute_result"
    }
   ],
   "source": [
    "# 방법2: 자식클래스에서 __init__ 생략하면 부모클래스의 __init__ 자동호출\n",
    "class Person:\n",
    "    def __init__(self):\n",
    "        print('안녕하세요.')\n",
    "        self.hello = 'Hi'\n",
    " \n",
    "class Student(Person):\n",
    "    def study(self):\n",
    "        print('공부하기')\n",
    "        self.study = 'Study'\n",
    "        \n",
    "KK = Student()\n",
    "print(KK.study)\n",
    "KK.hello"
   ]
  },
  {
   "cell_type": "code",
   "execution_count": 37,
   "metadata": {
    "ExecuteTime": {
     "end_time": "2022-07-18T08:45:04.537363Z",
     "start_time": "2022-07-18T08:45:04.530340Z"
    }
   },
   "outputs": [
    {
     "name": "stdout",
     "output_type": "stream",
     "text": [
      "공부하기\n"
     ]
    },
    {
     "data": {
      "text/plain": [
       "'Study'"
      ]
     },
     "execution_count": 37,
     "metadata": {},
     "output_type": "execute_result"
    }
   ],
   "source": [
    "# KK인스턴스의 메서드를 실행시킨 후 KK 인스턴스 속성이 생성\n",
    "KK.study()\n",
    "KK.study"
   ]
  },
  {
   "cell_type": "markdown",
   "metadata": {},
   "source": [
    "- **Question:** (1) 다음 코드의 `실행결과를 예상`해 보고 (2) 모든 클래스 객체 초기화(__init__)가 `한번씩만` 실행되도록 하려면 어떻게 해야 합니까?\n",
    "\n",
    "```python\n",
    "# A 상속 B&C 상속 D\n",
    "class A: \n",
    "    def __init__(self): \n",
    "        print(\"A 클래스의 생성자 호출!\") \n",
    "        \n",
    "class B(A): \n",
    "    def __init__(self): \n",
    "        print(\"B 클래스의 생성자 호출!\") \n",
    "        A.__init__(self) \n",
    "        \n",
    "class C(A): \n",
    "    def __init__(self): \n",
    "        print(\"C 클래스의 생성자 호출!\") \n",
    "        A.__init__(self) \n",
    "\n",
    "class D(B, C): \n",
    "    def __init__(self): \n",
    "        print(\"D 클래스의 생성자 호출!\") \n",
    "        B.__init__(self) \n",
    "        C.__init__(self)\n",
    "        \n",
    "KK = D()\n",
    "```"
   ]
  },
  {
   "cell_type": "code",
   "execution_count": 82,
   "metadata": {
    "ExecuteTime": {
     "end_time": "2022-07-17T16:16:22.219109Z",
     "start_time": "2022-07-17T16:16:22.205111Z"
    }
   },
   "outputs": [
    {
     "name": "stdout",
     "output_type": "stream",
     "text": [
      "D 클래스의 생성자 호출!\n",
      "B 클래스의 생성자 호출!\n",
      "A 클래스의 생성자 호출!\n",
      "C 클래스의 생성자 호출!\n",
      "A 클래스의 생성자 호출!\n"
     ]
    }
   ],
   "source": [
    "class A: \n",
    "    def __init__(self): \n",
    "        print(\"A 클래스의 생성자 호출!\") \n",
    "\n",
    "class B(A): \n",
    "    def __init__(self): \n",
    "        print(\"B 클래스의 생성자 호출!\") \n",
    "        A.__init__(self) \n",
    "\n",
    "class C(A): \n",
    "    def __init__(self): \n",
    "        print(\"C 클래스의 생성자 호출!\") \n",
    "        A.__init__(self) \n",
    "\n",
    "class D(B, C): \n",
    "    def __init__(self): \n",
    "        print(\"D 클래스의 생성자 호출!\") \n",
    "        B.__init__(self) \n",
    "        C.__init__(self)\n",
    "\n",
    "KK = D()"
   ]
  },
  {
   "cell_type": "markdown",
   "metadata": {},
   "source": [
    "## 메서드 중복 우선순위\n",
    "\n",
    "- **오버라이딩(Overriding):** `우선하다/무시하다` 라는 뜻으로 `상속받은 메서드를 우선`함"
   ]
  },
  {
   "cell_type": "code",
   "execution_count": 83,
   "metadata": {
    "ExecuteTime": {
     "end_time": "2022-07-17T16:16:22.235111Z",
     "start_time": "2022-07-17T16:16:22.221111Z"
    }
   },
   "outputs": [],
   "source": [
    "# 사람과 자식클래스인 학생 객체를 생성\n",
    "class Person:\n",
    "    def greeting(self):\n",
    "        print('안녕하세요.')\n",
    " \n",
    "class Student(Person):\n",
    "    def greeting(self):\n",
    "        print('안녕하세요. 저는 KK입니다.')"
   ]
  },
  {
   "cell_type": "code",
   "execution_count": 84,
   "metadata": {
    "ExecuteTime": {
     "end_time": "2022-07-17T16:16:22.250109Z",
     "start_time": "2022-07-17T16:16:22.237111Z"
    }
   },
   "outputs": [
    {
     "name": "stdout",
     "output_type": "stream",
     "text": [
      "안녕하세요. 저는 KK입니다.\n"
     ]
    }
   ],
   "source": [
    "# 자식 인스턴스를 생성 후 인사하기 출력\n",
    "# 부모와 자식 모두의 같은 메서드라면 생존율이 높을 자식 메서드를 우선 실행\n",
    "# 부모메서드의 존재 이유가 없어짐\n",
    "KK = Student()\n",
    "KK.greeting()"
   ]
  },
  {
   "cell_type": "markdown",
   "metadata": {},
   "source": [
    "- 상속을 받더라도 `유사하지만 새로운 기능이 추가`된 경우, `별도의 메서드를 추가`하여 동일한 메서드 이름으로 사용하되 `기능을 수정`하여 사용\n",
    "- 효과적인 사용은 `중복된 내용은 부모클래스에서 가져오는 것`"
   ]
  },
  {
   "cell_type": "code",
   "execution_count": 85,
   "metadata": {
    "ExecuteTime": {
     "end_time": "2022-07-17T16:16:22.265113Z",
     "start_time": "2022-07-17T16:16:22.251111Z"
    }
   },
   "outputs": [],
   "source": [
    "# 사람과 자식클래스인 학생 객체를 생성\n",
    "# 자식메서드가 부모메서드와 기능이 중복되는 경우 부모메서드를 효율적으로 사용\n",
    "class Person:\n",
    "    def greeting(self):\n",
    "        print('안녕하세요.')\n",
    " \n",
    "class Student(Person):\n",
    "    def greeting(self):\n",
    "        super().greeting()\n",
    "        print('저는 KK입니다.')"
   ]
  },
  {
   "cell_type": "code",
   "execution_count": 86,
   "metadata": {
    "ExecuteTime": {
     "end_time": "2022-07-17T16:16:22.281111Z",
     "start_time": "2022-07-17T16:16:22.267112Z"
    }
   },
   "outputs": [
    {
     "name": "stdout",
     "output_type": "stream",
     "text": [
      "안녕하세요.\n",
      "저는 KK입니다.\n"
     ]
    }
   ],
   "source": [
    "# 자식 인스턴스를 생성 후 인사하기 출력\n",
    "KK = Student()\n",
    "KK.greeting()"
   ]
  },
  {
   "cell_type": "code",
   "execution_count": 87,
   "metadata": {
    "ExecuteTime": {
     "end_time": "2022-07-17T16:16:22.296111Z",
     "start_time": "2022-07-17T16:16:22.283111Z"
    }
   },
   "outputs": [],
   "source": [
    "# 사람과 자식클래스인 회사원 객체를 생성\n",
    "class Person: \n",
    "    def __init__(self, name, age, gender): \n",
    "        self.Name = name \n",
    "        self.Age = age \n",
    "        self.Gender = gender \n",
    "    def aboutMe(self): \n",
    "        print(\"저의 이름은 \" + self.Name + \"이구요, 제 나이는 \" + self.Age + \"살 입니다.\")   \n",
    "\n",
    "class Employee(Person):\n",
    "    def __init__(self, name, age, gender, salary, hiredate):\n",
    "        Person.__init__(self, name, age, gender)    # 자식 속성의 일부를 부모 속성으로부터 전달받음\n",
    "        self.Salary = salary \n",
    "        self.Hiredate = hiredate \n",
    "    def aboutMe(self): \n",
    "        print(\"제 급여는 \" + self.Salary + \"원 이구요, 제 입사일은 \" + self.Hiredate + \" 입니다.\")"
   ]
  },
  {
   "cell_type": "code",
   "execution_count": 88,
   "metadata": {
    "ExecuteTime": {
     "end_time": "2022-07-17T16:16:22.311109Z",
     "start_time": "2022-07-17T16:16:22.299113Z"
    }
   },
   "outputs": [
    {
     "name": "stdout",
     "output_type": "stream",
     "text": [
      "제 급여는 10000원 이구요, 제 입사일은 2014년 3월 1일 입니다.\n"
     ]
    }
   ],
   "source": [
    "# 회사원 KK 인스턴스 생성 및 소개하기\n",
    "KK = Employee('김경원', '30', '남자', '10000', '2014년 3월 1일')\n",
    "KK.aboutMe()"
   ]
  },
  {
   "cell_type": "markdown",
   "metadata": {},
   "source": [
    "- **Question:** 위 결과에서 출력되지 않았던 `이름과 나이를 출력하기 위해`, 부모클래스인 Person의 aboutMe를 출력하려면 어떻게 수정해야 할까요?\n",
    "\n",
    "```python\n",
    "# 사람과 지식클래스인 회사원 객체를 생성\n",
    "\n",
    "\n",
    "\n",
    "# 회사원 KK 인스턴스 생성 및 소개하기\n",
    "KK = Employee('김경원', '30', '남자', '10000', '2014년 3월 1일')\n",
    "KK.aboutMe()\n",
    "\n",
    "# 예상 출력\n",
    "저의 이름은 김경원이구요, 제 나이는 30살 입니다.\n",
    "제 급여는 10000원 이구요, 제 입사일은 2014년 3월 1일 입니다.\n",
    "```"
   ]
  },
  {
   "cell_type": "code",
   "execution_count": null,
   "metadata": {},
   "outputs": [],
   "source": []
  },
  {
   "cell_type": "markdown",
   "metadata": {},
   "source": [
    "## 클래스 다중상속\n",
    "\n",
    "- `여러 부모클래스로부터 상속`을 받아 자식클래스 생성 가능\n",
    "\n",
    "```python\n",
    "class 아빠이름:\n",
    "    명령\n",
    " \n",
    "class 엄마이름:\n",
    "    명령\n",
    " \n",
    "class 자식클래스이름(아빠이름, 엄마이름):\n",
    "    명령\n",
    "```"
   ]
  },
  {
   "cell_type": "code",
   "execution_count": 89,
   "metadata": {
    "ExecuteTime": {
     "end_time": "2022-07-17T16:16:22.326110Z",
     "start_time": "2022-07-17T16:16:22.313111Z"
    }
   },
   "outputs": [],
   "source": [
    "# 사람과 대학교 클래스를 상속받은 대학생 클래스 생성\n",
    "class Person:\n",
    "    def greeting(self):\n",
    "        print('안녕하세요.')\n",
    " \n",
    "class University:\n",
    "    def manage_credit(self):\n",
    "        print('학점 관리')\n",
    " \n",
    "class Undergraduate(Person, University):\n",
    "    def study(self):\n",
    "        print('공부하기')"
   ]
  },
  {
   "cell_type": "code",
   "execution_count": 90,
   "metadata": {
    "ExecuteTime": {
     "end_time": "2022-07-17T16:16:22.341110Z",
     "start_time": "2022-07-17T16:16:22.327111Z"
    }
   },
   "outputs": [],
   "source": [
    "# 대학생 인스턴스 생성\n",
    "KK = Undergraduate()"
   ]
  },
  {
   "cell_type": "code",
   "execution_count": 91,
   "metadata": {
    "ExecuteTime": {
     "end_time": "2022-07-17T16:16:22.356109Z",
     "start_time": "2022-07-17T16:16:22.343112Z"
    }
   },
   "outputs": [
    {
     "name": "stdout",
     "output_type": "stream",
     "text": [
      "안녕하세요.\n",
      "학점 관리\n",
      "공부하기\n"
     ]
    }
   ],
   "source": [
    "KK.greeting()    # 상속받은 사람기능 실행\n",
    "KK.manage_credit()    # 상속받은 학점관리기능 실행\n",
    "KK.study()    # 대학생 기능 실행"
   ]
  },
  {
   "cell_type": "code",
   "execution_count": 92,
   "metadata": {
    "ExecuteTime": {
     "end_time": "2022-07-17T16:16:22.371111Z",
     "start_time": "2022-07-17T16:16:22.358112Z"
    }
   },
   "outputs": [],
   "source": [
    "# 부모1과 부모2를 상속받은 자식 클래스 정의\n",
    "class ParentOne: \n",
    "    def func(self): \n",
    "        print(\"ParentOne의 함수 호출!\") \n",
    "\n",
    "class ParentTwo: \n",
    "    def func(self): \n",
    "        print(\"ParentTwo의 함수 호출!\") \n",
    "        \n",
    "class Child(ParentOne, ParentTwo): \n",
    "    def childFunc(self): \n",
    "        ParentOne.func(self) \n",
    "        ParentTwo.func(self)"
   ]
  },
  {
   "cell_type": "code",
   "execution_count": 93,
   "metadata": {
    "ExecuteTime": {
     "end_time": "2022-07-17T16:16:22.386109Z",
     "start_time": "2022-07-17T16:16:22.373112Z"
    }
   },
   "outputs": [
    {
     "name": "stdout",
     "output_type": "stream",
     "text": [
      "ParentOne의 함수 호출!\n",
      "ParentTwo의 함수 호출!\n"
     ]
    }
   ],
   "source": [
    "# 자식 인스턴스 생성 후 자식의 기능 실행\n",
    "K = Child()\n",
    "K.childFunc()"
   ]
  },
  {
   "cell_type": "code",
   "execution_count": 94,
   "metadata": {
    "ExecuteTime": {
     "end_time": "2022-07-17T16:16:22.402109Z",
     "start_time": "2022-07-17T16:16:22.388112Z"
    }
   },
   "outputs": [
    {
     "name": "stdout",
     "output_type": "stream",
     "text": [
      "ParentOne의 함수 호출!\n"
     ]
    }
   ],
   "source": [
    "# 상속받은 부모의 메서드를 실행\n",
    "K.func()    # 상속해주는 부모클래스의 순서에 따라 결과에 영향"
   ]
  },
  {
   "cell_type": "markdown",
   "metadata": {},
   "source": [
    "- **Question:** (1) `본인 이름 이니셜`로 다중상속을 받은 인스턴스를 생성하고, (2) 하기 코드를 실행 결과를 확인하시오\n",
    "\n",
    "```python\n",
    "# 대학생 인스턴스 생성\n",
    "\n",
    "\n",
    "# 기능 출력\n",
    "본인이름이니셜.greeting()\n",
    "본인이름이니셜.manage_credit()\n",
    "본인이름이니셜.study()\n",
    "```"
   ]
  },
  {
   "cell_type": "code",
   "execution_count": null,
   "metadata": {
    "ExecuteTime": {
     "end_time": "2021-10-04T12:04:47.339993Z",
     "start_time": "2021-10-04T12:04:47.323009Z"
    }
   },
   "outputs": [],
   "source": []
  },
  {
   "cell_type": "markdown",
   "metadata": {},
   "source": [
    "- **Question:** 리스트에 기능을 추가하는 인스턴스를 생성 후 결과를 확인하시오\n",
    "\n",
    "```python\n",
    "# 내장함수인 `list를 부모클래스로 상속`받아 AdvList 자식클래스를 생성\n",
    "# 기존 값 대신 `새로운 값으로 변경하는 메서드` 생성\n",
    "\n",
    "\n",
    "# 자식 인스턴스 생성 + 값 변경 + 인스턴스 출력\n",
    "x = AdvList([1, 2, 3, 1, 2, 3, 1, 2, 3])\n",
    "x.replace(1, 100)\n",
    "print(x)\n",
    "\n",
    "\n",
    "# 예상 출력\n",
    "[100, 2, 3, 100, 2, 3, 100, 2, 3]\n",
    "```"
   ]
  },
  {
   "cell_type": "code",
   "execution_count": null,
   "metadata": {},
   "outputs": [],
   "source": []
  },
  {
   "cell_type": "markdown",
   "metadata": {},
   "source": [
    "## 데코레이터 활용\n",
    "\n",
    "- 클래스의 함수를 `장식한다`는 의미지만, 실제 사용은 `함수를 수정하지 않고 추가기능을 구현`할 때 사용\n",
    "- `함수를 인수로 입력`받아 `새로운 함수를 출력`"
   ]
  },
  {
   "cell_type": "code",
   "execution_count": 95,
   "metadata": {
    "ExecuteTime": {
     "end_time": "2022-07-17T16:16:22.417111Z",
     "start_time": "2022-07-17T16:16:22.404112Z"
    }
   },
   "outputs": [],
   "source": [
    "# 인사기능과 세계기능 정의\n",
    "def hello():\n",
    "    print('hello 함수 시작')\n",
    "    print('hello')\n",
    "    print('hello 함수 끝')\n",
    " \n",
    "def world():\n",
    "    print('world 함수 시작')\n",
    "    print('world')\n",
    "    print('world 함수 끝')"
   ]
  },
  {
   "cell_type": "code",
   "execution_count": 96,
   "metadata": {
    "ExecuteTime": {
     "end_time": "2022-07-17T16:16:22.433114Z",
     "start_time": "2022-07-17T16:16:22.420117Z"
    }
   },
   "outputs": [
    {
     "name": "stdout",
     "output_type": "stream",
     "text": [
      "hello 함수 시작\n",
      "hello\n",
      "hello 함수 끝\n"
     ]
    }
   ],
   "source": [
    "# 인사기능 실행\n",
    "hello()"
   ]
  },
  {
   "cell_type": "code",
   "execution_count": 97,
   "metadata": {
    "ExecuteTime": {
     "end_time": "2022-07-17T16:16:22.449111Z",
     "start_time": "2022-07-17T16:16:22.437113Z"
    }
   },
   "outputs": [
    {
     "name": "stdout",
     "output_type": "stream",
     "text": [
      "world 함수 시작\n",
      "world\n",
      "world 함수 끝\n"
     ]
    }
   ],
   "source": [
    "# 세계기능 실행\n",
    "world()"
   ]
  },
  {
   "cell_type": "code",
   "execution_count": 98,
   "metadata": {
    "ExecuteTime": {
     "end_time": "2022-07-17T16:16:22.464111Z",
     "start_time": "2022-07-17T16:16:22.451111Z"
    }
   },
   "outputs": [],
   "source": [
    "# 함수가 많아지면 print 함수를 반복하지 않고 데코레이터 사용가능\n",
    "def trace(func):    # 호출할 함수를 매개변수로 받음\n",
    "    def wrapper():    # 호출할 함수를 감싸는 함수\n",
    "        print(func.__name__, '함수 시작')    # __name__으로 함수 이름 출력\n",
    "        func()   # 매개변수로 받은 함수를 호출\n",
    "        print(func.__name__, '함수 끝')\n",
    "    return wrapper    # wrapper 함수 반환\n",
    "\n",
    "def hello():\n",
    "    print('hello')\n",
    "    \n",
    "def world():\n",
    "    print('world')"
   ]
  },
  {
   "cell_type": "code",
   "execution_count": 99,
   "metadata": {
    "ExecuteTime": {
     "end_time": "2022-07-17T16:16:22.479110Z",
     "start_time": "2022-07-17T16:16:22.466111Z"
    }
   },
   "outputs": [
    {
     "name": "stdout",
     "output_type": "stream",
     "text": [
      "hello 함수 시작\n",
      "hello\n",
      "hello 함수 끝\n"
     ]
    }
   ],
   "source": [
    "KK_hello = trace(hello)    # 데코레이터에 호출할 함수를 넣음 + 아직 wrapper가 실행되진 않음\n",
    "KK_hello()    # wrapper 실행"
   ]
  },
  {
   "cell_type": "code",
   "execution_count": 100,
   "metadata": {
    "ExecuteTime": {
     "end_time": "2022-07-17T16:16:22.494110Z",
     "start_time": "2022-07-17T16:16:22.480111Z"
    }
   },
   "outputs": [
    {
     "name": "stdout",
     "output_type": "stream",
     "text": [
      "world 함수 시작\n",
      "world\n",
      "world 함수 끝\n"
     ]
    }
   ],
   "source": [
    "KK_world = trace(world)    # 데코레이터에 호출할 함수를 넣음 + 아직 wrapper가 실행되진 않음\n",
    "KK_world()    # wrapper 실행"
   ]
  },
  {
   "cell_type": "markdown",
   "metadata": {},
   "source": [
    "- `@`기호로 데코레이터 호출 시, 좀더 `간편한 방식으로 메서드 사용` 가능"
   ]
  },
  {
   "cell_type": "code",
   "execution_count": 101,
   "metadata": {
    "ExecuteTime": {
     "end_time": "2022-07-17T16:16:22.510109Z",
     "start_time": "2022-07-17T16:16:22.497111Z"
    }
   },
   "outputs": [],
   "source": [
    "# 함수가 많아지면 print 함수를 반복하지 않고 데코레이터 사용가능\n",
    "def trace(func):    # 호출할 함수를 매개변수로 받음\n",
    "    def wrapper():    # 호출할 함수를 감싸는 함수\n",
    "        print(func.__name__, '함수 시작')    # __name__으로 함수 이름 출력\n",
    "        func()   # 매개변수로 받은 함수를 호출\n",
    "        print(func.__name__, '함수 끝')\n",
    "    return wrapper    # wrapper 함수 반환\n",
    "\n",
    "@trace\n",
    "def hello():\n",
    "    print('hello')\n",
    "    \n",
    "def world():\n",
    "    print('world')"
   ]
  },
  {
   "cell_type": "code",
   "execution_count": 102,
   "metadata": {
    "ExecuteTime": {
     "end_time": "2022-07-17T16:16:22.525110Z",
     "start_time": "2022-07-17T16:16:22.511112Z"
    }
   },
   "outputs": [
    {
     "name": "stdout",
     "output_type": "stream",
     "text": [
      "hello 함수 시작\n",
      "hello\n",
      "hello 함수 끝\n"
     ]
    }
   ],
   "source": [
    "hello()    # wrapper 생성 없이 hello 함수 기능만 사용하면 끝"
   ]
  },
  {
   "cell_type": "code",
   "execution_count": 103,
   "metadata": {
    "ExecuteTime": {
     "end_time": "2022-07-17T16:16:22.540112Z",
     "start_time": "2022-07-17T16:16:22.526111Z"
    }
   },
   "outputs": [
    {
     "name": "stdout",
     "output_type": "stream",
     "text": [
      "world 함수 시작\n",
      "world\n",
      "world 함수 끝\n"
     ]
    }
   ],
   "source": [
    "# @ 데코레이션이 없는 경우 wrapper 생성과정 존재\n",
    "KK_world = trace(world)    # 데코레이터에 호출할 함수를 넣음 + 아직 wrapper가 실행되진 않음\n",
    "KK_world()    # wrapper 실행"
   ]
  },
  {
   "cell_type": "markdown",
   "metadata": {},
   "source": [
    "- 데코레이터는 `여러개 지정 가능`하며 `위에서 부터 순서대로 함수를 거쳐 출력`됨\n",
    "\n",
    "```python\n",
    "@데코레이터1\n",
    "@데코레이터2\n",
    "def 함수이름():\n",
    "    명령\n",
    "```"
   ]
  },
  {
   "cell_type": "code",
   "execution_count": 104,
   "metadata": {
    "ExecuteTime": {
     "end_time": "2022-07-17T16:16:22.555110Z",
     "start_time": "2022-07-17T16:16:22.541111Z"
    }
   },
   "outputs": [
    {
     "name": "stdout",
     "output_type": "stream",
     "text": [
      "decorator1\n",
      "decorator2\n",
      "hello\n"
     ]
    }
   ],
   "source": [
    "def decorator1(func):\n",
    "    def wrapper():\n",
    "        print('decorator1')\n",
    "        func()\n",
    "    return wrapper\n",
    " \n",
    "def decorator2(func):\n",
    "    def wrapper():\n",
    "        print('decorator2')\n",
    "        func()\n",
    "    return wrapper\n",
    " \n",
    "# 데코레이터를 여러 개 함수를 거치도록 생성\n",
    "@decorator1\n",
    "@decorator2\n",
    "def hello():\n",
    "    print('hello')\n",
    " \n",
    "hello()"
   ]
  },
  {
   "cell_type": "code",
   "execution_count": 105,
   "metadata": {
    "ExecuteTime": {
     "end_time": "2022-07-17T16:16:22.570109Z",
     "start_time": "2022-07-17T16:16:22.556112Z"
    }
   },
   "outputs": [
    {
     "name": "stdout",
     "output_type": "stream",
     "text": [
      "decorator1\n",
      "decorator2\n",
      "hello\n"
     ]
    }
   ],
   "source": [
    "# @ 데코레이터를 사용하지 않았을 때와 같은 결과 출력\n",
    "def decorator1(func):\n",
    "    def wrapper():\n",
    "        print('decorator1')\n",
    "        func()\n",
    "    return wrapper\n",
    " \n",
    "def decorator2(func):\n",
    "    def wrapper():\n",
    "        print('decorator2')\n",
    "        func()\n",
    "    return wrapper\n",
    " \n",
    "def hello():\n",
    "    print('hello')\n",
    "    \n",
    "KK_hello = decorator1(decorator2(hello))\n",
    "KK_hello()"
   ]
  },
  {
   "cell_type": "markdown",
   "metadata": {},
   "source": [
    "- `매개변수로 값을 입력`받는 함수도 데코레이터로 입력되어 출력 가능"
   ]
  },
  {
   "cell_type": "code",
   "execution_count": 106,
   "metadata": {
    "ExecuteTime": {
     "end_time": "2022-07-17T16:16:22.585108Z",
     "start_time": "2022-07-17T16:16:22.571110Z"
    }
   },
   "outputs": [
    {
     "name": "stdout",
     "output_type": "stream",
     "text": [
      "add(a=10, b=20) -> 30\n"
     ]
    },
    {
     "data": {
      "text/plain": [
       "30"
      ]
     },
     "execution_count": 106,
     "metadata": {},
     "output_type": "execute_result"
    }
   ],
   "source": [
    "def trace(func):          # 호출할 함수를 매개변수로 받음\n",
    "    def wrapper(a, b):    # 호출할 함수 add(a, b)의 매개변수와 똑같이 지정\n",
    "        r = func(a, b)    # func에 매개변수 a, b를 넣어서 호출하고 반환값을 변수에 저장\n",
    "        print('{0}(a={1}, b={2}) -> {3}'.format(func.__name__, a, b, r))  # 매개변수와 반환값 출력\n",
    "        return r          # func의 반환값을 반환\n",
    "    return wrapper        # wrapper 함수 반환\n",
    " \n",
    "@trace              # @데코레이터\n",
    "def add(a, b):      # 매개변수는 두 개\n",
    "    return a + b    # 매개변수 두 개를 더해서 반환\n",
    " \n",
    "add(10, 20)"
   ]
  },
  {
   "cell_type": "code",
   "execution_count": 107,
   "metadata": {
    "ExecuteTime": {
     "end_time": "2022-07-17T16:16:22.600111Z",
     "start_time": "2022-07-17T16:16:22.586110Z"
    }
   },
   "outputs": [
    {
     "name": "stdout",
     "output_type": "stream",
     "text": [
      "add(a=10, b=20) -> 30\n"
     ]
    }
   ],
   "source": [
    "# wrapper의 return이 없으면 add 함수의 출력이 실행되지 않음\n",
    "def trace(func):          # 호출할 함수를 매개변수로 받음\n",
    "    def wrapper(a, b):    # 호출할 함수 add(a, b)의 매개변수와 똑같이 지정\n",
    "        r = func(a, b)    # func에 매개변수 a, b를 넣어서 호출하고 반환값을 변수에 저장\n",
    "        print('{0}(a={1}, b={2}) -> {3}'.format(func.__name__, a, b, r))  # 매개변수와 반환값 출력\n",
    "#         return r          # func의 반환값을 반환\n",
    "    return wrapper        # wrapper 함수 반환\n",
    " \n",
    "@trace              # @데코레이터\n",
    "def add(a, b):      # 매개변수는 두 개\n",
    "    return a + b    # 매개변수 두 개를 더해서 반환\n",
    " \n",
    "add(10,20)"
   ]
  },
  {
   "cell_type": "code",
   "execution_count": 108,
   "metadata": {
    "ExecuteTime": {
     "end_time": "2022-07-17T16:16:22.615110Z",
     "start_time": "2022-07-17T16:16:22.602112Z"
    }
   },
   "outputs": [
    {
     "name": "stdout",
     "output_type": "stream",
     "text": [
      "add(a=10, b=20) -> 30\n"
     ]
    }
   ],
   "source": [
    "# 실제 add 함수는 return이 있더라도 add 기능은 wrapper 내에서만 제한적으로 작동\n",
    "test = add(10, 20)\n",
    "test"
   ]
  },
  {
   "cell_type": "markdown",
   "metadata": {},
   "source": [
    "- `아규먼트 인수 및 딕셔너리 인수`를 데코레이터에 적용 가능"
   ]
  },
  {
   "cell_type": "code",
   "execution_count": 109,
   "metadata": {
    "ExecuteTime": {
     "end_time": "2022-07-17T16:16:22.630109Z",
     "start_time": "2022-07-17T16:16:22.618122Z"
    }
   },
   "outputs": [],
   "source": [
    "def trace(func):                     # 호출할 함수를 매개변수로 받음\n",
    "    def wrapper(*args, **kwargs):    # 가변 인수 함수로 만듦\n",
    "        r = func(*args, **kwargs)    # func에 args, kwargs를 언패킹하여 넣어줌\n",
    "        print('{0}(args={1}, kwargs={2}) -> {3}'.format(func.__name__, args, kwargs, r))\n",
    "                                     # 매개변수와 반환값 출력\n",
    "        return r                     # func의 반환값을 반환\n",
    "    return wrapper                   # wrapper 함수 반환\n",
    " \n",
    "@trace                   # @데코레이터\n",
    "def get_max(*args):      # 위치 인수를 사용하는 가변 인수 함수\n",
    "    return max(args)\n",
    " \n",
    "@trace                   # @데코레이터\n",
    "def get_min(**kwargs):   # 키워드 인수를 사용하는 가변 인수 함수\n",
    "    return min(kwargs.values())\n",
    "\n",
    "@trace              # @데코레이터\n",
    "def add(a, b):      # 매개변수는 두 개\n",
    "    return a + b    # 매개변수 두 개를 더해서 반환"
   ]
  },
  {
   "cell_type": "code",
   "execution_count": 110,
   "metadata": {
    "ExecuteTime": {
     "end_time": "2022-07-17T16:16:22.645112Z",
     "start_time": "2022-07-17T16:16:22.632111Z"
    }
   },
   "outputs": [
    {
     "name": "stdout",
     "output_type": "stream",
     "text": [
      "get_max(args=(10, 20), kwargs={}) -> 20\n"
     ]
    },
    {
     "data": {
      "text/plain": [
       "20"
      ]
     },
     "execution_count": 110,
     "metadata": {},
     "output_type": "execute_result"
    }
   ],
   "source": [
    "# 아규먼트 인수 결과 출력\n",
    "get_max(10,20)"
   ]
  },
  {
   "cell_type": "code",
   "execution_count": 111,
   "metadata": {
    "ExecuteTime": {
     "end_time": "2022-07-17T16:16:22.660109Z",
     "start_time": "2022-07-17T16:16:22.647110Z"
    }
   },
   "outputs": [
    {
     "name": "stdout",
     "output_type": "stream",
     "text": [
      "get_min(args=(), kwargs={'x': 10, 'y': 20, 'z': 30}) -> 10\n"
     ]
    },
    {
     "data": {
      "text/plain": [
       "10"
      ]
     },
     "execution_count": 111,
     "metadata": {},
     "output_type": "execute_result"
    }
   ],
   "source": [
    "# 딕셔너리 인수 결과 출력\n",
    "get_min(x=10, y=20, z=30)"
   ]
  },
  {
   "cell_type": "code",
   "execution_count": 112,
   "metadata": {
    "ExecuteTime": {
     "end_time": "2022-07-17T16:16:22.675109Z",
     "start_time": "2022-07-17T16:16:22.662112Z"
    }
   },
   "outputs": [
    {
     "name": "stdout",
     "output_type": "stream",
     "text": [
      "add(args=(10, 20), kwargs={}) -> 30\n"
     ]
    },
    {
     "data": {
      "text/plain": [
       "30"
      ]
     },
     "execution_count": 112,
     "metadata": {},
     "output_type": "execute_result"
    }
   ],
   "source": [
    "# 대부분의 함수처럼 여러개의 매개변수도 아규먼트 또는 딕셔너리로 인식하여 결과 출력\n",
    "add(10,20)"
   ]
  },
  {
   "cell_type": "markdown",
   "metadata": {},
   "source": [
    "- `클래스`에서 데코레이션을 사용하기 위해서는 `self`를 매개변수로 `반드시 반영`해야 함"
   ]
  },
  {
   "cell_type": "code",
   "execution_count": 113,
   "metadata": {
    "ExecuteTime": {
     "end_time": "2022-07-17T16:16:22.690110Z",
     "start_time": "2022-07-17T16:16:22.676111Z"
    }
   },
   "outputs": [],
   "source": [
    "# trace 함수 정의 및 Calc 클래스의 add 함수를 trace에 데코레이션하여 정의\n",
    "def trace(func):\n",
    "    def wrapper(self, a, b):   # 호출할 함수가 인스턴스 메서드이므로 첫 번째 매개변수는 self로 지정\n",
    "        r = func(self, a, b)   # self와 매개변수를 그대로 넣어줌\n",
    "        print('{0}(a={1}, b={2}) -> {3}'.format(func.__name__, a, b, r))   # 매개변수와 반환값 출력\n",
    "        return r               # func의 반환값을 반환\n",
    "    return wrapper\n",
    " \n",
    "class Calc:\n",
    "    @trace\n",
    "    def add(self, a, b):    # add는 인스턴스 메서드\n",
    "        return a + b"
   ]
  },
  {
   "cell_type": "code",
   "execution_count": 114,
   "metadata": {
    "ExecuteTime": {
     "end_time": "2022-07-17T16:16:22.705109Z",
     "start_time": "2022-07-17T16:16:22.691110Z"
    }
   },
   "outputs": [
    {
     "name": "stdout",
     "output_type": "stream",
     "text": [
      "add(a=10, b=20) -> 30\n"
     ]
    },
    {
     "data": {
      "text/plain": [
       "30"
      ]
     },
     "execution_count": 114,
     "metadata": {},
     "output_type": "execute_result"
    }
   ],
   "source": [
    "# 계산기라는 이름의 인스턴스 생성 후 add 기능 실행\n",
    "# 독립적 함수가 아닌 클래스 메서드로 실행\n",
    "calculator = Calc()\n",
    "calculator.add(10,20)"
   ]
  },
  {
   "cell_type": "markdown",
   "metadata": {},
   "source": [
    "- 반대로 특정 함수를, 다른 메서드가 아닌 `다른 클래스에 데코레이션` 할 수 있음\n",
    "- `self 매개변수 필수`일 뿐 아니라 `클래스 내부에서 __call__ 메서드로 구현`해야 함"
   ]
  },
  {
   "cell_type": "code",
   "execution_count": 115,
   "metadata": {
    "ExecuteTime": {
     "end_time": "2022-07-17T16:16:22.720108Z",
     "start_time": "2022-07-17T16:16:22.706110Z"
    }
   },
   "outputs": [],
   "source": [
    "# 클래스 객체 정의 및 hello 함수를 class에 데코레이션하여 정의\n",
    "class Trace:\n",
    "    def __init__(self, func):    # 호출할 함수를 인스턴스의 초깃값으로 받음\n",
    "        self.func = func         # 호출할 함수를 속성 func에 저장\n",
    " \n",
    "    def __call__(self):\n",
    "        print(self.func.__name__, '함수 시작')    # __name__으로 함수 이름 출력\n",
    "        self.func()                               # 속성 func에 저장된 함수를 호출\n",
    "        print(self.func.__name__, '함수 끝')\n",
    " \n",
    "@Trace    # @데코레이터\n",
    "def hello():\n",
    "    print('hello')"
   ]
  },
  {
   "cell_type": "code",
   "execution_count": 116,
   "metadata": {
    "ExecuteTime": {
     "end_time": "2022-07-17T16:16:22.735110Z",
     "start_time": "2022-07-17T16:16:22.721112Z"
    }
   },
   "outputs": [
    {
     "name": "stdout",
     "output_type": "stream",
     "text": [
      "hello 함수 시작\n",
      "hello\n",
      "hello 함수 끝\n"
     ]
    }
   ],
   "source": [
    "# 클래스의 __call__을 통해 실행\n",
    "hello()"
   ]
  },
  {
   "cell_type": "code",
   "execution_count": 117,
   "metadata": {
    "ExecuteTime": {
     "end_time": "2022-07-17T16:16:22.750158Z",
     "start_time": "2022-07-17T16:16:22.737111Z"
    }
   },
   "outputs": [],
   "source": [
    "# 클래스 객체 정의 및 hello 함수 별도 정의\n",
    "class Trace:\n",
    "    def __init__(self, func):    # 호출할 함수를 인스턴스의 초깃값으로 받음\n",
    "        self.func = func         # 호출할 함수를 속성 func에 저장\n",
    " \n",
    "    def __call__(self):\n",
    "        print(self.func.__name__, '함수 시작')    # __name__으로 함수 이름 출력\n",
    "        self.func()                               # 속성 func에 저장된 함수를 호출\n",
    "        print(self.func.__name__, '함수 끝')\n",
    " \n",
    "def hello():\n",
    "    print('hello')"
   ]
  },
  {
   "cell_type": "code",
   "execution_count": 118,
   "metadata": {
    "ExecuteTime": {
     "end_time": "2022-07-17T16:16:22.765155Z",
     "start_time": "2022-07-17T16:16:22.754116Z"
    }
   },
   "outputs": [
    {
     "name": "stdout",
     "output_type": "stream",
     "text": [
      "hello 함수 시작\n",
      "hello\n",
      "hello 함수 끝\n"
     ]
    }
   ],
   "source": [
    "# 데코레이션 미사용으로 위 결과와 동일하려면 \n",
    "# wrapper 생성하는 것처럼 함수를 마치 상속받아 인스턴스 생성하는 과정 필요\n",
    "KK_hello = Trace(hello)\n",
    "KK_hello()    # 생성한 인스턴스 생성 후 호출하면, __init__ / __call__ 호출됨"
   ]
  },
  {
   "cell_type": "code",
   "execution_count": 119,
   "metadata": {
    "ExecuteTime": {
     "end_time": "2022-07-17T16:16:22.780141Z",
     "start_time": "2022-07-17T16:16:22.767113Z"
    }
   },
   "outputs": [],
   "source": [
    "# 클래스 객체 정의 및 add 함수를 class에 데코레이션하여 정의\n",
    "class Trace:\n",
    "    def __init__(self, func):    # 호출할 함수를 인스턴스의 초깃값으로 받음\n",
    "        self.func = func         # 호출할 함수를 속성 func에 저장\n",
    " \n",
    "    def __call__(self, *args, **kwargs):    # 호출할 함수의 매개변수를 처리\n",
    "        r = self.func(*args, **kwargs) # self.func에 매개변수를 넣어서 호출하고 반환값을 변수에 저장\n",
    "        print('{0}(args={1}, kwargs={2}) -> {3}'.format(self.func.__name__, args, kwargs, r))\n",
    "                                            # 매개변수와 반환값 출력\n",
    "        return r                            # self.func의 반환값을 반환\n",
    " \n",
    "@Trace    # @데코레이터\n",
    "def add(a, b):\n",
    "    return a + b"
   ]
  },
  {
   "cell_type": "code",
   "execution_count": 120,
   "metadata": {
    "ExecuteTime": {
     "end_time": "2022-07-17T16:16:22.795142Z",
     "start_time": "2022-07-17T16:16:22.782111Z"
    }
   },
   "outputs": [
    {
     "name": "stdout",
     "output_type": "stream",
     "text": [
      "add(args=(10, 20), kwargs={}) -> 30\n"
     ]
    },
    {
     "data": {
      "text/plain": [
       "30"
      ]
     },
     "execution_count": 120,
     "metadata": {},
     "output_type": "execute_result"
    }
   ],
   "source": [
    "# 대부분의 함수처럼 여러개의 매개변수도 아규먼트 또는 딕셔너리로 인식하여 결과 출력\n",
    "add(10, 20)"
   ]
  },
  {
   "cell_type": "code",
   "execution_count": 121,
   "metadata": {
    "ExecuteTime": {
     "end_time": "2022-07-17T16:16:22.810141Z",
     "start_time": "2022-07-17T16:16:22.797111Z"
    }
   },
   "outputs": [
    {
     "name": "stdout",
     "output_type": "stream",
     "text": [
      "add(args=(), kwargs={'a': 10, 'b': 20}) -> 30\n"
     ]
    },
    {
     "data": {
      "text/plain": [
       "30"
      ]
     },
     "execution_count": 121,
     "metadata": {},
     "output_type": "execute_result"
    }
   ],
   "source": [
    "# 대부분의 함수처럼 여러개의 매개변수도 아규먼트 또는 딕셔너리로 인식하여 결과 출력\n",
    "add(a=10, b=20)"
   ]
  },
  {
   "cell_type": "markdown",
   "metadata": {},
   "source": [
    "- 데코레이터는 `인수를 입력` 받을 수 있음\n",
    "- 입력받은 인수는 클래스 내 `__init__`에서 초기화의 `입력 매개변수로 인식`\n",
    "\n",
    "```python\n",
    "@데코레이터(인수)\n",
    "def 함수이름():\n",
    "    명령\n",
    "```"
   ]
  },
  {
   "cell_type": "code",
   "execution_count": null,
   "metadata": {},
   "outputs": [],
   "source": [
    "KK = IsMultiple(3)"
   ]
  },
  {
   "cell_type": "code",
   "execution_count": 122,
   "metadata": {
    "ExecuteTime": {
     "end_time": "2022-07-17T16:16:22.825141Z",
     "start_time": "2022-07-17T16:16:22.812110Z"
    }
   },
   "outputs": [],
   "source": [
    "# 클래스 객체 정의 및 add 함수를 class에 데코레이션하여 정의\n",
    "# 데코레이션은 3을 인수로 입력 받음\n",
    "class IsMultiple:\n",
    "    def __init__(self, x):         # 데코레이터가 사용할 매개변수를 초깃값으로 받음\n",
    "        self.x = x                 # 매개변수를 속성 x에 저장\n",
    " \n",
    "    def __call__(self, func):      # 호출할 함수를 매개변수로 받음\n",
    "        def wrapper(a, b):         # 호출할 함수의 매개변수와 똑같이 지정(가변 인수로 작성해도 됨)\n",
    "            r = func(a, b)         # func를 호출하고 반환값을 변수에 저장\n",
    "            if r % self.x == 0:    # func의 반환값이 self.x의 배수인지 확인\n",
    "                print('{0}의 반환값은 {1}의 배수입니다.'.format(func.__name__, self.x))\n",
    "            else:\n",
    "                print('{0}의 반환값은 {1}의 배수가 아닙니다.'.format(func.__name__, self.x))\n",
    "            return r               # func의 반환값을 반환\n",
    "        return wrapper             # wrapper 함수 반환\n",
    " \n",
    "@IsMultiple(3)    # 데코레이터(인수)\n",
    "def add(a, b):\n",
    "    return a + b"
   ]
  },
  {
   "cell_type": "code",
   "execution_count": 123,
   "metadata": {
    "ExecuteTime": {
     "end_time": "2022-07-17T16:16:22.840141Z",
     "start_time": "2022-07-17T16:16:22.826113Z"
    }
   },
   "outputs": [
    {
     "name": "stdout",
     "output_type": "stream",
     "text": [
      "add의 반환값은 3의 배수입니다.\n"
     ]
    },
    {
     "data": {
      "text/plain": [
       "30"
      ]
     },
     "execution_count": 123,
     "metadata": {},
     "output_type": "execute_result"
    }
   ],
   "source": [
    "# 데코레이터 인수가 클래스 속성으로 초기화되어 작동\n",
    "add(10, 20)"
   ]
  },
  {
   "cell_type": "code",
   "execution_count": 124,
   "metadata": {
    "ExecuteTime": {
     "end_time": "2022-07-17T16:16:22.855140Z",
     "start_time": "2022-07-17T16:16:22.841112Z"
    }
   },
   "outputs": [
    {
     "name": "stdout",
     "output_type": "stream",
     "text": [
      "add의 반환값은 3의 배수가 아닙니다.\n"
     ]
    },
    {
     "data": {
      "text/plain": [
       "7"
      ]
     },
     "execution_count": 124,
     "metadata": {},
     "output_type": "execute_result"
    }
   ],
   "source": [
    "# 데코레이터 인수가 클래스 속성으로 초기화되어 작동\n",
    "add(2, 5)"
   ]
  },
  {
   "cell_type": "markdown",
   "metadata": {},
   "source": [
    "## **예시:** 데이터분석 플랫폼 로봇 효율화"
   ]
  },
  {
   "cell_type": "code",
   "execution_count": 125,
   "metadata": {
    "ExecuteTime": {
     "end_time": "2022-07-17T16:16:22.870110Z",
     "start_time": "2022-07-17T16:16:22.857110Z"
    }
   },
   "outputs": [],
   "source": [
    "# @ 데코레이터를 사용하지 않았을 때와 같은 결과 출력\n",
    "# 데이터 로딩\n",
    "def data_loading(func):\n",
    "    def wrapper():\n",
    "        df = func('file_name.csv')\n",
    "        return df\n",
    "    return wrapper\n",
    " \n",
    "def data_preprocessing(func):\n",
    "    def wrapper():\n",
    "        train = df[df.year != pred_year]\n",
    "        test = df[df.year == pred_year]\n",
    "        Y_train = train[pred_prod]\n",
    "        X_train = train[[i for i in train.columns if i not in Y_train.columns]]\n",
    "        Y_test = test[pred_prod]\n",
    "        X_test = test[[i for i in test.columns if i not in Y_test.columns]]\n",
    "        return X_train, Y_train, X_test, Y_test\n",
    "    return wrapper\n",
    " \n",
    "@data_loading\n",
    "@data_preprocessing\n",
    "def DP():\n",
    "    print('Data Preprocessing COMPLETE!')\n",
    "    \n",
    "DP()"
   ]
  },
  {
   "cell_type": "code",
   "execution_count": 126,
   "metadata": {
    "ExecuteTime": {
     "end_time": "2022-07-17T16:16:22.885110Z",
     "start_time": "2022-07-17T16:16:22.872111Z"
    }
   },
   "outputs": [],
   "source": [
    "# 예측문제 해결 플랫폼 구축\n",
    "class Prediction_Sales:\n",
    "    # 대상 제품 설정\n",
    "    def __init__(self, target_product, target_year):\n",
    "        self.pred_prod = target_product\n",
    "        self.pred_year = target_year\n",
    "    \n",
    "    # 데이터 로딩\n",
    "    def data_loading(self):\n",
    "        df = pd.read_csv('file_name.csv')\n",
    "        \n",
    "    # 데이터 전처리\n",
    "    def data_preprocessing(self):\n",
    "        train = df[df.year != self.pred_year]\n",
    "        test = df[df.year == self.pred_year]\n",
    "        self.Y_train = train[self.pred_prod]\n",
    "        self.X_train = train[[i for i in train.columns if i not in self.Y_train.columns]]\n",
    "        self.Y_test = test[self.pred_prod]\n",
    "        self.X_test = test[[i for i in test.columns if i not in self.Y_test.columns]]\n",
    "        \n",
    "    # 모델링 고도화\n",
    "    def __call__(self, func):\n",
    "        def wrapper(Y_train, X_train):\n",
    "            model = func(Y_train, X_train).fit()\n",
    "            return model\n",
    "        return wrapper\n",
    "\n",
    "    # 성능검증\n",
    "    def evaluation(self):\n",
    "        self.mse_train = mean_squared_error(Y_train, Y_trpred)\n",
    "        self.mse_test = mean_squared_error(Y_test, Y_tepred)    \n",
    "\n",
    "    # 실제예측\n",
    "    def forecasting(self, X):\n",
    "        self.Y_pred = self.model.predict(X)\n",
    "        \n",
    "# 모델링\n",
    "@Prediction_Sales\n",
    "def modeling_sales(Y_train, X_train):\n",
    "    model = sm.OLS(self.Y_train, self.X_train).fit()\n",
    "    Y_trpred = model.predict(X_train)\n",
    "    Y_tepred = model.predict(X_test)\n",
    "    return Y_trpred, Y_tepred\n"
   ]
  }
 ],
 "metadata": {
  "hide_input": false,
  "kernelspec": {
   "display_name": "Python 3 (ipykernel)",
   "language": "python",
   "name": "python3"
  },
  "language_info": {
   "codemirror_mode": {
    "name": "ipython",
    "version": 3
   },
   "file_extension": ".py",
   "mimetype": "text/x-python",
   "name": "python",
   "nbconvert_exporter": "python",
   "pygments_lexer": "ipython3",
   "version": "3.11.4"
  },
  "toc": {
   "base_numbering": 1,
   "nav_menu": {},
   "number_sections": true,
   "sideBar": true,
   "skip_h1_title": false,
   "title_cell": "Table of Contents",
   "title_sidebar": "Contents",
   "toc_cell": false,
   "toc_position": {
    "height": "780px",
    "left": "310px",
    "top": "634.125px",
    "width": "393.292px"
   },
   "toc_section_display": true,
   "toc_window_display": true
  },
  "varInspector": {
   "cols": {
    "lenName": 16,
    "lenType": 16,
    "lenVar": 40
   },
   "kernels_config": {
    "python": {
     "delete_cmd_postfix": "",
     "delete_cmd_prefix": "del ",
     "library": "var_list.py",
     "varRefreshCmd": "print(var_dic_list())"
    },
    "r": {
     "delete_cmd_postfix": ") ",
     "delete_cmd_prefix": "rm(",
     "library": "var_list.r",
     "varRefreshCmd": "cat(var_dic_list()) "
    }
   },
   "position": {
    "height": "144.667px",
    "left": "1346.67px",
    "right": "20px",
    "top": "141px",
    "width": "350px"
   },
   "types_to_exclude": [
    "module",
    "function",
    "builtin_function_or_method",
    "instance",
    "_Feature"
   ],
   "window_display": false
  }
 },
 "nbformat": 4,
 "nbformat_minor": 4
}
